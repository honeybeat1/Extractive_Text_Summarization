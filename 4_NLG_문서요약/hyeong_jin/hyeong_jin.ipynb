{
  "nbformat": 4,
  "nbformat_minor": 0,
  "metadata": {
    "colab": {
      "name": "기업과제 4",
      "provenance": [],
      "collapsed_sections": [
        "7NQTQNZdTDuO"
      ],
      "machine_shape": "hm"
    },
    "kernelspec": {
      "name": "python3",
      "display_name": "Python 3"
    },
    "language_info": {
      "name": "python"
    },
    "accelerator": "GPU"
  },
  "cells": [
    {
      "cell_type": "markdown",
      "source": [
        "### 설정 + 필요한 모델 다운로드"
      ],
      "metadata": {
        "id": "gcDvXF_FGN9F"
      }
    },
    {
      "cell_type": "code",
      "source": [
        "!pip install konlpy"
      ],
      "metadata": {
        "colab": {
          "base_uri": "https://localhost:8080/"
        },
        "id": "eX_oPnfM62iN",
        "outputId": "406bfc8d-a4ab-4e6c-b91a-582dcacbc235"
      },
      "execution_count": 1,
      "outputs": [
        {
          "output_type": "stream",
          "name": "stdout",
          "text": [
            "Collecting konlpy\n",
            "  Downloading konlpy-0.6.0-py2.py3-none-any.whl (19.4 MB)\n",
            "\u001b[K     |████████████████████████████████| 19.4 MB 4.6 MB/s \n",
            "\u001b[?25hRequirement already satisfied: numpy>=1.6 in /usr/local/lib/python3.7/dist-packages (from konlpy) (1.21.5)\n",
            "Requirement already satisfied: lxml>=4.1.0 in /usr/local/lib/python3.7/dist-packages (from konlpy) (4.2.6)\n",
            "Collecting JPype1>=0.7.0\n",
            "  Downloading JPype1-1.3.0-cp37-cp37m-manylinux_2_5_x86_64.manylinux1_x86_64.whl (448 kB)\n",
            "\u001b[K     |████████████████████████████████| 448 kB 70.9 MB/s \n",
            "\u001b[?25hRequirement already satisfied: typing-extensions in /usr/local/lib/python3.7/dist-packages (from JPype1>=0.7.0->konlpy) (3.10.0.2)\n",
            "Installing collected packages: JPype1, konlpy\n",
            "Successfully installed JPype1-1.3.0 konlpy-0.6.0\n"
          ]
        }
      ]
    },
    {
      "cell_type": "code",
      "source": [
        "!pip install git+https://github.com/SKT-AI/KoBART #egg=kobart"
      ],
      "metadata": {
        "id": "sXS8BohW9mHg",
        "colab": {
          "base_uri": "https://localhost:8080/"
        },
        "outputId": "bcdbd049-b2d1-4b4a-a735-aa025f1b4e65"
      },
      "execution_count": 2,
      "outputs": [
        {
          "output_type": "stream",
          "name": "stdout",
          "text": [
            "Collecting git+https://github.com/SKT-AI/KoBART\n",
            "  Cloning https://github.com/SKT-AI/KoBART to /tmp/pip-req-build-zvprajqg\n",
            "  Running command git clone -q https://github.com/SKT-AI/KoBART /tmp/pip-req-build-zvprajqg\n",
            "Collecting boto3\n",
            "  Downloading boto3-1.21.24-py3-none-any.whl (132 kB)\n",
            "\u001b[K     |████████████████████████████████| 132 kB 4.1 MB/s \n",
            "\u001b[?25hRequirement already satisfied: pandas in /usr/local/lib/python3.7/dist-packages (from kobart==0.5.1) (1.3.5)\n",
            "Collecting pytorch-lightning==1.2.1\n",
            "  Downloading pytorch_lightning-1.2.1-py3-none-any.whl (814 kB)\n",
            "\u001b[K     |████████████████████████████████| 814 kB 32.0 MB/s \n",
            "\u001b[?25hCollecting torch==1.7.1\n",
            "  Downloading torch-1.7.1-cp37-cp37m-manylinux1_x86_64.whl (776.8 MB)\n",
            "\u001b[K     |████████████████████████████████| 776.8 MB 17 kB/s \n",
            "\u001b[?25hCollecting transformers==4.3.3\n",
            "  Downloading transformers-4.3.3-py3-none-any.whl (1.9 MB)\n",
            "\u001b[K     |████████████████████████████████| 1.9 MB 24.0 MB/s \n",
            "\u001b[?25hCollecting PyYAML!=5.4.*,>=5.1\n",
            "  Downloading PyYAML-6.0-cp37-cp37m-manylinux_2_5_x86_64.manylinux1_x86_64.manylinux_2_12_x86_64.manylinux2010_x86_64.whl (596 kB)\n",
            "\u001b[K     |████████████████████████████████| 596 kB 74.0 MB/s \n",
            "\u001b[?25hRequirement already satisfied: numpy>=1.16.6 in /usr/local/lib/python3.7/dist-packages (from pytorch-lightning==1.2.1->kobart==0.5.1) (1.21.5)\n",
            "Collecting fsspec[http]>=0.8.1\n",
            "  Downloading fsspec-2022.2.0-py3-none-any.whl (134 kB)\n",
            "\u001b[K     |████████████████████████████████| 134 kB 100.5 MB/s \n",
            "\u001b[?25hRequirement already satisfied: tensorboard>=2.2.0 in /usr/local/lib/python3.7/dist-packages (from pytorch-lightning==1.2.1->kobart==0.5.1) (2.8.0)\n",
            "Requirement already satisfied: tqdm>=4.41.0 in /usr/local/lib/python3.7/dist-packages (from pytorch-lightning==1.2.1->kobart==0.5.1) (4.63.0)\n",
            "Collecting future>=0.17.1\n",
            "  Downloading future-0.18.2.tar.gz (829 kB)\n",
            "\u001b[K     |████████████████████████████████| 829 kB 65.1 MB/s \n",
            "\u001b[?25hRequirement already satisfied: typing-extensions in /usr/local/lib/python3.7/dist-packages (from torch==1.7.1->kobart==0.5.1) (3.10.0.2)\n",
            "Requirement already satisfied: regex!=2019.12.17 in /usr/local/lib/python3.7/dist-packages (from transformers==4.3.3->kobart==0.5.1) (2019.12.20)\n",
            "Requirement already satisfied: filelock in /usr/local/lib/python3.7/dist-packages (from transformers==4.3.3->kobart==0.5.1) (3.6.0)\n",
            "Requirement already satisfied: importlib-metadata in /usr/local/lib/python3.7/dist-packages (from transformers==4.3.3->kobart==0.5.1) (4.11.3)\n",
            "Requirement already satisfied: requests in /usr/local/lib/python3.7/dist-packages (from transformers==4.3.3->kobart==0.5.1) (2.23.0)\n",
            "Collecting sacremoses\n",
            "  Downloading sacremoses-0.0.49-py3-none-any.whl (895 kB)\n",
            "\u001b[K     |████████████████████████████████| 895 kB 74.3 MB/s \n",
            "\u001b[?25hCollecting tokenizers<0.11,>=0.10.1\n",
            "  Downloading tokenizers-0.10.3-cp37-cp37m-manylinux_2_5_x86_64.manylinux1_x86_64.manylinux_2_12_x86_64.manylinux2010_x86_64.whl (3.3 MB)\n",
            "\u001b[K     |████████████████████████████████| 3.3 MB 22.8 MB/s \n",
            "\u001b[?25hRequirement already satisfied: packaging in /usr/local/lib/python3.7/dist-packages (from transformers==4.3.3->kobart==0.5.1) (21.3)\n",
            "Collecting aiohttp\n",
            "  Downloading aiohttp-3.8.1-cp37-cp37m-manylinux_2_5_x86_64.manylinux1_x86_64.manylinux_2_12_x86_64.manylinux2010_x86_64.whl (1.1 MB)\n",
            "\u001b[K     |████████████████████████████████| 1.1 MB 57.0 MB/s \n",
            "\u001b[?25hRequirement already satisfied: tensorboard-data-server<0.7.0,>=0.6.0 in /usr/local/lib/python3.7/dist-packages (from tensorboard>=2.2.0->pytorch-lightning==1.2.1->kobart==0.5.1) (0.6.1)\n",
            "Requirement already satisfied: tensorboard-plugin-wit>=1.6.0 in /usr/local/lib/python3.7/dist-packages (from tensorboard>=2.2.0->pytorch-lightning==1.2.1->kobart==0.5.1) (1.8.1)\n",
            "Requirement already satisfied: markdown>=2.6.8 in /usr/local/lib/python3.7/dist-packages (from tensorboard>=2.2.0->pytorch-lightning==1.2.1->kobart==0.5.1) (3.3.6)\n",
            "Requirement already satisfied: google-auth<3,>=1.6.3 in /usr/local/lib/python3.7/dist-packages (from tensorboard>=2.2.0->pytorch-lightning==1.2.1->kobart==0.5.1) (1.35.0)\n",
            "Requirement already satisfied: grpcio>=1.24.3 in /usr/local/lib/python3.7/dist-packages (from tensorboard>=2.2.0->pytorch-lightning==1.2.1->kobart==0.5.1) (1.44.0)\n",
            "Requirement already satisfied: google-auth-oauthlib<0.5,>=0.4.1 in /usr/local/lib/python3.7/dist-packages (from tensorboard>=2.2.0->pytorch-lightning==1.2.1->kobart==0.5.1) (0.4.6)\n",
            "Requirement already satisfied: protobuf>=3.6.0 in /usr/local/lib/python3.7/dist-packages (from tensorboard>=2.2.0->pytorch-lightning==1.2.1->kobart==0.5.1) (3.17.3)\n",
            "Requirement already satisfied: werkzeug>=0.11.15 in /usr/local/lib/python3.7/dist-packages (from tensorboard>=2.2.0->pytorch-lightning==1.2.1->kobart==0.5.1) (1.0.1)\n",
            "Requirement already satisfied: setuptools>=41.0.0 in /usr/local/lib/python3.7/dist-packages (from tensorboard>=2.2.0->pytorch-lightning==1.2.1->kobart==0.5.1) (57.4.0)\n",
            "Requirement already satisfied: absl-py>=0.4 in /usr/local/lib/python3.7/dist-packages (from tensorboard>=2.2.0->pytorch-lightning==1.2.1->kobart==0.5.1) (1.0.0)\n",
            "Requirement already satisfied: wheel>=0.26 in /usr/local/lib/python3.7/dist-packages (from tensorboard>=2.2.0->pytorch-lightning==1.2.1->kobart==0.5.1) (0.37.1)\n",
            "Requirement already satisfied: six in /usr/local/lib/python3.7/dist-packages (from absl-py>=0.4->tensorboard>=2.2.0->pytorch-lightning==1.2.1->kobart==0.5.1) (1.15.0)\n",
            "Requirement already satisfied: cachetools<5.0,>=2.0.0 in /usr/local/lib/python3.7/dist-packages (from google-auth<3,>=1.6.3->tensorboard>=2.2.0->pytorch-lightning==1.2.1->kobart==0.5.1) (4.2.4)\n",
            "Requirement already satisfied: pyasn1-modules>=0.2.1 in /usr/local/lib/python3.7/dist-packages (from google-auth<3,>=1.6.3->tensorboard>=2.2.0->pytorch-lightning==1.2.1->kobart==0.5.1) (0.2.8)\n",
            "Requirement already satisfied: rsa<5,>=3.1.4 in /usr/local/lib/python3.7/dist-packages (from google-auth<3,>=1.6.3->tensorboard>=2.2.0->pytorch-lightning==1.2.1->kobart==0.5.1) (4.8)\n",
            "Requirement already satisfied: requests-oauthlib>=0.7.0 in /usr/local/lib/python3.7/dist-packages (from google-auth-oauthlib<0.5,>=0.4.1->tensorboard>=2.2.0->pytorch-lightning==1.2.1->kobart==0.5.1) (1.3.1)\n",
            "Requirement already satisfied: zipp>=0.5 in /usr/local/lib/python3.7/dist-packages (from importlib-metadata->transformers==4.3.3->kobart==0.5.1) (3.7.0)\n",
            "Requirement already satisfied: pyasn1<0.5.0,>=0.4.6 in /usr/local/lib/python3.7/dist-packages (from pyasn1-modules>=0.2.1->google-auth<3,>=1.6.3->tensorboard>=2.2.0->pytorch-lightning==1.2.1->kobart==0.5.1) (0.4.8)\n",
            "Requirement already satisfied: urllib3!=1.25.0,!=1.25.1,<1.26,>=1.21.1 in /usr/local/lib/python3.7/dist-packages (from requests->transformers==4.3.3->kobart==0.5.1) (1.24.3)\n",
            "Requirement already satisfied: idna<3,>=2.5 in /usr/local/lib/python3.7/dist-packages (from requests->transformers==4.3.3->kobart==0.5.1) (2.10)\n",
            "Requirement already satisfied: certifi>=2017.4.17 in /usr/local/lib/python3.7/dist-packages (from requests->transformers==4.3.3->kobart==0.5.1) (2021.10.8)\n",
            "Requirement already satisfied: chardet<4,>=3.0.2 in /usr/local/lib/python3.7/dist-packages (from requests->transformers==4.3.3->kobart==0.5.1) (3.0.4)\n",
            "Requirement already satisfied: oauthlib>=3.0.0 in /usr/local/lib/python3.7/dist-packages (from requests-oauthlib>=0.7.0->google-auth-oauthlib<0.5,>=0.4.1->tensorboard>=2.2.0->pytorch-lightning==1.2.1->kobart==0.5.1) (3.2.0)\n",
            "Collecting yarl<2.0,>=1.0\n",
            "  Downloading yarl-1.7.2-cp37-cp37m-manylinux_2_5_x86_64.manylinux1_x86_64.manylinux_2_12_x86_64.manylinux2010_x86_64.whl (271 kB)\n",
            "\u001b[K     |████████████████████████████████| 271 kB 89.3 MB/s \n",
            "\u001b[?25hCollecting async-timeout<5.0,>=4.0.0a3\n",
            "  Downloading async_timeout-4.0.2-py3-none-any.whl (5.8 kB)\n",
            "Collecting frozenlist>=1.1.1\n",
            "  Downloading frozenlist-1.3.0-cp37-cp37m-manylinux_2_5_x86_64.manylinux1_x86_64.manylinux_2_17_x86_64.manylinux2014_x86_64.whl (144 kB)\n",
            "\u001b[K     |████████████████████████████████| 144 kB 61.5 MB/s \n",
            "\u001b[?25hCollecting aiosignal>=1.1.2\n",
            "  Downloading aiosignal-1.2.0-py3-none-any.whl (8.2 kB)\n",
            "Collecting asynctest==0.13.0\n",
            "  Downloading asynctest-0.13.0-py3-none-any.whl (26 kB)\n",
            "Requirement already satisfied: attrs>=17.3.0 in /usr/local/lib/python3.7/dist-packages (from aiohttp->fsspec[http]>=0.8.1->pytorch-lightning==1.2.1->kobart==0.5.1) (21.4.0)\n",
            "Requirement already satisfied: charset-normalizer<3.0,>=2.0 in /usr/local/lib/python3.7/dist-packages (from aiohttp->fsspec[http]>=0.8.1->pytorch-lightning==1.2.1->kobart==0.5.1) (2.0.12)\n",
            "Collecting multidict<7.0,>=4.5\n",
            "  Downloading multidict-6.0.2-cp37-cp37m-manylinux_2_17_x86_64.manylinux2014_x86_64.whl (94 kB)\n",
            "\u001b[K     |████████████████████████████████| 94 kB 4.0 MB/s \n",
            "\u001b[?25hCollecting s3transfer<0.6.0,>=0.5.0\n",
            "  Downloading s3transfer-0.5.2-py3-none-any.whl (79 kB)\n",
            "\u001b[K     |████████████████████████████████| 79 kB 10.8 MB/s \n",
            "\u001b[?25hCollecting botocore<1.25.0,>=1.24.24\n",
            "  Downloading botocore-1.24.24-py3-none-any.whl (8.6 MB)\n",
            "\u001b[K     |████████████████████████████████| 8.6 MB 52.5 MB/s \n",
            "\u001b[?25hCollecting jmespath<2.0.0,>=0.7.1\n",
            "  Downloading jmespath-1.0.0-py3-none-any.whl (23 kB)\n",
            "Collecting urllib3!=1.25.0,!=1.25.1,<1.26,>=1.21.1\n",
            "  Downloading urllib3-1.25.11-py2.py3-none-any.whl (127 kB)\n",
            "\u001b[K     |████████████████████████████████| 127 kB 96.4 MB/s \n",
            "\u001b[?25hRequirement already satisfied: python-dateutil<3.0.0,>=2.1 in /usr/local/lib/python3.7/dist-packages (from botocore<1.25.0,>=1.24.24->boto3->kobart==0.5.1) (2.8.2)\n",
            "Requirement already satisfied: pyparsing!=3.0.5,>=2.0.2 in /usr/local/lib/python3.7/dist-packages (from packaging->transformers==4.3.3->kobart==0.5.1) (3.0.7)\n",
            "Requirement already satisfied: pytz>=2017.3 in /usr/local/lib/python3.7/dist-packages (from pandas->kobart==0.5.1) (2018.9)\n",
            "Requirement already satisfied: joblib in /usr/local/lib/python3.7/dist-packages (from sacremoses->transformers==4.3.3->kobart==0.5.1) (1.1.0)\n",
            "Requirement already satisfied: click in /usr/local/lib/python3.7/dist-packages (from sacremoses->transformers==4.3.3->kobart==0.5.1) (7.1.2)\n",
            "Building wheels for collected packages: kobart, future\n",
            "  Building wheel for kobart (setup.py) ... \u001b[?25l\u001b[?25hdone\n",
            "  Created wheel for kobart: filename=kobart-0.5.1-py3-none-any.whl size=9562 sha256=ac89c25185295359e5d31ec06f06df15240d4d66dc13416ad717e781ccb2c6f4\n",
            "  Stored in directory: /tmp/pip-ephem-wheel-cache-94blrawu/wheels/6e/55/c4/bd4fede223bc304089ac8da2a2099a69db3fcd4b0e853383f5\n",
            "  Building wheel for future (setup.py) ... \u001b[?25l\u001b[?25hdone\n",
            "  Created wheel for future: filename=future-0.18.2-py3-none-any.whl size=491070 sha256=b04e67075f1a80e0bebd8fd94d2483568f9bcb628a75eae06a1866bd90208948\n",
            "  Stored in directory: /root/.cache/pip/wheels/56/b0/fe/4410d17b32f1f0c3cf54cdfb2bc04d7b4b8f4ae377e2229ba0\n",
            "Successfully built kobart future\n",
            "Installing collected packages: urllib3, multidict, frozenlist, yarl, jmespath, asynctest, async-timeout, aiosignal, fsspec, botocore, aiohttp, torch, tokenizers, sacremoses, s3transfer, PyYAML, future, transformers, pytorch-lightning, boto3, kobart\n",
            "  Attempting uninstall: urllib3\n",
            "    Found existing installation: urllib3 1.24.3\n",
            "    Uninstalling urllib3-1.24.3:\n",
            "      Successfully uninstalled urllib3-1.24.3\n",
            "  Attempting uninstall: torch\n",
            "    Found existing installation: torch 1.10.0+cu111\n",
            "    Uninstalling torch-1.10.0+cu111:\n",
            "      Successfully uninstalled torch-1.10.0+cu111\n",
            "  Attempting uninstall: PyYAML\n",
            "    Found existing installation: PyYAML 3.13\n",
            "    Uninstalling PyYAML-3.13:\n",
            "      Successfully uninstalled PyYAML-3.13\n",
            "  Attempting uninstall: future\n",
            "    Found existing installation: future 0.16.0\n",
            "    Uninstalling future-0.16.0:\n",
            "      Successfully uninstalled future-0.16.0\n",
            "\u001b[31mERROR: pip's dependency resolver does not currently take into account all the packages that are installed. This behaviour is the source of the following dependency conflicts.\n",
            "torchvision 0.11.1+cu111 requires torch==1.10.0, but you have torch 1.7.1 which is incompatible.\n",
            "torchtext 0.11.0 requires torch==1.10.0, but you have torch 1.7.1 which is incompatible.\n",
            "torchaudio 0.10.0+cu111 requires torch==1.10.0, but you have torch 1.7.1 which is incompatible.\n",
            "datascience 0.10.6 requires folium==0.2.1, but you have folium 0.8.3 which is incompatible.\u001b[0m\n",
            "Successfully installed PyYAML-6.0 aiohttp-3.8.1 aiosignal-1.2.0 async-timeout-4.0.2 asynctest-0.13.0 boto3-1.21.24 botocore-1.24.24 frozenlist-1.3.0 fsspec-2022.2.0 future-0.18.2 jmespath-1.0.0 kobart-0.5.1 multidict-6.0.2 pytorch-lightning-1.2.1 s3transfer-0.5.2 sacremoses-0.0.49 tokenizers-0.10.3 torch-1.7.1 transformers-4.3.3 urllib3-1.25.11 yarl-1.7.2\n"
          ]
        }
      ]
    },
    {
      "cell_type": "code",
      "source": [
        "!pip install transformers"
      ],
      "metadata": {
        "colab": {
          "base_uri": "https://localhost:8080/"
        },
        "id": "9ZL4Q4KFTvJ3",
        "outputId": "1fed292f-f8e3-49a5-be2a-30f21463c3fa"
      },
      "execution_count": 3,
      "outputs": [
        {
          "output_type": "stream",
          "name": "stdout",
          "text": [
            "Requirement already satisfied: transformers in /usr/local/lib/python3.7/dist-packages (4.3.3)\n",
            "Requirement already satisfied: tqdm>=4.27 in /usr/local/lib/python3.7/dist-packages (from transformers) (4.63.0)\n",
            "Requirement already satisfied: requests in /usr/local/lib/python3.7/dist-packages (from transformers) (2.23.0)\n",
            "Requirement already satisfied: importlib-metadata in /usr/local/lib/python3.7/dist-packages (from transformers) (4.11.3)\n",
            "Requirement already satisfied: numpy>=1.17 in /usr/local/lib/python3.7/dist-packages (from transformers) (1.21.5)\n",
            "Requirement already satisfied: regex!=2019.12.17 in /usr/local/lib/python3.7/dist-packages (from transformers) (2019.12.20)\n",
            "Requirement already satisfied: tokenizers<0.11,>=0.10.1 in /usr/local/lib/python3.7/dist-packages (from transformers) (0.10.3)\n",
            "Requirement already satisfied: packaging in /usr/local/lib/python3.7/dist-packages (from transformers) (21.3)\n",
            "Requirement already satisfied: filelock in /usr/local/lib/python3.7/dist-packages (from transformers) (3.6.0)\n",
            "Requirement already satisfied: sacremoses in /usr/local/lib/python3.7/dist-packages (from transformers) (0.0.49)\n",
            "Requirement already satisfied: typing-extensions>=3.6.4 in /usr/local/lib/python3.7/dist-packages (from importlib-metadata->transformers) (3.10.0.2)\n",
            "Requirement already satisfied: zipp>=0.5 in /usr/local/lib/python3.7/dist-packages (from importlib-metadata->transformers) (3.7.0)\n",
            "Requirement already satisfied: pyparsing!=3.0.5,>=2.0.2 in /usr/local/lib/python3.7/dist-packages (from packaging->transformers) (3.0.7)\n",
            "Requirement already satisfied: certifi>=2017.4.17 in /usr/local/lib/python3.7/dist-packages (from requests->transformers) (2021.10.8)\n",
            "Requirement already satisfied: idna<3,>=2.5 in /usr/local/lib/python3.7/dist-packages (from requests->transformers) (2.10)\n",
            "Requirement already satisfied: urllib3!=1.25.0,!=1.25.1,<1.26,>=1.21.1 in /usr/local/lib/python3.7/dist-packages (from requests->transformers) (1.25.11)\n",
            "Requirement already satisfied: chardet<4,>=3.0.2 in /usr/local/lib/python3.7/dist-packages (from requests->transformers) (3.0.4)\n",
            "Requirement already satisfied: click in /usr/local/lib/python3.7/dist-packages (from sacremoses->transformers) (7.1.2)\n",
            "Requirement already satisfied: joblib in /usr/local/lib/python3.7/dist-packages (from sacremoses->transformers) (1.1.0)\n",
            "Requirement already satisfied: six in /usr/local/lib/python3.7/dist-packages (from sacremoses->transformers) (1.15.0)\n"
          ]
        }
      ]
    },
    {
      "cell_type": "code",
      "source": [
        "!pip install wandb"
      ],
      "metadata": {
        "colab": {
          "base_uri": "https://localhost:8080/"
        },
        "id": "VXrqeNnnQ_eN",
        "outputId": "496f25b8-7b74-44a9-e3d7-e8879c0dafb4"
      },
      "execution_count": 4,
      "outputs": [
        {
          "output_type": "stream",
          "name": "stdout",
          "text": [
            "Collecting wandb\n",
            "  Downloading wandb-0.12.11-py2.py3-none-any.whl (1.7 MB)\n",
            "\u001b[K     |████████████████████████████████| 1.7 MB 4.3 MB/s \n",
            "\u001b[?25hCollecting pathtools\n",
            "  Downloading pathtools-0.1.2.tar.gz (11 kB)\n",
            "Collecting sentry-sdk>=1.0.0\n",
            "  Downloading sentry_sdk-1.5.8-py2.py3-none-any.whl (144 kB)\n",
            "\u001b[K     |████████████████████████████████| 144 kB 78.1 MB/s \n",
            "\u001b[?25hRequirement already satisfied: protobuf>=3.12.0 in /usr/local/lib/python3.7/dist-packages (from wandb) (3.17.3)\n",
            "Collecting yaspin>=1.0.0\n",
            "  Downloading yaspin-2.1.0-py3-none-any.whl (18 kB)\n",
            "Requirement already satisfied: Click!=8.0.0,>=7.0 in /usr/local/lib/python3.7/dist-packages (from wandb) (7.1.2)\n",
            "Requirement already satisfied: psutil>=5.0.0 in /usr/local/lib/python3.7/dist-packages (from wandb) (5.4.8)\n",
            "Requirement already satisfied: PyYAML in /usr/local/lib/python3.7/dist-packages (from wandb) (6.0)\n",
            "Collecting setproctitle\n",
            "  Downloading setproctitle-1.2.2-cp37-cp37m-manylinux1_x86_64.whl (36 kB)\n",
            "Requirement already satisfied: promise<3,>=2.0 in /usr/local/lib/python3.7/dist-packages (from wandb) (2.3)\n",
            "Collecting docker-pycreds>=0.4.0\n",
            "  Downloading docker_pycreds-0.4.0-py2.py3-none-any.whl (9.0 kB)\n",
            "Requirement already satisfied: six>=1.13.0 in /usr/local/lib/python3.7/dist-packages (from wandb) (1.15.0)\n",
            "Requirement already satisfied: requests<3,>=2.0.0 in /usr/local/lib/python3.7/dist-packages (from wandb) (2.23.0)\n",
            "Collecting shortuuid>=0.5.0\n",
            "  Downloading shortuuid-1.0.8-py3-none-any.whl (9.5 kB)\n",
            "Collecting GitPython>=1.0.0\n",
            "  Downloading GitPython-3.1.27-py3-none-any.whl (181 kB)\n",
            "\u001b[K     |████████████████████████████████| 181 kB 94.7 MB/s \n",
            "\u001b[?25hRequirement already satisfied: python-dateutil>=2.6.1 in /usr/local/lib/python3.7/dist-packages (from wandb) (2.8.2)\n",
            "Collecting gitdb<5,>=4.0.1\n",
            "  Downloading gitdb-4.0.9-py3-none-any.whl (63 kB)\n",
            "\u001b[K     |████████████████████████████████| 63 kB 1.9 MB/s \n",
            "\u001b[?25hRequirement already satisfied: typing-extensions>=3.7.4.3 in /usr/local/lib/python3.7/dist-packages (from GitPython>=1.0.0->wandb) (3.10.0.2)\n",
            "Collecting smmap<6,>=3.0.1\n",
            "  Downloading smmap-5.0.0-py3-none-any.whl (24 kB)\n",
            "Requirement already satisfied: urllib3!=1.25.0,!=1.25.1,<1.26,>=1.21.1 in /usr/local/lib/python3.7/dist-packages (from requests<3,>=2.0.0->wandb) (1.25.11)\n",
            "Requirement already satisfied: idna<3,>=2.5 in /usr/local/lib/python3.7/dist-packages (from requests<3,>=2.0.0->wandb) (2.10)\n",
            "Requirement already satisfied: certifi>=2017.4.17 in /usr/local/lib/python3.7/dist-packages (from requests<3,>=2.0.0->wandb) (2021.10.8)\n",
            "Requirement already satisfied: chardet<4,>=3.0.2 in /usr/local/lib/python3.7/dist-packages (from requests<3,>=2.0.0->wandb) (3.0.4)\n",
            "Requirement already satisfied: termcolor<2.0.0,>=1.1.0 in /usr/local/lib/python3.7/dist-packages (from yaspin>=1.0.0->wandb) (1.1.0)\n",
            "Building wheels for collected packages: pathtools\n",
            "  Building wheel for pathtools (setup.py) ... \u001b[?25l\u001b[?25hdone\n",
            "  Created wheel for pathtools: filename=pathtools-0.1.2-py3-none-any.whl size=8806 sha256=66708e5fae41263019141b69e125d470798f72876557b3249d3237863b2e89ac\n",
            "  Stored in directory: /root/.cache/pip/wheels/3e/31/09/fa59cef12cdcfecc627b3d24273699f390e71828921b2cbba2\n",
            "Successfully built pathtools\n",
            "Installing collected packages: smmap, gitdb, yaspin, shortuuid, setproctitle, sentry-sdk, pathtools, GitPython, docker-pycreds, wandb\n",
            "Successfully installed GitPython-3.1.27 docker-pycreds-0.4.0 gitdb-4.0.9 pathtools-0.1.2 sentry-sdk-1.5.8 setproctitle-1.2.2 shortuuid-1.0.8 smmap-5.0.0 wandb-0.12.11 yaspin-2.1.0\n"
          ]
        }
      ]
    },
    {
      "cell_type": "code",
      "execution_count": 5,
      "metadata": {
        "id": "KUfwH5tXtEyQ"
      },
      "outputs": [],
      "source": [
        "import torch\n",
        "import os \n",
        "import sys\n",
        "import pandas as pd\n",
        "import numpy as np\n",
        "from tqdm import tqdm\n",
        "tqdm.pandas()\n",
        "import wandb\n",
        "\n",
        "from google.colab import drive\n",
        "import re\n",
        "from konlpy.tag import Okt\n",
        "import requests\n",
        "from bs4 import BeautifulSoup\n",
        "\n",
        "from itertools import combinations\n",
        "import torch.nn as nn\n",
        "import torch.nn.functional as F\n",
        "from torch.optim import SGD\n",
        "from torch.optim.lr_scheduler import CosineAnnealingLR\n",
        "from torch.utils.data import Dataset, DataLoader,random_split\n",
        "\n",
        "from kobart import get_pytorch_kobart_model, get_kobart_tokenizer\n",
        "from transformers import AutoModel, AutoTokenizer, BartModel"
      ]
    },
    {
      "cell_type": "code",
      "source": [
        "# seed\n",
        "seed = 7777\n",
        "torch.manual_seed(seed)\n",
        "torch.cuda.manual_seed_all(seed)\n",
        "# device type\n",
        "if torch.cuda.is_available():\n",
        "    device = torch.device(\"cuda\")\n",
        "    print(f\"# available GPUs : {torch.cuda.device_count()}\")\n",
        "    print(f\"GPU name : {torch.cuda.get_device_name()}\")\n",
        "else:\n",
        "    device = torch.device(\"cpu\")\n",
        "print(device)"
      ],
      "metadata": {
        "colab": {
          "base_uri": "https://localhost:8080/"
        },
        "id": "58DHYlQkt95N",
        "outputId": "77169708-dc95-4fbe-a9af-83d16205a45c"
      },
      "execution_count": 6,
      "outputs": [
        {
          "output_type": "stream",
          "name": "stdout",
          "text": [
            "# available GPUs : 1\n",
            "GPU name : Tesla P100-PCIE-16GB\n",
            "cuda\n"
          ]
        }
      ]
    },
    {
      "cell_type": "markdown",
      "source": [
        "### 원본 데이터 불러오기"
      ],
      "metadata": {
        "id": "h7kzv5U25HUQ"
      }
    },
    {
      "cell_type": "code",
      "source": [
        "drive.mount(\"/content/drive\")"
      ],
      "metadata": {
        "colab": {
          "base_uri": "https://localhost:8080/"
        },
        "id": "DHXL22kYyWxV",
        "outputId": "d349c396-69e6-4f15-b98b-7411e4cc249d"
      },
      "execution_count": 7,
      "outputs": [
        {
          "output_type": "stream",
          "name": "stdout",
          "text": [
            "Drive already mounted at /content/drive; to attempt to forcibly remount, call drive.mount(\"/content/drive\", force_remount=True).\n"
          ]
        }
      ]
    },
    {
      "cell_type": "code",
      "source": [
        "df = pd.read_csv(\"/content/drive/MyDrive/NLP/sports_news_data - sports_news_data.csv\")"
      ],
      "metadata": {
        "id": "j7Yjhg1D1s76"
      },
      "execution_count": 8,
      "outputs": []
    },
    {
      "cell_type": "code",
      "source": [
        "df[df['CONTENT'].isnull() == True]"
      ],
      "metadata": {
        "colab": {
          "base_uri": "https://localhost:8080/",
          "height": 0
        },
        "id": "IKxOiUWcu8Iu",
        "outputId": "68fbb3b3-47b9-4eeb-efa1-378929512802"
      },
      "execution_count": 9,
      "outputs": [
        {
          "output_type": "execute_result",
          "data": {
            "text/plain": [
              "                                                 TITLE CONTENT  PUBLISH_DT\n",
              "4137                                  GOAL50 2021 투표하기     NaN  2021-11-02\n",
              "5475  [GOAL LIVE] '오직 익수' 안익수가 생각하는 팬의 의미 \"상당히 두려운 존재\"     NaN  2021-12-04"
            ],
            "text/html": [
              "\n",
              "  <div id=\"df-617d9dc9-9489-4fe6-b95b-baefac6c831e\">\n",
              "    <div class=\"colab-df-container\">\n",
              "      <div>\n",
              "<style scoped>\n",
              "    .dataframe tbody tr th:only-of-type {\n",
              "        vertical-align: middle;\n",
              "    }\n",
              "\n",
              "    .dataframe tbody tr th {\n",
              "        vertical-align: top;\n",
              "    }\n",
              "\n",
              "    .dataframe thead th {\n",
              "        text-align: right;\n",
              "    }\n",
              "</style>\n",
              "<table border=\"1\" class=\"dataframe\">\n",
              "  <thead>\n",
              "    <tr style=\"text-align: right;\">\n",
              "      <th></th>\n",
              "      <th>TITLE</th>\n",
              "      <th>CONTENT</th>\n",
              "      <th>PUBLISH_DT</th>\n",
              "    </tr>\n",
              "  </thead>\n",
              "  <tbody>\n",
              "    <tr>\n",
              "      <th>4137</th>\n",
              "      <td>GOAL50 2021 투표하기</td>\n",
              "      <td>NaN</td>\n",
              "      <td>2021-11-02</td>\n",
              "    </tr>\n",
              "    <tr>\n",
              "      <th>5475</th>\n",
              "      <td>[GOAL LIVE] '오직 익수' 안익수가 생각하는 팬의 의미 \"상당히 두려운 존재\"</td>\n",
              "      <td>NaN</td>\n",
              "      <td>2021-12-04</td>\n",
              "    </tr>\n",
              "  </tbody>\n",
              "</table>\n",
              "</div>\n",
              "      <button class=\"colab-df-convert\" onclick=\"convertToInteractive('df-617d9dc9-9489-4fe6-b95b-baefac6c831e')\"\n",
              "              title=\"Convert this dataframe to an interactive table.\"\n",
              "              style=\"display:none;\">\n",
              "        \n",
              "  <svg xmlns=\"http://www.w3.org/2000/svg\" height=\"24px\"viewBox=\"0 0 24 24\"\n",
              "       width=\"24px\">\n",
              "    <path d=\"M0 0h24v24H0V0z\" fill=\"none\"/>\n",
              "    <path d=\"M18.56 5.44l.94 2.06.94-2.06 2.06-.94-2.06-.94-.94-2.06-.94 2.06-2.06.94zm-11 1L8.5 8.5l.94-2.06 2.06-.94-2.06-.94L8.5 2.5l-.94 2.06-2.06.94zm10 10l.94 2.06.94-2.06 2.06-.94-2.06-.94-.94-2.06-.94 2.06-2.06.94z\"/><path d=\"M17.41 7.96l-1.37-1.37c-.4-.4-.92-.59-1.43-.59-.52 0-1.04.2-1.43.59L10.3 9.45l-7.72 7.72c-.78.78-.78 2.05 0 2.83L4 21.41c.39.39.9.59 1.41.59.51 0 1.02-.2 1.41-.59l7.78-7.78 2.81-2.81c.8-.78.8-2.07 0-2.86zM5.41 20L4 18.59l7.72-7.72 1.47 1.35L5.41 20z\"/>\n",
              "  </svg>\n",
              "      </button>\n",
              "      \n",
              "  <style>\n",
              "    .colab-df-container {\n",
              "      display:flex;\n",
              "      flex-wrap:wrap;\n",
              "      gap: 12px;\n",
              "    }\n",
              "\n",
              "    .colab-df-convert {\n",
              "      background-color: #E8F0FE;\n",
              "      border: none;\n",
              "      border-radius: 50%;\n",
              "      cursor: pointer;\n",
              "      display: none;\n",
              "      fill: #1967D2;\n",
              "      height: 32px;\n",
              "      padding: 0 0 0 0;\n",
              "      width: 32px;\n",
              "    }\n",
              "\n",
              "    .colab-df-convert:hover {\n",
              "      background-color: #E2EBFA;\n",
              "      box-shadow: 0px 1px 2px rgba(60, 64, 67, 0.3), 0px 1px 3px 1px rgba(60, 64, 67, 0.15);\n",
              "      fill: #174EA6;\n",
              "    }\n",
              "\n",
              "    [theme=dark] .colab-df-convert {\n",
              "      background-color: #3B4455;\n",
              "      fill: #D2E3FC;\n",
              "    }\n",
              "\n",
              "    [theme=dark] .colab-df-convert:hover {\n",
              "      background-color: #434B5C;\n",
              "      box-shadow: 0px 1px 3px 1px rgba(0, 0, 0, 0.15);\n",
              "      filter: drop-shadow(0px 1px 2px rgba(0, 0, 0, 0.3));\n",
              "      fill: #FFFFFF;\n",
              "    }\n",
              "  </style>\n",
              "\n",
              "      <script>\n",
              "        const buttonEl =\n",
              "          document.querySelector('#df-617d9dc9-9489-4fe6-b95b-baefac6c831e button.colab-df-convert');\n",
              "        buttonEl.style.display =\n",
              "          google.colab.kernel.accessAllowed ? 'block' : 'none';\n",
              "\n",
              "        async function convertToInteractive(key) {\n",
              "          const element = document.querySelector('#df-617d9dc9-9489-4fe6-b95b-baefac6c831e');\n",
              "          const dataTable =\n",
              "            await google.colab.kernel.invokeFunction('convertToInteractive',\n",
              "                                                     [key], {});\n",
              "          if (!dataTable) return;\n",
              "\n",
              "          const docLinkHtml = 'Like what you see? Visit the ' +\n",
              "            '<a target=\"_blank\" href=https://colab.research.google.com/notebooks/data_table.ipynb>data table notebook</a>'\n",
              "            + ' to learn more about interactive tables.';\n",
              "          element.innerHTML = '';\n",
              "          dataTable['output_type'] = 'display_data';\n",
              "          await google.colab.output.renderOutput(dataTable, element);\n",
              "          const docLink = document.createElement('div');\n",
              "          docLink.innerHTML = docLinkHtml;\n",
              "          element.appendChild(docLink);\n",
              "        }\n",
              "      </script>\n",
              "    </div>\n",
              "  </div>\n",
              "  "
            ]
          },
          "metadata": {},
          "execution_count": 9
        }
      ]
    },
    {
      "cell_type": "code",
      "source": [
        "# 결측치 확인\n",
        "df.isnull().sum()"
      ],
      "metadata": {
        "colab": {
          "base_uri": "https://localhost:8080/"
        },
        "id": "CVUuWDpCu84F",
        "outputId": "ac859b18-2dda-450a-eccb-2b869b9ab406"
      },
      "execution_count": 10,
      "outputs": [
        {
          "output_type": "execute_result",
          "data": {
            "text/plain": [
              "TITLE         0\n",
              "CONTENT       2\n",
              "PUBLISH_DT    0\n",
              "dtype: int64"
            ]
          },
          "metadata": {},
          "execution_count": 10
        }
      ]
    },
    {
      "cell_type": "code",
      "source": [
        "# 결측치 제거\n",
        "df = df.dropna()\n",
        "df.isnull().sum()"
      ],
      "metadata": {
        "colab": {
          "base_uri": "https://localhost:8080/"
        },
        "id": "XzzrzODFvCQy",
        "outputId": "d13435b1-f96f-411a-c2c3-4d1f899db793"
      },
      "execution_count": 11,
      "outputs": [
        {
          "output_type": "execute_result",
          "data": {
            "text/plain": [
              "TITLE         0\n",
              "CONTENT       0\n",
              "PUBLISH_DT    0\n",
              "dtype: int64"
            ]
          },
          "metadata": {},
          "execution_count": 11
        }
      ]
    },
    {
      "cell_type": "code",
      "source": [
        "# 중복값 제거(CONTENT만 처리하므로 TITLE은 두기로 한다.)\n",
        "idx = df['CONTENT'].drop_duplicates().index\n",
        "df = df.loc[idx]\n",
        "df.reset_index(drop=True, inplace = True)\n",
        "print(df.shape) ; df.head(5)"
      ],
      "metadata": {
        "colab": {
          "base_uri": "https://localhost:8080/",
          "height": 0
        },
        "id": "4Zt5mMHvvEnI",
        "outputId": "76ae8bca-eeb1-42fd-f49a-942749c05ebe"
      },
      "execution_count": 12,
      "outputs": [
        {
          "output_type": "stream",
          "name": "stdout",
          "text": [
            "(9050, 3)\n"
          ]
        },
        {
          "output_type": "execute_result",
          "data": {
            "text/plain": [
              "                                          TITLE  \\\n",
              "0              스털링 다이빙 논란 종결?… “오른쪽 다리 접촉 있었잖아”   \n",
              "1              ‘디 마리아 없다’ 유로X코파 베스트11, 이탈리아만 7명   \n",
              "2            ‘슈퍼컴퓨터 예측’ 맨시티 우승-맨유 4위… 토트넘은 ‘6위’   \n",
              "3     “이재성, 완벽한 프로… 마인츠서 성공할 것” 킬 디렉터의 애정 듬뿍 응원   \n",
              "4  ‘홈킷과 딴판’ 바르사 팬들, NEW 어웨이 셔츠 호평… “가장 좋아하는 색!”   \n",
              "\n",
              "                                             CONTENT  PUBLISH_DT  \n",
              "0  [스포탈코리아] 유럽축구연맹(UEFA) 유로 2020 심판위원장 로베르토 로세티가 ...  2021-07-15  \n",
              "1  [스포탈코리아] 유로 2020과 코파 아메리카 2021로 베스트11을 만든다면 어떤...  2021-07-15  \n",
              "2  [스포탈코리아] 새 시즌이 시작하기도 전에 슈퍼컴퓨터가 예상한 순위가 나왔다.\\n\\...  2021-07-15  \n",
              "3  [스포탈코리아] 홀슈타인 킬 우베 스토버 디렉터가 이재성을 향해 응원 메시지를 띄웠...  2021-07-15  \n",
              "4  [스포탈코리아] FC 바르셀로나가 새 시즌 원정 유니폼을 공개했다. 팬들은 만족스럽...  2021-07-15  "
            ],
            "text/html": [
              "\n",
              "  <div id=\"df-b9905598-0dee-4d66-b76b-4f57a9c48324\">\n",
              "    <div class=\"colab-df-container\">\n",
              "      <div>\n",
              "<style scoped>\n",
              "    .dataframe tbody tr th:only-of-type {\n",
              "        vertical-align: middle;\n",
              "    }\n",
              "\n",
              "    .dataframe tbody tr th {\n",
              "        vertical-align: top;\n",
              "    }\n",
              "\n",
              "    .dataframe thead th {\n",
              "        text-align: right;\n",
              "    }\n",
              "</style>\n",
              "<table border=\"1\" class=\"dataframe\">\n",
              "  <thead>\n",
              "    <tr style=\"text-align: right;\">\n",
              "      <th></th>\n",
              "      <th>TITLE</th>\n",
              "      <th>CONTENT</th>\n",
              "      <th>PUBLISH_DT</th>\n",
              "    </tr>\n",
              "  </thead>\n",
              "  <tbody>\n",
              "    <tr>\n",
              "      <th>0</th>\n",
              "      <td>스털링 다이빙 논란 종결?… “오른쪽 다리 접촉 있었잖아”</td>\n",
              "      <td>[스포탈코리아] 유럽축구연맹(UEFA) 유로 2020 심판위원장 로베르토 로세티가 ...</td>\n",
              "      <td>2021-07-15</td>\n",
              "    </tr>\n",
              "    <tr>\n",
              "      <th>1</th>\n",
              "      <td>‘디 마리아 없다’ 유로X코파 베스트11, 이탈리아만 7명</td>\n",
              "      <td>[스포탈코리아] 유로 2020과 코파 아메리카 2021로 베스트11을 만든다면 어떤...</td>\n",
              "      <td>2021-07-15</td>\n",
              "    </tr>\n",
              "    <tr>\n",
              "      <th>2</th>\n",
              "      <td>‘슈퍼컴퓨터 예측’ 맨시티 우승-맨유 4위… 토트넘은 ‘6위’</td>\n",
              "      <td>[스포탈코리아] 새 시즌이 시작하기도 전에 슈퍼컴퓨터가 예상한 순위가 나왔다.\\n\\...</td>\n",
              "      <td>2021-07-15</td>\n",
              "    </tr>\n",
              "    <tr>\n",
              "      <th>3</th>\n",
              "      <td>“이재성, 완벽한 프로… 마인츠서 성공할 것” 킬 디렉터의 애정 듬뿍 응원</td>\n",
              "      <td>[스포탈코리아] 홀슈타인 킬 우베 스토버 디렉터가 이재성을 향해 응원 메시지를 띄웠...</td>\n",
              "      <td>2021-07-15</td>\n",
              "    </tr>\n",
              "    <tr>\n",
              "      <th>4</th>\n",
              "      <td>‘홈킷과 딴판’ 바르사 팬들, NEW 어웨이 셔츠 호평… “가장 좋아하는 색!”</td>\n",
              "      <td>[스포탈코리아] FC 바르셀로나가 새 시즌 원정 유니폼을 공개했다. 팬들은 만족스럽...</td>\n",
              "      <td>2021-07-15</td>\n",
              "    </tr>\n",
              "  </tbody>\n",
              "</table>\n",
              "</div>\n",
              "      <button class=\"colab-df-convert\" onclick=\"convertToInteractive('df-b9905598-0dee-4d66-b76b-4f57a9c48324')\"\n",
              "              title=\"Convert this dataframe to an interactive table.\"\n",
              "              style=\"display:none;\">\n",
              "        \n",
              "  <svg xmlns=\"http://www.w3.org/2000/svg\" height=\"24px\"viewBox=\"0 0 24 24\"\n",
              "       width=\"24px\">\n",
              "    <path d=\"M0 0h24v24H0V0z\" fill=\"none\"/>\n",
              "    <path d=\"M18.56 5.44l.94 2.06.94-2.06 2.06-.94-2.06-.94-.94-2.06-.94 2.06-2.06.94zm-11 1L8.5 8.5l.94-2.06 2.06-.94-2.06-.94L8.5 2.5l-.94 2.06-2.06.94zm10 10l.94 2.06.94-2.06 2.06-.94-2.06-.94-.94-2.06-.94 2.06-2.06.94z\"/><path d=\"M17.41 7.96l-1.37-1.37c-.4-.4-.92-.59-1.43-.59-.52 0-1.04.2-1.43.59L10.3 9.45l-7.72 7.72c-.78.78-.78 2.05 0 2.83L4 21.41c.39.39.9.59 1.41.59.51 0 1.02-.2 1.41-.59l7.78-7.78 2.81-2.81c.8-.78.8-2.07 0-2.86zM5.41 20L4 18.59l7.72-7.72 1.47 1.35L5.41 20z\"/>\n",
              "  </svg>\n",
              "      </button>\n",
              "      \n",
              "  <style>\n",
              "    .colab-df-container {\n",
              "      display:flex;\n",
              "      flex-wrap:wrap;\n",
              "      gap: 12px;\n",
              "    }\n",
              "\n",
              "    .colab-df-convert {\n",
              "      background-color: #E8F0FE;\n",
              "      border: none;\n",
              "      border-radius: 50%;\n",
              "      cursor: pointer;\n",
              "      display: none;\n",
              "      fill: #1967D2;\n",
              "      height: 32px;\n",
              "      padding: 0 0 0 0;\n",
              "      width: 32px;\n",
              "    }\n",
              "\n",
              "    .colab-df-convert:hover {\n",
              "      background-color: #E2EBFA;\n",
              "      box-shadow: 0px 1px 2px rgba(60, 64, 67, 0.3), 0px 1px 3px 1px rgba(60, 64, 67, 0.15);\n",
              "      fill: #174EA6;\n",
              "    }\n",
              "\n",
              "    [theme=dark] .colab-df-convert {\n",
              "      background-color: #3B4455;\n",
              "      fill: #D2E3FC;\n",
              "    }\n",
              "\n",
              "    [theme=dark] .colab-df-convert:hover {\n",
              "      background-color: #434B5C;\n",
              "      box-shadow: 0px 1px 3px 1px rgba(0, 0, 0, 0.15);\n",
              "      filter: drop-shadow(0px 1px 2px rgba(0, 0, 0, 0.3));\n",
              "      fill: #FFFFFF;\n",
              "    }\n",
              "  </style>\n",
              "\n",
              "      <script>\n",
              "        const buttonEl =\n",
              "          document.querySelector('#df-b9905598-0dee-4d66-b76b-4f57a9c48324 button.colab-df-convert');\n",
              "        buttonEl.style.display =\n",
              "          google.colab.kernel.accessAllowed ? 'block' : 'none';\n",
              "\n",
              "        async function convertToInteractive(key) {\n",
              "          const element = document.querySelector('#df-b9905598-0dee-4d66-b76b-4f57a9c48324');\n",
              "          const dataTable =\n",
              "            await google.colab.kernel.invokeFunction('convertToInteractive',\n",
              "                                                     [key], {});\n",
              "          if (!dataTable) return;\n",
              "\n",
              "          const docLinkHtml = 'Like what you see? Visit the ' +\n",
              "            '<a target=\"_blank\" href=https://colab.research.google.com/notebooks/data_table.ipynb>data table notebook</a>'\n",
              "            + ' to learn more about interactive tables.';\n",
              "          element.innerHTML = '';\n",
              "          dataTable['output_type'] = 'display_data';\n",
              "          await google.colab.output.renderOutput(dataTable, element);\n",
              "          const docLink = document.createElement('div');\n",
              "          docLink.innerHTML = docLinkHtml;\n",
              "          element.appendChild(docLink);\n",
              "        }\n",
              "      </script>\n",
              "    </div>\n",
              "  </div>\n",
              "  "
            ]
          },
          "metadata": {},
          "execution_count": 12
        }
      ]
    },
    {
      "cell_type": "markdown",
      "source": [
        "### 전처리\n",
        "- 중복 및 결측치 제거\n",
        "- 크롤링 상에서 생긴 쓸모 없는 문구 처리\n"
      ],
      "metadata": {
        "id": "XhpUnNfR63sq"
      }
    },
    {
      "cell_type": "code",
      "source": [
        "# 타이틀(안 쓸시 코멘트 처리 할 것)\n",
        "def title_cleansing(x):\n",
        "    new_string = re.sub(r'\\([^)]*\\)|\\[[^)]*\\]|\\<[^)]*\\>', '', x)\n",
        "    new_string = re.sub(r\"[^가-힣a-zA-Z0-9一-龥. ]\",\"\",new_string)\n",
        "    \n",
        "    return new_string\n",
        "\n",
        "# 본문\n",
        "def content_cleansing(string):\n",
        "    try:\n",
        "        if '스포탈코리아' in string:\n",
        "            cleanr =re.compile('<.*?>')\n",
        "            cleantext = re.sub(cleanr, '', string).replace(\"&nbsp;\", \"\").replace('\\n',\"\").replace('\\t',\"\").replace('\\xa0', \"\")\n",
        "\n",
        "\n",
        "            new_string = re.sub(r'사진=.+$', '', cleantext)\n",
        "            new_string = re.sub(r'.+.기자=', '', new_string)    \n",
        "            new_string = re.sub(r'\\([^)]*\\)|\\[[^)]*\\]|\\<[^)]*\\>', '', new_string)\n",
        "            new_string = re.sub(r\"[^가-힣a-zA-Z0-9一-龥. ]\",\"\",new_string)\n",
        "\n",
        "            return new_string.strip()\n",
        "\n",
        "        elif '골닷컴' in string:   ### +++ 기자 이름\n",
        "            string = re.sub(r'(?<=\\<hr style=\"color: #00ac77; width: 100%; background: #00ac77; border: 0; height: 2px;\" /><span><strong>)(.*?)(?=<\\/span>)', '', string)\n",
        "\n",
        "            cleanr =re.compile('<.*?>')\n",
        "            cleantext = re.sub(cleanr, '', string).replace(\"&nbsp;\", \"\").replace('\\n',\"\").replace('\\t',\"\").replace('\\xa0', \"\")\n",
        "\n",
        "            new_string = re.sub(r'\\([^)]*\\)|\\[[^)]*\\]|\\<[^)]*\\>', '', cleantext)\n",
        "            new_string = re.sub(r\"[^가-힣a-zA-Z0-9一-龥. ]\",\"\", new_string)\n",
        "\n",
        "            return new_string.strip()\n",
        "\n",
        "        else:\n",
        "            cleanr =re.compile('<.*?>')\n",
        "            cleantext = re.sub(cleanr, '', string).replace(\"&nbsp;\", \"\").replace('\\n',\"\").replace('\\t',\"\").replace('\\xa0', \"\")\n",
        "\n",
        "            new_string = re.sub(r'\\([^)]*\\)|\\[[^)]*\\]|\\<[^)]*\\>', '', cleantext)\n",
        "            new_string = re.sub(r\"[^가-힣a-zA-Z0-9一-龥. ]\",\"\", new_string)\n",
        "            \n",
        "            return new_string.strip()\n",
        "        \n",
        "    except:\n",
        "        return \"문제\""
      ],
      "metadata": {
        "id": "QgS0iTJ8QT0F"
      },
      "execution_count": null,
      "outputs": []
    },
    {
      "cell_type": "code",
      "source": [
        "df['cleaned_TITLE'] = df['TITLE'].progress_apply(lambda x: title_cleansing(x))\n",
        "df['cleaned_CONTENT'] = df['CONTENT'].progress_apply(lambda x: content_cleansing(x))"
      ],
      "metadata": {
        "id": "uMpyTPRiQwWb",
        "colab": {
          "base_uri": "https://localhost:8080/"
        },
        "outputId": "9debdbce-4879-45ba-b1fd-92bc6599ba41"
      },
      "execution_count": null,
      "outputs": [
        {
          "output_type": "stream",
          "name": "stderr",
          "text": [
            "100%|██████████| 9050/9050 [00:00<00:00, 191424.15it/s]\n",
            "100%|██████████| 9050/9050 [00:30<00:00, 295.97it/s]\n"
          ]
        }
      ]
    },
    {
      "cell_type": "code",
      "source": [
        "# 데이터 전처리 후 중복값 제거\n",
        "idx = df['cleaned_CONTENT'].drop_duplicates().index\n",
        "df = df.loc[idx]\n",
        "df.reset_index(drop=True, inplace = True)\n",
        "print(df.shape) ; df.head(5)"
      ],
      "metadata": {
        "id": "SA9s6Ts52cYZ",
        "colab": {
          "base_uri": "https://localhost:8080/"
        },
        "outputId": "636c712f-8937-46da-88ec-6949fcd7d1fc"
      },
      "execution_count": null,
      "outputs": [
        {
          "output_type": "stream",
          "name": "stdout",
          "text": [
            "(8998, 5)\n"
          ]
        },
        {
          "output_type": "execute_result",
          "data": {
            "text/plain": [
              "                                          TITLE  \\\n",
              "0              스털링 다이빙 논란 종결?… “오른쪽 다리 접촉 있었잖아”   \n",
              "1              ‘디 마리아 없다’ 유로X코파 베스트11, 이탈리아만 7명   \n",
              "2            ‘슈퍼컴퓨터 예측’ 맨시티 우승-맨유 4위… 토트넘은 ‘6위’   \n",
              "3     “이재성, 완벽한 프로… 마인츠서 성공할 것” 킬 디렉터의 애정 듬뿍 응원   \n",
              "4  ‘홈킷과 딴판’ 바르사 팬들, NEW 어웨이 셔츠 호평… “가장 좋아하는 색!”   \n",
              "\n",
              "                                             CONTENT  PUBLISH_DT  \\\n",
              "0  [스포탈코리아] 유럽축구연맹(UEFA) 유로 2020 심판위원장 로베르토 로세티가 ...  2021-07-15   \n",
              "1  [스포탈코리아] 유로 2020과 코파 아메리카 2021로 베스트11을 만든다면 어떤...  2021-07-15   \n",
              "2  [스포탈코리아] 새 시즌이 시작하기도 전에 슈퍼컴퓨터가 예상한 순위가 나왔다.\\n\\...  2021-07-15   \n",
              "3  [스포탈코리아] 홀슈타인 킬 우베 스토버 디렉터가 이재성을 향해 응원 메시지를 띄웠...  2021-07-15   \n",
              "4  [스포탈코리아] FC 바르셀로나가 새 시즌 원정 유니폼을 공개했다. 팬들은 만족스럽...  2021-07-15   \n",
              "\n",
              "                           cleaned_TITLE  \\\n",
              "0           스털링 다이빙 논란 종결 오른쪽 다리 접촉 있었잖아   \n",
              "1          디 마리아 없다 유로X코파 베스트11 이탈리아만 7명   \n",
              "2           슈퍼컴퓨터 예측 맨시티 우승맨유 4위 토트넘은 6위   \n",
              "3  이재성 완벽한 프로 마인츠서 성공할 것 킬 디렉터의 애정 듬뿍 응원   \n",
              "4  홈킷과 딴판 바르사 팬들 NEW 어웨이 셔츠 호평 가장 좋아하는 색   \n",
              "\n",
              "                                     cleaned_CONTENT  \n",
              "0  유럽축구연맹 유로 2020 심판위원장 로베르토 로세티가 잉글랜드와 덴마크전에 나온 ...  \n",
              "1  유로 2020과 코파 아메리카 2021로 베스트11을 만든다면 어떤 모습일까.지난달...  \n",
              "2  새 시즌이 시작하기도 전에 슈퍼컴퓨터가 예상한 순위가 나왔다.영국 매체 스포츠 바이...  \n",
              "3  홀슈타인 킬 우베 스토버 디렉터가 이재성을 향해 응원 메시지를 띄웠다.이재성은 20...  \n",
              "4  FC 바르셀로나가 새 시즌 원정 유니폼을 공개했다. 팬들은 만족스럽다는 반응이다.바...  "
            ],
            "text/html": [
              "\n",
              "  <div id=\"df-4f102ffe-8ee0-40c2-9398-f323cb3487ec\">\n",
              "    <div class=\"colab-df-container\">\n",
              "      <div>\n",
              "<style scoped>\n",
              "    .dataframe tbody tr th:only-of-type {\n",
              "        vertical-align: middle;\n",
              "    }\n",
              "\n",
              "    .dataframe tbody tr th {\n",
              "        vertical-align: top;\n",
              "    }\n",
              "\n",
              "    .dataframe thead th {\n",
              "        text-align: right;\n",
              "    }\n",
              "</style>\n",
              "<table border=\"1\" class=\"dataframe\">\n",
              "  <thead>\n",
              "    <tr style=\"text-align: right;\">\n",
              "      <th></th>\n",
              "      <th>TITLE</th>\n",
              "      <th>CONTENT</th>\n",
              "      <th>PUBLISH_DT</th>\n",
              "      <th>cleaned_TITLE</th>\n",
              "      <th>cleaned_CONTENT</th>\n",
              "    </tr>\n",
              "  </thead>\n",
              "  <tbody>\n",
              "    <tr>\n",
              "      <th>0</th>\n",
              "      <td>스털링 다이빙 논란 종결?… “오른쪽 다리 접촉 있었잖아”</td>\n",
              "      <td>[스포탈코리아] 유럽축구연맹(UEFA) 유로 2020 심판위원장 로베르토 로세티가 ...</td>\n",
              "      <td>2021-07-15</td>\n",
              "      <td>스털링 다이빙 논란 종결 오른쪽 다리 접촉 있었잖아</td>\n",
              "      <td>유럽축구연맹 유로 2020 심판위원장 로베르토 로세티가 잉글랜드와 덴마크전에 나온 ...</td>\n",
              "    </tr>\n",
              "    <tr>\n",
              "      <th>1</th>\n",
              "      <td>‘디 마리아 없다’ 유로X코파 베스트11, 이탈리아만 7명</td>\n",
              "      <td>[스포탈코리아] 유로 2020과 코파 아메리카 2021로 베스트11을 만든다면 어떤...</td>\n",
              "      <td>2021-07-15</td>\n",
              "      <td>디 마리아 없다 유로X코파 베스트11 이탈리아만 7명</td>\n",
              "      <td>유로 2020과 코파 아메리카 2021로 베스트11을 만든다면 어떤 모습일까.지난달...</td>\n",
              "    </tr>\n",
              "    <tr>\n",
              "      <th>2</th>\n",
              "      <td>‘슈퍼컴퓨터 예측’ 맨시티 우승-맨유 4위… 토트넘은 ‘6위’</td>\n",
              "      <td>[스포탈코리아] 새 시즌이 시작하기도 전에 슈퍼컴퓨터가 예상한 순위가 나왔다.\\n\\...</td>\n",
              "      <td>2021-07-15</td>\n",
              "      <td>슈퍼컴퓨터 예측 맨시티 우승맨유 4위 토트넘은 6위</td>\n",
              "      <td>새 시즌이 시작하기도 전에 슈퍼컴퓨터가 예상한 순위가 나왔다.영국 매체 스포츠 바이...</td>\n",
              "    </tr>\n",
              "    <tr>\n",
              "      <th>3</th>\n",
              "      <td>“이재성, 완벽한 프로… 마인츠서 성공할 것” 킬 디렉터의 애정 듬뿍 응원</td>\n",
              "      <td>[스포탈코리아] 홀슈타인 킬 우베 스토버 디렉터가 이재성을 향해 응원 메시지를 띄웠...</td>\n",
              "      <td>2021-07-15</td>\n",
              "      <td>이재성 완벽한 프로 마인츠서 성공할 것 킬 디렉터의 애정 듬뿍 응원</td>\n",
              "      <td>홀슈타인 킬 우베 스토버 디렉터가 이재성을 향해 응원 메시지를 띄웠다.이재성은 20...</td>\n",
              "    </tr>\n",
              "    <tr>\n",
              "      <th>4</th>\n",
              "      <td>‘홈킷과 딴판’ 바르사 팬들, NEW 어웨이 셔츠 호평… “가장 좋아하는 색!”</td>\n",
              "      <td>[스포탈코리아] FC 바르셀로나가 새 시즌 원정 유니폼을 공개했다. 팬들은 만족스럽...</td>\n",
              "      <td>2021-07-15</td>\n",
              "      <td>홈킷과 딴판 바르사 팬들 NEW 어웨이 셔츠 호평 가장 좋아하는 색</td>\n",
              "      <td>FC 바르셀로나가 새 시즌 원정 유니폼을 공개했다. 팬들은 만족스럽다는 반응이다.바...</td>\n",
              "    </tr>\n",
              "  </tbody>\n",
              "</table>\n",
              "</div>\n",
              "      <button class=\"colab-df-convert\" onclick=\"convertToInteractive('df-4f102ffe-8ee0-40c2-9398-f323cb3487ec')\"\n",
              "              title=\"Convert this dataframe to an interactive table.\"\n",
              "              style=\"display:none;\">\n",
              "        \n",
              "  <svg xmlns=\"http://www.w3.org/2000/svg\" height=\"24px\"viewBox=\"0 0 24 24\"\n",
              "       width=\"24px\">\n",
              "    <path d=\"M0 0h24v24H0V0z\" fill=\"none\"/>\n",
              "    <path d=\"M18.56 5.44l.94 2.06.94-2.06 2.06-.94-2.06-.94-.94-2.06-.94 2.06-2.06.94zm-11 1L8.5 8.5l.94-2.06 2.06-.94-2.06-.94L8.5 2.5l-.94 2.06-2.06.94zm10 10l.94 2.06.94-2.06 2.06-.94-2.06-.94-.94-2.06-.94 2.06-2.06.94z\"/><path d=\"M17.41 7.96l-1.37-1.37c-.4-.4-.92-.59-1.43-.59-.52 0-1.04.2-1.43.59L10.3 9.45l-7.72 7.72c-.78.78-.78 2.05 0 2.83L4 21.41c.39.39.9.59 1.41.59.51 0 1.02-.2 1.41-.59l7.78-7.78 2.81-2.81c.8-.78.8-2.07 0-2.86zM5.41 20L4 18.59l7.72-7.72 1.47 1.35L5.41 20z\"/>\n",
              "  </svg>\n",
              "      </button>\n",
              "      \n",
              "  <style>\n",
              "    .colab-df-container {\n",
              "      display:flex;\n",
              "      flex-wrap:wrap;\n",
              "      gap: 12px;\n",
              "    }\n",
              "\n",
              "    .colab-df-convert {\n",
              "      background-color: #E8F0FE;\n",
              "      border: none;\n",
              "      border-radius: 50%;\n",
              "      cursor: pointer;\n",
              "      display: none;\n",
              "      fill: #1967D2;\n",
              "      height: 32px;\n",
              "      padding: 0 0 0 0;\n",
              "      width: 32px;\n",
              "    }\n",
              "\n",
              "    .colab-df-convert:hover {\n",
              "      background-color: #E2EBFA;\n",
              "      box-shadow: 0px 1px 2px rgba(60, 64, 67, 0.3), 0px 1px 3px 1px rgba(60, 64, 67, 0.15);\n",
              "      fill: #174EA6;\n",
              "    }\n",
              "\n",
              "    [theme=dark] .colab-df-convert {\n",
              "      background-color: #3B4455;\n",
              "      fill: #D2E3FC;\n",
              "    }\n",
              "\n",
              "    [theme=dark] .colab-df-convert:hover {\n",
              "      background-color: #434B5C;\n",
              "      box-shadow: 0px 1px 3px 1px rgba(0, 0, 0, 0.15);\n",
              "      filter: drop-shadow(0px 1px 2px rgba(0, 0, 0, 0.3));\n",
              "      fill: #FFFFFF;\n",
              "    }\n",
              "  </style>\n",
              "\n",
              "      <script>\n",
              "        const buttonEl =\n",
              "          document.querySelector('#df-4f102ffe-8ee0-40c2-9398-f323cb3487ec button.colab-df-convert');\n",
              "        buttonEl.style.display =\n",
              "          google.colab.kernel.accessAllowed ? 'block' : 'none';\n",
              "\n",
              "        async function convertToInteractive(key) {\n",
              "          const element = document.querySelector('#df-4f102ffe-8ee0-40c2-9398-f323cb3487ec');\n",
              "          const dataTable =\n",
              "            await google.colab.kernel.invokeFunction('convertToInteractive',\n",
              "                                                     [key], {});\n",
              "          if (!dataTable) return;\n",
              "\n",
              "          const docLinkHtml = 'Like what you see? Visit the ' +\n",
              "            '<a target=\"_blank\" href=https://colab.research.google.com/notebooks/data_table.ipynb>data table notebook</a>'\n",
              "            + ' to learn more about interactive tables.';\n",
              "          element.innerHTML = '';\n",
              "          dataTable['output_type'] = 'display_data';\n",
              "          await google.colab.output.renderOutput(dataTable, element);\n",
              "          const docLink = document.createElement('div');\n",
              "          docLink.innerHTML = docLinkHtml;\n",
              "          element.appendChild(docLink);\n",
              "        }\n",
              "      </script>\n",
              "    </div>\n",
              "  </div>\n",
              "  "
            ]
          },
          "metadata": {},
          "execution_count": 18
        }
      ]
    },
    {
      "cell_type": "code",
      "source": [
        "df_new = df[['cleaned_TITLE', 'cleaned_CONTENT']]\n",
        "df_new.rename(columns={'cleaned_CONTENT': 'CONTENT', 'cleaned_TITLE':'TITLE'}, inplace = True)"
      ],
      "metadata": {
        "id": "MQSj-oMeQ5Yb",
        "colab": {
          "base_uri": "https://localhost:8080/"
        },
        "outputId": "f4d4e356-4fca-443d-8b2f-9241ef14c5b2"
      },
      "execution_count": null,
      "outputs": [
        {
          "output_type": "stream",
          "name": "stderr",
          "text": [
            "/usr/local/lib/python3.7/dist-packages/pandas/core/frame.py:5047: SettingWithCopyWarning: \n",
            "A value is trying to be set on a copy of a slice from a DataFrame\n",
            "\n",
            "See the caveats in the documentation: https://pandas.pydata.org/pandas-docs/stable/user_guide/indexing.html#returning-a-view-versus-a-copy\n",
            "  errors=errors,\n"
          ]
        }
      ]
    },
    {
      "cell_type": "code",
      "source": [
        "df_new"
      ],
      "metadata": {
        "id": "trwV6MQRMnwh",
        "colab": {
          "base_uri": "https://localhost:8080/"
        },
        "outputId": "35deffba-c3a5-4e0b-da84-e6b8d8e4c25e"
      },
      "execution_count": null,
      "outputs": [
        {
          "output_type": "execute_result",
          "data": {
            "text/plain": [
              "                                      TITLE  \\\n",
              "0              스털링 다이빙 논란 종결 오른쪽 다리 접촉 있었잖아   \n",
              "1             디 마리아 없다 유로X코파 베스트11 이탈리아만 7명   \n",
              "2              슈퍼컴퓨터 예측 맨시티 우승맨유 4위 토트넘은 6위   \n",
              "3     이재성 완벽한 프로 마인츠서 성공할 것 킬 디렉터의 애정 듬뿍 응원   \n",
              "4     홈킷과 딴판 바르사 팬들 NEW 어웨이 셔츠 호평 가장 좋아하는 색   \n",
              "...                                     ...   \n",
              "8993       이제 홈팬 야유 받는 먹튀 선수 차비 감독 조차 그만 해라   \n",
              "8994               성남 만 17세 유스 김지수와 준프로 계약    \n",
              "8995    오베르마스 아약스서 쫓겨난다...여성 동료들에게 부적절한 메시지   \n",
              "8996   바르사 차비 감독 트라오레 데뷔전 활약에 깜짝...몸이 야수 같아   \n",
              "8997    데파이팔카오산체스디 마리아 퍼거슨 경 은퇴 후 맨유 워스트 11   \n",
              "\n",
              "                                                CONTENT  \n",
              "0     유럽축구연맹 유로 2020 심판위원장 로베르토 로세티가 잉글랜드와 덴마크전에 나온 ...  \n",
              "1     유로 2020과 코파 아메리카 2021로 베스트11을 만든다면 어떤 모습일까.지난달...  \n",
              "2     새 시즌이 시작하기도 전에 슈퍼컴퓨터가 예상한 순위가 나왔다.영국 매체 스포츠 바이...  \n",
              "3     홀슈타인 킬 우베 스토버 디렉터가 이재성을 향해 응원 메시지를 띄웠다.이재성은 20...  \n",
              "4     FC 바르셀로나가 새 시즌 원정 유니폼을 공개했다. 팬들은 만족스럽다는 반응이다.바...  \n",
              "...                                                 ...  \n",
              "8993  FC바르셀로나 팬들에게 우스망 뎀벨레는 밉상이 되어버렸다. 바르사는 7일 오전 0시...  \n",
              "8994  성남FC가 만17세 2004년생 수비수 김지수와 준프로 계약을 체결했다. 김지수는 ...  \n",
              "8995  레전드 마르크 오베르마스가 아약스에서 쫓겨났다. 이유는 굉장히 굴욕적이었다.아약스는...  \n",
              "8996  FC 바르셀로나 차비 에르난데스 감독이 데뷔전을 치른 아다마 트라오레를 극찬했다.바...  \n",
              "8997  이름값만 화려한 맨유 워스트 11이 공개됐다.영국 매체 익스프레스는 7일 알렉스 퍼...  \n",
              "\n",
              "[8998 rows x 2 columns]"
            ],
            "text/html": [
              "\n",
              "  <div id=\"df-9ea2584c-00d9-4455-85bb-bf87fe307b74\">\n",
              "    <div class=\"colab-df-container\">\n",
              "      <div>\n",
              "<style scoped>\n",
              "    .dataframe tbody tr th:only-of-type {\n",
              "        vertical-align: middle;\n",
              "    }\n",
              "\n",
              "    .dataframe tbody tr th {\n",
              "        vertical-align: top;\n",
              "    }\n",
              "\n",
              "    .dataframe thead th {\n",
              "        text-align: right;\n",
              "    }\n",
              "</style>\n",
              "<table border=\"1\" class=\"dataframe\">\n",
              "  <thead>\n",
              "    <tr style=\"text-align: right;\">\n",
              "      <th></th>\n",
              "      <th>TITLE</th>\n",
              "      <th>CONTENT</th>\n",
              "    </tr>\n",
              "  </thead>\n",
              "  <tbody>\n",
              "    <tr>\n",
              "      <th>0</th>\n",
              "      <td>스털링 다이빙 논란 종결 오른쪽 다리 접촉 있었잖아</td>\n",
              "      <td>유럽축구연맹 유로 2020 심판위원장 로베르토 로세티가 잉글랜드와 덴마크전에 나온 ...</td>\n",
              "    </tr>\n",
              "    <tr>\n",
              "      <th>1</th>\n",
              "      <td>디 마리아 없다 유로X코파 베스트11 이탈리아만 7명</td>\n",
              "      <td>유로 2020과 코파 아메리카 2021로 베스트11을 만든다면 어떤 모습일까.지난달...</td>\n",
              "    </tr>\n",
              "    <tr>\n",
              "      <th>2</th>\n",
              "      <td>슈퍼컴퓨터 예측 맨시티 우승맨유 4위 토트넘은 6위</td>\n",
              "      <td>새 시즌이 시작하기도 전에 슈퍼컴퓨터가 예상한 순위가 나왔다.영국 매체 스포츠 바이...</td>\n",
              "    </tr>\n",
              "    <tr>\n",
              "      <th>3</th>\n",
              "      <td>이재성 완벽한 프로 마인츠서 성공할 것 킬 디렉터의 애정 듬뿍 응원</td>\n",
              "      <td>홀슈타인 킬 우베 스토버 디렉터가 이재성을 향해 응원 메시지를 띄웠다.이재성은 20...</td>\n",
              "    </tr>\n",
              "    <tr>\n",
              "      <th>4</th>\n",
              "      <td>홈킷과 딴판 바르사 팬들 NEW 어웨이 셔츠 호평 가장 좋아하는 색</td>\n",
              "      <td>FC 바르셀로나가 새 시즌 원정 유니폼을 공개했다. 팬들은 만족스럽다는 반응이다.바...</td>\n",
              "    </tr>\n",
              "    <tr>\n",
              "      <th>...</th>\n",
              "      <td>...</td>\n",
              "      <td>...</td>\n",
              "    </tr>\n",
              "    <tr>\n",
              "      <th>8993</th>\n",
              "      <td>이제 홈팬 야유 받는 먹튀 선수 차비 감독 조차 그만 해라</td>\n",
              "      <td>FC바르셀로나 팬들에게 우스망 뎀벨레는 밉상이 되어버렸다. 바르사는 7일 오전 0시...</td>\n",
              "    </tr>\n",
              "    <tr>\n",
              "      <th>8994</th>\n",
              "      <td>성남 만 17세 유스 김지수와 준프로 계약</td>\n",
              "      <td>성남FC가 만17세 2004년생 수비수 김지수와 준프로 계약을 체결했다. 김지수는 ...</td>\n",
              "    </tr>\n",
              "    <tr>\n",
              "      <th>8995</th>\n",
              "      <td>오베르마스 아약스서 쫓겨난다...여성 동료들에게 부적절한 메시지</td>\n",
              "      <td>레전드 마르크 오베르마스가 아약스에서 쫓겨났다. 이유는 굉장히 굴욕적이었다.아약스는...</td>\n",
              "    </tr>\n",
              "    <tr>\n",
              "      <th>8996</th>\n",
              "      <td>바르사 차비 감독 트라오레 데뷔전 활약에 깜짝...몸이 야수 같아</td>\n",
              "      <td>FC 바르셀로나 차비 에르난데스 감독이 데뷔전을 치른 아다마 트라오레를 극찬했다.바...</td>\n",
              "    </tr>\n",
              "    <tr>\n",
              "      <th>8997</th>\n",
              "      <td>데파이팔카오산체스디 마리아 퍼거슨 경 은퇴 후 맨유 워스트 11</td>\n",
              "      <td>이름값만 화려한 맨유 워스트 11이 공개됐다.영국 매체 익스프레스는 7일 알렉스 퍼...</td>\n",
              "    </tr>\n",
              "  </tbody>\n",
              "</table>\n",
              "<p>8998 rows × 2 columns</p>\n",
              "</div>\n",
              "      <button class=\"colab-df-convert\" onclick=\"convertToInteractive('df-9ea2584c-00d9-4455-85bb-bf87fe307b74')\"\n",
              "              title=\"Convert this dataframe to an interactive table.\"\n",
              "              style=\"display:none;\">\n",
              "        \n",
              "  <svg xmlns=\"http://www.w3.org/2000/svg\" height=\"24px\"viewBox=\"0 0 24 24\"\n",
              "       width=\"24px\">\n",
              "    <path d=\"M0 0h24v24H0V0z\" fill=\"none\"/>\n",
              "    <path d=\"M18.56 5.44l.94 2.06.94-2.06 2.06-.94-2.06-.94-.94-2.06-.94 2.06-2.06.94zm-11 1L8.5 8.5l.94-2.06 2.06-.94-2.06-.94L8.5 2.5l-.94 2.06-2.06.94zm10 10l.94 2.06.94-2.06 2.06-.94-2.06-.94-.94-2.06-.94 2.06-2.06.94z\"/><path d=\"M17.41 7.96l-1.37-1.37c-.4-.4-.92-.59-1.43-.59-.52 0-1.04.2-1.43.59L10.3 9.45l-7.72 7.72c-.78.78-.78 2.05 0 2.83L4 21.41c.39.39.9.59 1.41.59.51 0 1.02-.2 1.41-.59l7.78-7.78 2.81-2.81c.8-.78.8-2.07 0-2.86zM5.41 20L4 18.59l7.72-7.72 1.47 1.35L5.41 20z\"/>\n",
              "  </svg>\n",
              "      </button>\n",
              "      \n",
              "  <style>\n",
              "    .colab-df-container {\n",
              "      display:flex;\n",
              "      flex-wrap:wrap;\n",
              "      gap: 12px;\n",
              "    }\n",
              "\n",
              "    .colab-df-convert {\n",
              "      background-color: #E8F0FE;\n",
              "      border: none;\n",
              "      border-radius: 50%;\n",
              "      cursor: pointer;\n",
              "      display: none;\n",
              "      fill: #1967D2;\n",
              "      height: 32px;\n",
              "      padding: 0 0 0 0;\n",
              "      width: 32px;\n",
              "    }\n",
              "\n",
              "    .colab-df-convert:hover {\n",
              "      background-color: #E2EBFA;\n",
              "      box-shadow: 0px 1px 2px rgba(60, 64, 67, 0.3), 0px 1px 3px 1px rgba(60, 64, 67, 0.15);\n",
              "      fill: #174EA6;\n",
              "    }\n",
              "\n",
              "    [theme=dark] .colab-df-convert {\n",
              "      background-color: #3B4455;\n",
              "      fill: #D2E3FC;\n",
              "    }\n",
              "\n",
              "    [theme=dark] .colab-df-convert:hover {\n",
              "      background-color: #434B5C;\n",
              "      box-shadow: 0px 1px 3px 1px rgba(0, 0, 0, 0.15);\n",
              "      filter: drop-shadow(0px 1px 2px rgba(0, 0, 0, 0.3));\n",
              "      fill: #FFFFFF;\n",
              "    }\n",
              "  </style>\n",
              "\n",
              "      <script>\n",
              "        const buttonEl =\n",
              "          document.querySelector('#df-9ea2584c-00d9-4455-85bb-bf87fe307b74 button.colab-df-convert');\n",
              "        buttonEl.style.display =\n",
              "          google.colab.kernel.accessAllowed ? 'block' : 'none';\n",
              "\n",
              "        async function convertToInteractive(key) {\n",
              "          const element = document.querySelector('#df-9ea2584c-00d9-4455-85bb-bf87fe307b74');\n",
              "          const dataTable =\n",
              "            await google.colab.kernel.invokeFunction('convertToInteractive',\n",
              "                                                     [key], {});\n",
              "          if (!dataTable) return;\n",
              "\n",
              "          const docLinkHtml = 'Like what you see? Visit the ' +\n",
              "            '<a target=\"_blank\" href=https://colab.research.google.com/notebooks/data_table.ipynb>data table notebook</a>'\n",
              "            + ' to learn more about interactive tables.';\n",
              "          element.innerHTML = '';\n",
              "          dataTable['output_type'] = 'display_data';\n",
              "          await google.colab.output.renderOutput(dataTable, element);\n",
              "          const docLink = document.createElement('div');\n",
              "          docLink.innerHTML = docLinkHtml;\n",
              "          element.appendChild(docLink);\n",
              "        }\n",
              "      </script>\n",
              "    </div>\n",
              "  </div>\n",
              "  "
            ]
          },
          "metadata": {},
          "execution_count": 20
        }
      ]
    },
    {
      "cell_type": "code",
      "source": [
        "df_new['listed_CONTENT'] = df_new['CONTENT'].progress_apply(lambda x: x.split('.'))"
      ],
      "metadata": {
        "colab": {
          "base_uri": "https://localhost:8080/"
        },
        "id": "KWzYDTh748dO",
        "outputId": "d3b4554c-7964-4328-a877-84c16784a6c4"
      },
      "execution_count": null,
      "outputs": [
        {
          "output_type": "stream",
          "name": "stderr",
          "text": [
            "100%|██████████| 8998/8998 [00:00<00:00, 180695.14it/s]\n",
            "/usr/local/lib/python3.7/dist-packages/ipykernel_launcher.py:1: SettingWithCopyWarning: \n",
            "A value is trying to be set on a copy of a slice from a DataFrame.\n",
            "Try using .loc[row_indexer,col_indexer] = value instead\n",
            "\n",
            "See the caveats in the documentation: https://pandas.pydata.org/pandas-docs/stable/user_guide/indexing.html#returning-a-view-versus-a-copy\n",
            "  \"\"\"Entry point for launching an IPython kernel.\n"
          ]
        }
      ]
    },
    {
      "cell_type": "markdown",
      "source": [
        "- 띄어쓰기 및 불용어 처리"
      ],
      "metadata": {
        "id": "ZOrftvJW63Dt"
      }
    },
    {
      "cell_type": "code",
      "source": [
        "# 한국어 불용어 리스트 크롤링\n",
        "\n",
        "\n",
        "url = \"https://www.ranks.nl/stopwords/korean\"\n",
        "response = requests.get(url, verify = False)\n",
        "\n",
        "if response.status_code == 200:\n",
        "    soup = BeautifulSoup(response.text,'html.parser')\n",
        "    content = soup.select_one('#article178ebefbfb1b165454ec9f168f545239 > div.panel-body > table > tbody > tr')\n",
        "    stop_words=[]\n",
        "    for x in content.strings:\n",
        "        x=x.strip()\n",
        "        if x:\n",
        "            stop_words.append(x)\n",
        "    print(f\"# Korean stop words: {len(stop_words)}\")\n",
        "else:\n",
        "    print(response.status_code)"
      ],
      "metadata": {
        "colab": {
          "base_uri": "https://localhost:8080/"
        },
        "id": "-sNfaAWH6fTI",
        "outputId": "f5411197-82d7-46a7-8d63-878dc36db6c1"
      },
      "execution_count": null,
      "outputs": [
        {
          "output_type": "stream",
          "name": "stderr",
          "text": [
            "/usr/local/lib/python3.7/dist-packages/urllib3/connectionpool.py:988: InsecureRequestWarning: Unverified HTTPS request is being made to host 'www.ranks.nl'. Adding certificate verification is strongly advised. See: https://urllib3.readthedocs.io/en/latest/advanced-usage.html#ssl-warnings\n",
            "  InsecureRequestWarning,\n"
          ]
        },
        {
          "output_type": "stream",
          "name": "stdout",
          "text": [
            "# Korean stop words: 677\n"
          ]
        }
      ]
    },
    {
      "cell_type": "code",
      "source": [
        "okt = Okt()\n",
        "\n",
        "def title_tokenizing(x):\n",
        "    temp_data = okt.morphs(x)\n",
        "    temp_list = []\n",
        "    for word in temp_data:\n",
        "        if word in stop_words: \n",
        "            continue\n",
        "        temp_list.append(word)\n",
        "  \n",
        "    return \" \".join(temp_list)\n",
        "    \n",
        "    \n",
        "def content_tokenizing(x):\n",
        "    new_list = list(filter(None, x))\n",
        "    \n",
        "    final_list = []\n",
        "    for i in new_list:\n",
        "        temp_data = okt.morphs(i)\n",
        "        temp_list = []\n",
        "        for word in temp_data:\n",
        "            if word in stop_words:\n",
        "                continue\n",
        "            temp_list.append(word)\n",
        "        final_list.append(\" \".join(temp_list))\n",
        "\n",
        "    return final_list"
      ],
      "metadata": {
        "id": "0lCXhA4D_WBO"
      },
      "execution_count": null,
      "outputs": []
    },
    {
      "cell_type": "code",
      "source": [
        "df_new['tokenized_TITLE'] = df_new['TITLE'].progress_apply(lambda x: title_tokenizing(x))\n",
        "df_new['tokenized_CONTENT'] = df_new['listed_CONTENT'].progress_apply(lambda x: content_tokenizing(x))"
      ],
      "metadata": {
        "colab": {
          "base_uri": "https://localhost:8080/"
        },
        "id": "7Mg_VIivfdpZ",
        "outputId": "ce4ce580-441c-4896-9257-3d1281996580"
      },
      "execution_count": null,
      "outputs": [
        {
          "output_type": "stream",
          "name": "stderr",
          "text": [
            "100%|██████████| 8998/8998 [00:14<00:00, 604.26it/s] \n",
            "/usr/local/lib/python3.7/dist-packages/ipykernel_launcher.py:1: SettingWithCopyWarning: \n",
            "A value is trying to be set on a copy of a slice from a DataFrame.\n",
            "Try using .loc[row_indexer,col_indexer] = value instead\n",
            "\n",
            "See the caveats in the documentation: https://pandas.pydata.org/pandas-docs/stable/user_guide/indexing.html#returning-a-view-versus-a-copy\n",
            "  \"\"\"Entry point for launching an IPython kernel.\n",
            "100%|██████████| 8998/8998 [04:30<00:00, 33.29it/s]\n"
          ]
        }
      ]
    },
    {
      "cell_type": "code",
      "source": [
        "df_new = df_new[['tokenized_TITLE', 'tokenized_CONTENT']]\n",
        "df_new.rename(columns={'tokenized_CONTENT': 'CONTENT', 'tokenized_TITLE':'TITLE'}, inplace = True)\n",
        "df_new"
      ],
      "metadata": {
        "colab": {
          "base_uri": "https://localhost:8080/"
        },
        "id": "no71C-gm-b3r",
        "outputId": "4965c4c7-dae1-41a7-9ce0-9cb98d519597"
      },
      "execution_count": null,
      "outputs": [
        {
          "output_type": "stream",
          "name": "stderr",
          "text": [
            "/usr/local/lib/python3.7/dist-packages/pandas/core/frame.py:5047: SettingWithCopyWarning: \n",
            "A value is trying to be set on a copy of a slice from a DataFrame\n",
            "\n",
            "See the caveats in the documentation: https://pandas.pydata.org/pandas-docs/stable/user_guide/indexing.html#returning-a-view-versus-a-copy\n",
            "  errors=errors,\n"
          ]
        },
        {
          "output_type": "execute_result",
          "data": {
            "text/plain": [
              "                                        TITLE  \\\n",
              "0                스털링 다이빙 논란 종결 오른쪽 다리 접촉 있었잖아   \n",
              "1          디 마리아 없다 유로 X 코파 베스트 11 이탈리아 만 7 명   \n",
              "2            슈퍼컴퓨터 예측 맨시티 우승 맨유 4 위 토트넘 은 6 위   \n",
              "3         이재성 완벽한 프로 마인츠 서 성공할 킬 디렉터 애정 듬뿍 응원   \n",
              "4          홈킷 딴판 바르사 팬 NEW 웨이 셔츠 호평 가장 좋아하는 색   \n",
              "...                                       ...   \n",
              "8993           이제 홈팬 야유 받는 먹튀 선수 차비 감독 그만 해 라   \n",
              "8994                 성남 만 17 세 유스 김지수 준 프로 계약   \n",
              "8995      오베르마스 아약스 서 쫓겨난다 ... 여성 동료 부적절한 메시지   \n",
              "8996     바르사 차비 감독 트라오레 데뷔전 활약 깜짝 ... 몸 야수 같아   \n",
              "8997  데 파이 팔카오 산체스 디 마리아 퍼거슨 경 은퇴 후 맨유 워스트 11   \n",
              "\n",
              "                                                CONTENT  \n",
              "0     [유럽 축구 연맹 유로 2020 심판 위원장 로베르토 로세티 잉글랜드 덴마크 전 나...  \n",
              "1     [유로 2020 코파 아메리카 2021 베스트 11 만든다면 모습 일까, 지난달 시...  \n",
              "2     [새 시즌 시작 하기도 전 슈퍼컴퓨터 예상 한 순위 나왔다, 영국 매체 스포츠 바이...  \n",
              "3     [홀슈타인 킬 우베 스토 버 디렉터 이재성 향 해 응원 메시지 띄웠다, 이재성 은 ...  \n",
              "4     [FC 바르셀로나 새 시즌 원정 유니폼 공개 했다, 팬 은 만족스럽다는 반응 이다,...  \n",
              "...                                                 ...  \n",
              "8993  [FC 바르셀로나 팬 우스 망 뎀벨레 는 밉 상이 되어 버렸다, 바르사 는 7일 오...  \n",
              "8994  [성남 FC 만 17 세 2004년 생 수비수 김지수 준 프로 계약 체결 했다, 김...  \n",
              "8995  [레전드 마르크 오베르마스 아약스 쫓겨났다, 이유 는 굉장히 굴욕 적, 아약스 는 ...  \n",
              "8996  [FC 바르셀로나 차비 에르난데스 감독 데뷔전 치른 다마 트라오레 극찬 했다, 바르...  \n",
              "8997  [이름 값 만 화려한 맨유 워스트 11 공개 됐다, 영국 매체 익스 프레 스 는 7...  \n",
              "\n",
              "[8998 rows x 2 columns]"
            ],
            "text/html": [
              "\n",
              "  <div id=\"df-083f2c04-b3b1-4373-82ae-fe529a712aaf\">\n",
              "    <div class=\"colab-df-container\">\n",
              "      <div>\n",
              "<style scoped>\n",
              "    .dataframe tbody tr th:only-of-type {\n",
              "        vertical-align: middle;\n",
              "    }\n",
              "\n",
              "    .dataframe tbody tr th {\n",
              "        vertical-align: top;\n",
              "    }\n",
              "\n",
              "    .dataframe thead th {\n",
              "        text-align: right;\n",
              "    }\n",
              "</style>\n",
              "<table border=\"1\" class=\"dataframe\">\n",
              "  <thead>\n",
              "    <tr style=\"text-align: right;\">\n",
              "      <th></th>\n",
              "      <th>TITLE</th>\n",
              "      <th>CONTENT</th>\n",
              "    </tr>\n",
              "  </thead>\n",
              "  <tbody>\n",
              "    <tr>\n",
              "      <th>0</th>\n",
              "      <td>스털링 다이빙 논란 종결 오른쪽 다리 접촉 있었잖아</td>\n",
              "      <td>[유럽 축구 연맹 유로 2020 심판 위원장 로베르토 로세티 잉글랜드 덴마크 전 나...</td>\n",
              "    </tr>\n",
              "    <tr>\n",
              "      <th>1</th>\n",
              "      <td>디 마리아 없다 유로 X 코파 베스트 11 이탈리아 만 7 명</td>\n",
              "      <td>[유로 2020 코파 아메리카 2021 베스트 11 만든다면 모습 일까, 지난달 시...</td>\n",
              "    </tr>\n",
              "    <tr>\n",
              "      <th>2</th>\n",
              "      <td>슈퍼컴퓨터 예측 맨시티 우승 맨유 4 위 토트넘 은 6 위</td>\n",
              "      <td>[새 시즌 시작 하기도 전 슈퍼컴퓨터 예상 한 순위 나왔다, 영국 매체 스포츠 바이...</td>\n",
              "    </tr>\n",
              "    <tr>\n",
              "      <th>3</th>\n",
              "      <td>이재성 완벽한 프로 마인츠 서 성공할 킬 디렉터 애정 듬뿍 응원</td>\n",
              "      <td>[홀슈타인 킬 우베 스토 버 디렉터 이재성 향 해 응원 메시지 띄웠다, 이재성 은 ...</td>\n",
              "    </tr>\n",
              "    <tr>\n",
              "      <th>4</th>\n",
              "      <td>홈킷 딴판 바르사 팬 NEW 웨이 셔츠 호평 가장 좋아하는 색</td>\n",
              "      <td>[FC 바르셀로나 새 시즌 원정 유니폼 공개 했다, 팬 은 만족스럽다는 반응 이다,...</td>\n",
              "    </tr>\n",
              "    <tr>\n",
              "      <th>...</th>\n",
              "      <td>...</td>\n",
              "      <td>...</td>\n",
              "    </tr>\n",
              "    <tr>\n",
              "      <th>8993</th>\n",
              "      <td>이제 홈팬 야유 받는 먹튀 선수 차비 감독 그만 해 라</td>\n",
              "      <td>[FC 바르셀로나 팬 우스 망 뎀벨레 는 밉 상이 되어 버렸다, 바르사 는 7일 오...</td>\n",
              "    </tr>\n",
              "    <tr>\n",
              "      <th>8994</th>\n",
              "      <td>성남 만 17 세 유스 김지수 준 프로 계약</td>\n",
              "      <td>[성남 FC 만 17 세 2004년 생 수비수 김지수 준 프로 계약 체결 했다, 김...</td>\n",
              "    </tr>\n",
              "    <tr>\n",
              "      <th>8995</th>\n",
              "      <td>오베르마스 아약스 서 쫓겨난다 ... 여성 동료 부적절한 메시지</td>\n",
              "      <td>[레전드 마르크 오베르마스 아약스 쫓겨났다, 이유 는 굉장히 굴욕 적, 아약스 는 ...</td>\n",
              "    </tr>\n",
              "    <tr>\n",
              "      <th>8996</th>\n",
              "      <td>바르사 차비 감독 트라오레 데뷔전 활약 깜짝 ... 몸 야수 같아</td>\n",
              "      <td>[FC 바르셀로나 차비 에르난데스 감독 데뷔전 치른 다마 트라오레 극찬 했다, 바르...</td>\n",
              "    </tr>\n",
              "    <tr>\n",
              "      <th>8997</th>\n",
              "      <td>데 파이 팔카오 산체스 디 마리아 퍼거슨 경 은퇴 후 맨유 워스트 11</td>\n",
              "      <td>[이름 값 만 화려한 맨유 워스트 11 공개 됐다, 영국 매체 익스 프레 스 는 7...</td>\n",
              "    </tr>\n",
              "  </tbody>\n",
              "</table>\n",
              "<p>8998 rows × 2 columns</p>\n",
              "</div>\n",
              "      <button class=\"colab-df-convert\" onclick=\"convertToInteractive('df-083f2c04-b3b1-4373-82ae-fe529a712aaf')\"\n",
              "              title=\"Convert this dataframe to an interactive table.\"\n",
              "              style=\"display:none;\">\n",
              "        \n",
              "  <svg xmlns=\"http://www.w3.org/2000/svg\" height=\"24px\"viewBox=\"0 0 24 24\"\n",
              "       width=\"24px\">\n",
              "    <path d=\"M0 0h24v24H0V0z\" fill=\"none\"/>\n",
              "    <path d=\"M18.56 5.44l.94 2.06.94-2.06 2.06-.94-2.06-.94-.94-2.06-.94 2.06-2.06.94zm-11 1L8.5 8.5l.94-2.06 2.06-.94-2.06-.94L8.5 2.5l-.94 2.06-2.06.94zm10 10l.94 2.06.94-2.06 2.06-.94-2.06-.94-.94-2.06-.94 2.06-2.06.94z\"/><path d=\"M17.41 7.96l-1.37-1.37c-.4-.4-.92-.59-1.43-.59-.52 0-1.04.2-1.43.59L10.3 9.45l-7.72 7.72c-.78.78-.78 2.05 0 2.83L4 21.41c.39.39.9.59 1.41.59.51 0 1.02-.2 1.41-.59l7.78-7.78 2.81-2.81c.8-.78.8-2.07 0-2.86zM5.41 20L4 18.59l7.72-7.72 1.47 1.35L5.41 20z\"/>\n",
              "  </svg>\n",
              "      </button>\n",
              "      \n",
              "  <style>\n",
              "    .colab-df-container {\n",
              "      display:flex;\n",
              "      flex-wrap:wrap;\n",
              "      gap: 12px;\n",
              "    }\n",
              "\n",
              "    .colab-df-convert {\n",
              "      background-color: #E8F0FE;\n",
              "      border: none;\n",
              "      border-radius: 50%;\n",
              "      cursor: pointer;\n",
              "      display: none;\n",
              "      fill: #1967D2;\n",
              "      height: 32px;\n",
              "      padding: 0 0 0 0;\n",
              "      width: 32px;\n",
              "    }\n",
              "\n",
              "    .colab-df-convert:hover {\n",
              "      background-color: #E2EBFA;\n",
              "      box-shadow: 0px 1px 2px rgba(60, 64, 67, 0.3), 0px 1px 3px 1px rgba(60, 64, 67, 0.15);\n",
              "      fill: #174EA6;\n",
              "    }\n",
              "\n",
              "    [theme=dark] .colab-df-convert {\n",
              "      background-color: #3B4455;\n",
              "      fill: #D2E3FC;\n",
              "    }\n",
              "\n",
              "    [theme=dark] .colab-df-convert:hover {\n",
              "      background-color: #434B5C;\n",
              "      box-shadow: 0px 1px 3px 1px rgba(0, 0, 0, 0.15);\n",
              "      filter: drop-shadow(0px 1px 2px rgba(0, 0, 0, 0.3));\n",
              "      fill: #FFFFFF;\n",
              "    }\n",
              "  </style>\n",
              "\n",
              "      <script>\n",
              "        const buttonEl =\n",
              "          document.querySelector('#df-083f2c04-b3b1-4373-82ae-fe529a712aaf button.colab-df-convert');\n",
              "        buttonEl.style.display =\n",
              "          google.colab.kernel.accessAllowed ? 'block' : 'none';\n",
              "\n",
              "        async function convertToInteractive(key) {\n",
              "          const element = document.querySelector('#df-083f2c04-b3b1-4373-82ae-fe529a712aaf');\n",
              "          const dataTable =\n",
              "            await google.colab.kernel.invokeFunction('convertToInteractive',\n",
              "                                                     [key], {});\n",
              "          if (!dataTable) return;\n",
              "\n",
              "          const docLinkHtml = 'Like what you see? Visit the ' +\n",
              "            '<a target=\"_blank\" href=https://colab.research.google.com/notebooks/data_table.ipynb>data table notebook</a>'\n",
              "            + ' to learn more about interactive tables.';\n",
              "          element.innerHTML = '';\n",
              "          dataTable['output_type'] = 'display_data';\n",
              "          await google.colab.output.renderOutput(dataTable, element);\n",
              "          const docLink = document.createElement('div');\n",
              "          docLink.innerHTML = docLinkHtml;\n",
              "          element.appendChild(docLink);\n",
              "        }\n",
              "      </script>\n",
              "    </div>\n",
              "  </div>\n",
              "  "
            ]
          },
          "metadata": {},
          "execution_count": 25
        }
      ]
    },
    {
      "cell_type": "code",
      "source": [
        "df_new.loc[0, 'CONTENT']"
      ],
      "metadata": {
        "colab": {
          "base_uri": "https://localhost:8080/"
        },
        "id": "Aa_-ie2sN7Gg",
        "outputId": "92a1df63-48f9-402d-cd6e-e9a990759719"
      },
      "execution_count": null,
      "outputs": [
        {
          "output_type": "execute_result",
          "data": {
            "text/plain": [
              "['유럽 축구 연맹 유로 2020 심판 위원장 로베르토 로세티 잉글랜드 덴마크 전 나온 판정 논란 정심 이라고 공언 했다',\n",
              " '지난 8일 잉글랜드 덴마크 는 유로 2020 4 강 결승 티켓 두고 격돌 했다',\n",
              " '연장 접전 끝 잉글랜드 21 이겼다',\n",
              " '경기 후 논란 불거졌다',\n",
              " '11 팽팽 하던 연장 전반 12분 라 힘 스털링 드리블 돌파 하던 중 요아킴 멜레 마티아스 옌센 사이 넘어졌다',\n",
              " '심판 은 곧장 페널티 스팟 찍었다',\n",
              " '비디오 판독 실과 의견 나눈 뒤 에도 원심 유지 했다',\n",
              " '페널티킥 얻은 잉글랜드 는 해리 케인 실축 했지만 흐른 볼 밀어 넣어 결승 티켓 따냈다',\n",
              " '장면 두고 갑론 박 펼쳐졌다',\n",
              " '스털링 은 경기 후 인터뷰 명백한 페널티킥 이라고 주장 했지만 전문가 의견 은 달랐다',\n",
              " '조제 모리뉴 AS 로마 감독 아르 센 벵거 전 아스널 감독 은 페널티킥 아니다고 입 모았다',\n",
              " '많은 이야기 흘러나오는 가운데 유로 2020 심판 위원장 로세티 오심 아니라는 입장 내놨다',\n",
              " '로세티 위원장 은 14일 영국 매체 가디언 인터뷰 주심 은 5 번 수비수 주목 했다',\n",
              " '수비수 볼 터치 하지 않았다고 봤다',\n",
              " '멜레 오른쪽 다리 스털링 오른쪽 다리 접촉 한 확인 했다',\n",
              " '접촉 강도 논 할 수 있지만 는 항상 심판 의사결정 과정 중심 되길 바란다고 밝혔다',\n",
              " '로세티 위원장 심판 대표 해 의견 냈지만 오심 이라고 생각 하는 받아들일지는 미지수 다',\n",
              " '스털링 은 평소 에도 다이빙 논란 시 달려왔고 많은 머릿속 다이버 라는 인식 가득하기 때문 이다']"
            ]
          },
          "metadata": {},
          "execution_count": 26
        }
      ]
    },
    {
      "cell_type": "code",
      "source": [
        "df_new['len'] = df_new['CONTENT'].apply(lambda x: len(x))\n",
        "max(df_new['len'].to_list())"
      ],
      "metadata": {
        "colab": {
          "base_uri": "https://localhost:8080/"
        },
        "id": "6CGb0RmNvt1C",
        "outputId": "0f14494b-36f7-443e-e973-73d3c3e58bf8"
      },
      "execution_count": null,
      "outputs": [
        {
          "output_type": "stream",
          "name": "stderr",
          "text": [
            "/usr/local/lib/python3.7/dist-packages/ipykernel_launcher.py:1: SettingWithCopyWarning: \n",
            "A value is trying to be set on a copy of a slice from a DataFrame.\n",
            "Try using .loc[row_indexer,col_indexer] = value instead\n",
            "\n",
            "See the caveats in the documentation: https://pandas.pydata.org/pandas-docs/stable/user_guide/indexing.html#returning-a-view-versus-a-copy\n",
            "  \"\"\"Entry point for launching an IPython kernel.\n"
          ]
        },
        {
          "output_type": "execute_result",
          "data": {
            "text/plain": [
              "249"
            ]
          },
          "metadata": {},
          "execution_count": 27
        }
      ]
    },
    {
      "cell_type": "markdown",
      "source": [
        "#Extractive summarization - Matchsum"
      ],
      "metadata": {
        "id": "OwR_0Y2Uyc0g"
      }
    },
    {
      "cell_type": "markdown",
      "source": [
        "### Dataset & Dataloader 생성"
      ],
      "metadata": {
        "id": "7NQTQNZdTDuO"
      }
    },
    {
      "cell_type": "code",
      "source": [
        "def control_input_ids(input_ids_tensor,length,cls_token_num,sep_token_num,pad_token_num):\n",
        "  cur_length = len(input_ids_tensor)\n",
        "  cls_token = torch.tensor([cls_token_num])\n",
        "  sep_token = torch.tensor([sep_token_num])\n",
        "\n",
        "  if cur_length+2 > length:\n",
        "    input_ids_tensor = input_ids_tensor[:length-2]  # 길이가 넘치면 자른다\n",
        "    return torch.cat([cls_token,input_ids_tensor,sep_token])\n",
        "  else:\n",
        "    input_ids_tensor = torch.cat([cls_token,input_ids_tensor,sep_token])\n",
        "    padding_list = torch.tensor([pad_token_num]*(length - cur_length -2)) # 길이가 모자라면 padding token 을 채운다\n",
        "    return torch.cat([input_ids_tensor,padding_list])"
      ],
      "metadata": {
        "id": "YBy1iVi6PfKj"
      },
      "execution_count": null,
      "outputs": []
    },
    {
      "cell_type": "code",
      "source": [
        "def custom_collate_fn(samples):\n",
        "  \n",
        "  text_ids = torch.empty(0,512)\n",
        "  labels_ids = torch.empty(0,32)\n",
        "  for sample in samples:\n",
        "    text_ids = torch.cat([text_ids,sample['text_input_ids'].unsqueeze(0)],dim=0) \n",
        "    labels_ids = torch.cat([labels_ids,sample['labels_input_ids'].unsqueeze(0)],dim=0)\n",
        "\n",
        "  sentence_input_ids = [sample['sentence_input_ids'] for sample in samples]\n",
        "  nn.utils.rnn.pad_sequence(sentence_input_ids,batch_first=True,padding_value = 1)\n",
        "\n",
        "  return dict(text_input_ids = text_ids.to(torch.int64), labels_input_ids = labels_ids.to(torch.int64), sentence_input_ids = sentence_input_ids)"
      ],
      "metadata": {
        "id": "bUCSPhOid36D"
      },
      "execution_count": null,
      "outputs": []
    },
    {
      "cell_type": "code",
      "source": [
        "class CustomDataset(Dataset):\n",
        "  def __init__(\n",
        "      self, data, tokenizer,\n",
        "      text_max_token_len = 512,\n",
        "      summary_max_token_len = 32\n",
        "        ):\n",
        "    self.tokenizer = tokenizer\n",
        "    self.data = data\n",
        "    self.text_max_token_len = text_max_token_len\n",
        "    self.summary_max_token_len = summary_max_token_len\n",
        "  def __len__(self):\n",
        "    return len(self.data)\n",
        "  \n",
        "  def __getitem__(self, index):\n",
        "    cls_token_num = 0\n",
        "    sep_token_num = 2\n",
        "    pad_token_num = 1\n",
        "    \n",
        "    data_row = self.data.iloc[index]\n",
        "    text = data_row['CONTENT']\n",
        "    \n",
        "    total_text_ids = torch.tensor([])\n",
        "    sentence_input_ids = torch.empty(0,32)\n",
        "\n",
        "    for sentence in text:\n",
        "      text_encoding_sentence = self.tokenizer(\n",
        "          sentence,return_tensors = \"pt\",add_special_tokens=False)\n",
        "      sentence_indiv_input_ids = text_encoding_sentence['input_ids'].flatten()\n",
        "      total_text_ids = torch.cat([total_text_ids,sentence_indiv_input_ids])\n",
        "\n",
        "      sentence_indiv_input_ids = control_input_ids(sentence_indiv_input_ids,self.summary_max_token_len,cls_token_num,sep_token_num,pad_token_num)\n",
        "      sentence_indiv_input_ids = sentence_indiv_input_ids.unsqueeze(0)\n",
        "      sentence_input_ids = torch.cat([sentence_input_ids,sentence_indiv_input_ids],dim=0)\n",
        "    \n",
        "    sentence_input_ids = sentence_input_ids.to(torch.int64)\n",
        "    total_text_ids = control_input_ids(total_text_ids,self.text_max_token_len,cls_token_num,sep_token_num,pad_token_num)    \n",
        "    total_text_ids = total_text_ids\n",
        "\n",
        "    labels = data_row['TITLE']\n",
        "    summary_encoding = self.tokenizer(\n",
        "        labels,\n",
        "        add_special_tokens = False,\n",
        "        return_tensors = \"pt\"\n",
        "    )\n",
        "\n",
        "    labels_ids = summary_encoding['input_ids'].flatten()\n",
        "    labels_ids = control_input_ids(labels_ids,self.summary_max_token_len,cls_token_num,sep_token_num,pad_token_num)\n",
        "\n",
        "    return dict(text_input_ids = total_text_ids, labels_input_ids = labels_ids, sentence_input_ids = sentence_input_ids)\n"
      ],
      "metadata": {
        "id": "V93s8-DRniiR"
      },
      "execution_count": null,
      "outputs": []
    },
    {
      "cell_type": "markdown",
      "source": [
        ""
      ],
      "metadata": {
        "id": "BTYpg3eVs76S"
      }
    },
    {
      "cell_type": "code",
      "source": [
        "tokenizer = get_kobart_tokenizer()"
      ],
      "metadata": {
        "id": "yNA-2QR7uXMl",
        "colab": {
          "base_uri": "https://localhost:8080/"
        },
        "outputId": "76e1fe3e-e856-4f77-9f8c-2e960748eebe"
      },
      "execution_count": null,
      "outputs": [
        {
          "output_type": "stream",
          "name": "stdout",
          "text": [
            "/content/.cache/kobart_base_tokenizer_cased_cf74400bce.zip[██████████████████████████████████████████████████]\n"
          ]
        }
      ]
    },
    {
      "cell_type": "code",
      "source": [
        "whole_dataset = CustomDataset(df_new,tokenizer)\n",
        "\n",
        "train_set_num = len(df_new)//9*7\n",
        "train_dataset , valid_dataset = random_split(whole_dataset, [train_set_num,len(df_new)-train_set_num])\n",
        "train_dataloader = DataLoader(train_dataset, batch_size = 2, shuffle=True,collate_fn = custom_collate_fn)\n",
        "valid_dataloader =  DataLoader(valid_dataset, batch_size = 2, shuffle=False,collate_fn = custom_collate_fn)"
      ],
      "metadata": {
        "id": "hK1C6_KKrL7v"
      },
      "execution_count": null,
      "outputs": []
    },
    {
      "cell_type": "code",
      "source": [
        "next(iter(train_dataloader))"
      ],
      "metadata": {
        "colab": {
          "base_uri": "https://localhost:8080/"
        },
        "id": "EmtDrr59-ex1",
        "outputId": "463a2696-17cb-40c5-f5e1-34d275edde26"
      },
      "execution_count": null,
      "outputs": [
        {
          "output_type": "execute_result",
          "data": {
            "text/plain": [
              "{'labels_input_ids': tensor([[    0, 14086, 15506, 23517, 14806, 16276, 26869, 13469, 14137, 12037,\n",
              "          27578, 14402, 20007, 14082,     2,     1,     1,     1,     1,     1,\n",
              "              1,     1,     1,     1,     1,     1,     1,     1,     1,     1,\n",
              "              1,     1],\n",
              "         [    0, 14025,  9000, 12037, 14683,  9776, 16959,  9866, 14347, 13455,\n",
              "          15154, 15464,   274, 15819, 12332, 14710, 11715,  9754,     2,     1,\n",
              "              1,     1,     1,     1,     1,     1,     1,     1,     1,     1,\n",
              "              1,     1]]),\n",
              " 'sentence_input_ids': [tensor([[    0, 15251, 16449, 14091, 10527, 27890, 16400, 14272, 11986, 14154,\n",
              "           23517, 16211, 14669, 14036, 14591, 27578, 14402, 23980, 14784, 14307,\n",
              "           11440, 20007, 14082, 14497,  9766, 15988, 29365,     2,     1,     1,\n",
              "               1,     1],\n",
              "          [    0, 16649,   268, 22758, 15494, 16625, 25477, 16513, 11857, 15658,\n",
              "           14036, 14091, 10527, 21596, 19250,   248, 14745, 21345, 16649,   268,\n",
              "           22758, 16649,   266,   275, 14787, 14119, 14029, 12335, 23517, 14434,\n",
              "           22926,     2],\n",
              "          [    0, 23517, 14616, 16858, 11986, 20956, 14106, 12147, 10439, 10527,\n",
              "           28968, 11763, 14420, 11841,  9571, 17231, 18025, 26414,  9654, 14347,\n",
              "            9501,  9925, 28307, 14532, 13699, 16061, 23681, 21905, 14417, 14025,\n",
              "           10608,     2],\n",
              "          [    0, 14154, 23517, 26837,  9230, 14669, 15646, 15207,  9441,  9810,\n",
              "           14532, 13699, 16061, 14806, 14135, 10776, 26178,     2,     1,     1,\n",
              "               1,     1,     1,     1,     1,     1,     1,     1,     1,     1,\n",
              "               1,     1],\n",
              "          [    0, 16858, 11986, 15494, 14041, 13332, 10298, 15880, 12972, 26279,\n",
              "            9989, 15073,   282,   270, 15494, 27957, 26279,  9989, 15154, 17187,\n",
              "           26178,     2,     1,     1,     1,     1,     1,     1,     1,     1,\n",
              "               1,     1],\n",
              "          [    0, 14412, 23980, 14784, 14307, 11440, 15494, 21638, 18847, 14293,\n",
              "           16211, 14775,  9770, 16174, 14873, 19679, 14713, 22926,     2,     1,\n",
              "               1,     1,     1,     1,     1,     1,     1,     1,     1,     1,\n",
              "               1,     1],\n",
              "          [    0, 15494, 16858, 11986, 15487, 17347, 14219, 22085, 17080, 16989,\n",
              "           14086, 14165, 23517, 14806, 14044, 14179,  1700, 14495, 17150, 14160,\n",
              "            9084,  9754,     2,     1,     1,     1,     1,     1,     1,     1,\n",
              "               1,     1],\n",
              "          [    0, 14077, 23517, 14806, 14467, 15289, 14055, 22145,     2,     1,\n",
              "               1,     1,     1,     1,     1,     1,     1,     1,     1,     1,\n",
              "               1,     1,     1,     1,     1,     1,     1,     1,     1,     1,\n",
              "               1,     1],\n",
              "          [    0, 17932, 16649,   266,   275, 14521,  9545, 18404, 14029, 12335,\n",
              "           23517, 16421, 14655, 14077, 14815, 18694, 14036, 14077, 14299, 16681,\n",
              "           14908, 14293, 18694, 15497, 14908, 14806, 14787, 14119, 15253, 12332,\n",
              "           14200,     2],\n",
              "          [    0, 14085, 11734, 10298, 11703, 15154, 14908, 23517, 14044, 14077,\n",
              "           14815, 18694, 14293, 14077, 14799, 29968,  9810, 16858, 11986, 14061,\n",
              "           12034, 14740, 26178,     2,     1,     1,     1,     1,     1,     1,\n",
              "               1,     1],\n",
              "          [    0, 14257, 15494, 14092, 14539, 21794,  9754,     2,     1,     1,\n",
              "               1,     1,     1,     1,     1,     1,     1,     1,     1,     1,\n",
              "               1,     1,     1,     1,     1,     1,     1,     1,     1,     1,\n",
              "               1,     1],\n",
              "          [    0, 14041, 13332, 10298, 13358, 12972, 15154, 14657, 14207, 16858,\n",
              "           11986, 23517, 14061, 12034, 14301, 12052, 12332, 14677,  9754,     2,\n",
              "               1,     1,     1,     1,     1,     1,     1,     1,     1,     1,\n",
              "               1,     1],\n",
              "          [    0, 16858, 11986, 14061, 14807, 14434, 14464, 23517, 14041, 13332,\n",
              "           10298, 13358, 12972, 15154, 15494, 14122, 15958, 10441,  1700, 10712,\n",
              "           13659, 14657, 26178,     2,     1,     1,     1,     1,     1,     1,\n",
              "               1,     1],\n",
              "          [    0, 14412, 20634, 14118, 17973, 19884, 14311, 18392, 16649,   268,\n",
              "           22758, 15494, 14434, 23048, 21869, 14702, 14184, 14057, 14257, 14389,\n",
              "           14075, 10428, 14669, 18701, 18976, 14498, 15936, 14086, 14534, 23322,\n",
              "           14787,     2]]),\n",
              "  tensor([[    0, 14025,  9000, 12037, 14683,  9776, 14197, 21428, 16207, 15547,\n",
              "           14765, 14371,  1700, 10314, 18733, 14307, 14257, 15099,  9754,     2,\n",
              "               1,     1,     1,     1,     1,     1,     1,     1,     1,     1,\n",
              "               1,     1],\n",
              "          [    0, 14087, 11900, 10439, 12884, 15494, 17499, 14670, 18531, 19095,\n",
              "           14105,  9760, 10396, 14529, 14471, 28725, 14560, 10610, 14340, 14471,\n",
              "           10215, 15123, 22965, 14739, 19250,   248, 14745, 21345, 19095, 16251,\n",
              "           17157,     2],\n",
              "          [    0, 14456, 29934, 10948,  1700, 14279, 14025,  9000, 12037, 17874,\n",
              "           14806, 16126,  9509,  9754,     2,     1,     1,     1,     1,     1,\n",
              "               1,     1,     1,     1,     1,     1,     1,     1,     1,     1,\n",
              "               1,     1],\n",
              "          [    0, 16871, 29198, 17860, 14043, 14248, 22663, 11011, 14473, 14289,\n",
              "           17418, 10776, 23691, 14089, 27549, 14683,  9776, 21851, 15694, 10582,\n",
              "           17833, 11921, 14312, 12960,  9754,     2,     1,     1,     1,     1,\n",
              "               1,     1],\n",
              "          [    0, 17901,  1700, 14279, 14038, 10788, 17808, 14673, 11440, 14583,\n",
              "           14947, 13582, 14087, 11900, 10439, 12884, 15232, 23310, 10338, 15371,\n",
              "           14166, 16982,     2,     1,     1,     1,     1,     1,     1,     1,\n",
              "               1,     1],\n",
              "          [    0, 19095, 21952, 16584, 14057, 13468, 19073, 10496, 14044, 11843,\n",
              "           14806, 14371, 14140, 14025,  9000, 12037, 17874, 14087, 11900, 10439,\n",
              "           12884, 15494, 16871, 12126,  1700, 14279, 14927,  9106, 14155, 10325,\n",
              "            9754,     2],\n",
              "          [    0, 14025,  9000, 12037, 14806, 14679, 16023, 15154, 15232, 15837,\n",
              "           11763, 20371,  9102, 14471, 28725, 25919, 15338, 14986, 10746, 23592,\n",
              "           14986, 14307, 11440, 14087, 10443, 15819, 12332, 14710, 11715,  9754,\n",
              "           14218,     2],\n",
              "          [    0, 14025,  9000, 12037, 14806, 14441, 15484, 12074, 20443, 14083,\n",
              "           13369, 14657, 16989, 14271, 16636, 17084, 15837,  9269, 20204, 22926,\n",
              "               2,     1,     1,     1,     1,     1,     1,     1,     1,     1,\n",
              "               1,     1],\n",
              "          [    0, 14471, 28725, 14038, 14232, 14040, 11911, 14300, 20245, 22032,\n",
              "           14087, 11900, 10439, 12884, 23760, 14121, 17845, 23333, 19794, 14718,\n",
              "           14025,  9754,     2,     1,     1,     1,     1,     1,     1,     1,\n",
              "               1,     1]])],\n",
              " 'text_input_ids': tensor([[    0, 15251, 16449,  ...,     1,     1,     1],\n",
              "         [    0, 14025,  9000,  ...,     1,     1,     1]])}"
            ]
          },
          "metadata": {},
          "execution_count": 33
        }
      ]
    },
    {
      "cell_type": "markdown",
      "source": [
        "### Matchsum\n",
        "\n",
        "- 평가 metric -> rdass\n",
        "- 기본적으로 모델에 스코어가 높은 5개의 단일 문장을 뽑고 뽑인 문장으로 만들어진 조합 가운데서 스코어가 높은 조합을 golden summary로 선정\n",
        "- loss 는 margin ranking loss 사용\n"
      ],
      "metadata": {
        "id": "2z5e_W-U93BH"
      }
    },
    {
      "cell_type": "code",
      "source": [
        "def get_score(doc,label,answer):\n",
        "  score_1 = torch.cosine_similarity(doc,answer,dim=0)\n",
        "  score_2 = torch.cosine_similarity(label,answer,dim=0)\n",
        "  return (score_1+score_2)/2"
      ],
      "metadata": {
        "id": "2uoHyFZ8xJ6X"
      },
      "execution_count": 48,
      "outputs": []
    },
    {
      "cell_type": "code",
      "source": [
        "def get_candidate_id(doc_emb,summary_emb,batch_sentence_id, candidate_num, extract_model,device):\n",
        "    cls_token = torch.tensor([0]).to(device)\n",
        "    sep_token = torch.tensor([2]).to(device)\n",
        "    candidate_ids = torch.empty([0,candidate_num,128]).to(device)\n",
        "    \n",
        "    for batch_idx, sentence_id_tensor in enumerate(batch_sentence_id):\n",
        "      sentence_id_tensor = sentence_id_tensor.to(device)\n",
        "      out = extract_model.forward(sentence_id_tensor)  #sentence_id_tensor = [문장 갯수,32개의 토큰]\n",
        "      hidden_states = out['last_hidden_state'][:,0,:] # [문장 갯수,token 갯수 ,768 dim_vec]\n",
        "      score_list= []\n",
        "      \n",
        "      for i in range(hidden_states.shape[0]):\n",
        "        score = get_score(doc = doc_emb[batch_idx,:], label = summary_emb[batch_idx,:], answer = hidden_states[i,:])\n",
        "        score_list.append((score,i))\n",
        "      \n",
        "      score_list.sort(key = lambda x: x[0],reverse=True)\n",
        "      idx_list = [idx for _,idx in score_list][:5]\n",
        "    \n",
        "      # get candidate summaries\n",
        "      # here is for CNN/DM: truncate each document into the 5 most important sentences (using BertExt), \n",
        "      # then select any 2 or 3 sentences to form a candidate summary, so there are C(5,2)+C(5,3)=20 candidate summaries.\n",
        "      # if you want to process other datasets, you may need to adjust these numbers according to specific situation.\n",
        "      indices = list(combinations(idx_list, 2))\n",
        "      indices += list(combinations(idx_list, 3))\n",
        "      \n",
        "      if len(indices) < 2:\n",
        "        indices = [idx_list]\n",
        "      \n",
        "      len_indices = len(indices) \n",
        "      if len_indices < candidate_num : \n",
        "        indices = indices*(candidate_num//len_indices)\n",
        "        indices.append(idx_list[:-(candidate_num%len_indices)])\n",
        "\n",
        "      # get score for each candidate summary and sort them in descending order\n",
        "      score = []\n",
        "      for i in indices:\n",
        "          i = list(i)\n",
        "          i.sort()\n",
        "          # write dec\n",
        "          dec = torch.tensor([]).to(device)\n",
        "          for j in i:\n",
        "              sent = sentence_id_tensor[j]\n",
        "              sent = sent[1:]\n",
        "              sep_token_idx = 0\n",
        "              for token_idx in range(len(sent)):\n",
        "                if sent[token_idx] == 2: break\n",
        "                else:sep_token_idx += 1\n",
        "              sent = sent[:sep_token_idx]\n",
        "              dec = torch.cat([dec,sent],dim=0)\n",
        "          \n",
        "          dec = torch.cat([cls_token,dec,sep_token],dim=0)\n",
        "          dec = dec.to(torch.int64)\n",
        "          dec_out = extract_model.forward(input_ids = dec.unsqueeze(0))\n",
        "          score.append((dec, get_score(doc_emb[batch_idx,:],summary_emb[batch_idx,:], dec_out['last_hidden_state'][0,0,:])))\n",
        "      \n",
        "      score.sort(key=lambda x : x[1], reverse=True)\n",
        "      score = score[:candidate_num]\n",
        "      \n",
        "      candidate_ids_ind= torch.empty(0,128).to(device)\n",
        "      for k,_ in score:\n",
        "        dec = k\n",
        "        if len(dec) < 128:\n",
        "          padding_list = torch.tensor([1]*(128-len(dec))).to(device)\n",
        "          dec = torch.cat([k,padding_list],dim=0)\n",
        "        else:\n",
        "          dec = dec[:128]\n",
        "\n",
        "        candidate_ids_ind = torch.cat([candidate_ids_ind,dec.unsqueeze(0)],dim = 0)\n",
        "\n",
        "      candidate_ids = torch.cat([candidate_ids,candidate_ids_ind.unsqueeze(0)],dim = 0)\n",
        "\n",
        "    return candidate_ids.to(torch.int64)"
      ],
      "metadata": {
        "id": "zw3Cv452e1y1"
      },
      "execution_count": 14,
      "outputs": []
    },
    {
      "cell_type": "code",
      "source": [
        "class MatchSum(nn.Module):  \n",
        "    def __init__ (self, encoder, candidate_num, device,hidden_size=768):\n",
        "        super(MatchSum, self).__init__()\n",
        "        \n",
        "        self.hidden_size = hidden_size\n",
        "        self.candidate_num  = candidate_num\n",
        "        self.encoder = encoder\n",
        "        self.device = device\n",
        "\n",
        "    def forward(self, text_id, summary_id,list_of_sentence_id):\n",
        "        \n",
        "        batch_size = text_id.size(0)\n",
        "        pad_id = 1 \n",
        "\n",
        "        # get document embedding\n",
        "        input_mask = ~(text_id == pad_id)\n",
        "        out = self.encoder(text_id, attention_mask=input_mask)['last_hidden_state'] # last layer\n",
        "        doc_emb = out[:, 0, :]\n",
        "        assert doc_emb.size() == (batch_size, self.hidden_size) # [batch_size, hidden_size]\n",
        "        \n",
        "        # get summary embedding\n",
        "        input_mask = ~(summary_id == pad_id)\n",
        "        out = self.encoder(summary_id, attention_mask=input_mask)['last_hidden_state'] # last layer\n",
        "        summary_emb = out[:, 0, :]\n",
        "        assert summary_emb.size() == (batch_size, self.hidden_size) # [batch_size, hidden_size]\n",
        "\n",
        "        # get summary score\n",
        "        summary_score = torch.cosine_similarity(summary_emb, doc_emb, dim=-1)\n",
        "\n",
        "        # get candidate embedding\n",
        "        candidate_id = get_candidate_id(doc_emb,summary_emb,list_of_sentence_id, self.candidate_num, self.encoder,self.device) #[batch_size , candidate_num, token_num]\n",
        "        candidate_id_copy = candidate_id\n",
        "        candidate_id = candidate_id.view(-1, candidate_id.size(-1)) \n",
        "        input_mask = ~(candidate_id == pad_id)\n",
        "        out = self.encoder(candidate_id, attention_mask=input_mask)['last_hidden_state'] \n",
        "        candidate_emb = out[:, 0, :].view(batch_size, self.candidate_num, self.hidden_size)  # [batch_size, candidate_num, hidden_size]\n",
        "        assert candidate_emb.size() == (batch_size, self.candidate_num, self.hidden_size)\n",
        "        \n",
        "        # get candidate score\n",
        "        doc_emb = doc_emb.unsqueeze(1).expand_as(candidate_emb)\n",
        "        score = torch.cosine_similarity(candidate_emb, doc_emb, dim=-1) # [batch_size, candidate_num]\n",
        "        golden_list = torch.argmax(score,dim=1)\n",
        "        assert score.size() == (batch_size, self.candidate_num)\n",
        "\n",
        "        candidate_id = candidate_id.view(-1, candidate_id.size(-1)) \n",
        "\n",
        "        return {'score': score, 'summary_score': summary_score,  'golden_summary':candidate_id_copy[:,0,:]}"
      ],
      "metadata": {
        "id": "YiYH-dn7VYLv"
      },
      "execution_count": 15,
      "outputs": []
    },
    {
      "cell_type": "code",
      "source": [
        "class MarginRankingLoss():      \n",
        "    \n",
        "    def __init__(self, margin, score=None, summary_score=None):\n",
        "        super(MarginRankingLoss, self).__init__()\n",
        "        # self._init_param_map(score=score, summary_score=summary_score)\n",
        "        self.margin = margin\n",
        "        self.loss_func = torch.nn.MarginRankingLoss(margin)\n",
        "\n",
        "    def get_loss(self, score, summary_score):\n",
        "        \n",
        "        # equivalent to initializing TotalLoss to 0\n",
        "        # here is to avoid that some special samples will not go into the following for loop\n",
        "        ones = torch.ones(score.size()).cuda(score.device)\n",
        "        loss_func = torch.nn.MarginRankingLoss(0.0)\n",
        "        TotalLoss = loss_func(score, score, ones)\n",
        "\n",
        "        # candidate loss\n",
        "        n = score.size(1)\n",
        "        for i in range(1, n):\n",
        "            pos_score = score[:, :-i]\n",
        "            neg_score = score[:, i:]\n",
        "            pos_score = pos_score.contiguous().view(-1)\n",
        "            neg_score = neg_score.contiguous().view(-1)\n",
        "            ones = torch.ones(pos_score.size()).cuda(score.device)\n",
        "            loss_func = torch.nn.MarginRankingLoss(self.margin * i)\n",
        "            TotalLoss += loss_func(pos_score, neg_score, ones)\n",
        "\n",
        "        # gold summary loss\n",
        "        pos_score = summary_score.unsqueeze(-1).expand_as(score)\n",
        "        neg_score = score\n",
        "        pos_score = pos_score.contiguous().view(-1)\n",
        "        neg_score = neg_score.contiguous().view(-1)\n",
        "        ones = torch.ones(pos_score.size()).cuda(score.device)\n",
        "        loss_func = torch.nn.MarginRankingLoss(0.0)\n",
        "        TotalLoss += loss_func(pos_score, neg_score, ones)\n",
        "        \n",
        "        return TotalLoss"
      ],
      "metadata": {
        "id": "F8Jbgz4x5jeF"
      },
      "execution_count": 16,
      "outputs": []
    },
    {
      "cell_type": "markdown",
      "source": [
        "### Train code\n",
        "\n",
        "- Encoder -> KoBART\n",
        "- GLM 을 제외한 제일 성능 좋은 모델이고 한국어로 train이 되어 있어 선정함"
      ],
      "metadata": {
        "id": "iKJb-DcKynhV"
      }
    },
    {
      "cell_type": "code",
      "source": [
        "model = BartModel.from_pretrained(get_pytorch_kobart_model())\n",
        "summary_model = MatchSum(encoder = model, candidate_num = 5,device = device, hidden_size=768) \n",
        "\n",
        "N_EPOCHS = 3\n",
        "optimizer = SGD(model.parameters(),lr =0.0001)\n",
        "scheduler = CosineAnnealingLR(optimizer,T_max = len(train_dataloader)*2)\n",
        "criterion = MarginRankingLoss(margin = 0.01)"
      ],
      "metadata": {
        "id": "DelT9Z9wfbVi"
      },
      "execution_count": null,
      "outputs": []
    },
    {
      "cell_type": "code",
      "source": [
        "model.to(device)\n",
        "summary_model.to(device)\n",
        "wandb.init(project='summarization', entity='tkdlqh2')\n",
        "\n",
        "for epoch in range(N_EPOCHS):\n",
        "    \n",
        "    print(f\"*****Epoch {epoch} Train Start*****\")\n",
        "    print(f\"*****Epoch {epoch} Total Step {len(train_dataloader)}*****\")\n",
        "    total_loss, batch_loss, batch_step = 0,0,0\n",
        "    model.train()\n",
        "\n",
        "    for step, batch in enumerate(train_dataloader):\n",
        "        batch_step+=1\n",
        "        text_input_ids = batch[\"text_input_ids\"].to(device)        \n",
        "        label_input_ids = batch[\"labels_input_ids\"].to(device)\n",
        "\n",
        "        model.zero_grad()\n",
        "        optimizer.zero_grad()\n",
        "\n",
        "        # forward\n",
        "        output = summary_model.forward(text_input_ids, label_input_ids,batch[\"sentence_input_ids\"])\n",
        "        loss = criterion.get_loss(score = output[\"score\"],summary_score = output[\"summary_score\"])\n",
        "\n",
        "        # loss 계산\n",
        "        loss.backward()\n",
        "        # optimizer 업데이트\n",
        "        optimizer.step()\n",
        "        # scheduler 업데이트\n",
        "        scheduler.step()\n",
        "\n",
        "        batch_loss += loss.item()\n",
        "        total_loss += loss.item()\n",
        "\n",
        "        learning_rate = optimizer.param_groups[0]['lr']\n",
        "        wandb.log({'train/lr':learning_rate,\"train/loss\":loss.item()})\n",
        "\n",
        "        if (step%50 == 0) and (step!=0):\n",
        "            print(f\"Step: {step} Loss: {batch_loss/batch_step:.4f} lr: {optimizer.param_groups[0]['lr']:.4f}\")\n",
        "            # 변수 초기화    \n",
        "            batch_loss, batch_step = 0,0\n",
        "\n",
        "    print(f\"Epoch {epoch} Total Mean Loss : {total_loss/(step+1):.4f}\")\n",
        "    \n",
        "    with torch.no_grad():\n",
        "      print('**Calculating validation results...**')\n",
        "      total_val_loss,batch_step = 0,0\n",
        "      model.eval()\n",
        "      for step, batch in enumerate(valid_dataloader):\n",
        "          batch_step+=1\n",
        "          text_input_ids = batch[\"text_input_ids\"].to(device)        \n",
        "          label_input_ids = batch[\"labels_input_ids\"].to(device)\n",
        "\n",
        "          # forward\n",
        "          output = summary_model.forward(text_input_ids, label_input_ids,batch[\"sentence_input_ids\"])\n",
        "          val_loss = criterion.get_loss(score = output[\"score\"],summary_score = output[\"summary_score\"])\n",
        "\n",
        "          total_val_loss += val_loss.item()\n",
        "          wandb.log({\"val/loss\":val_loss.item()})\n",
        "\n",
        "    print(f\"Epoch {epoch} Total Mean Score : {total_val_loss/(step+1):.4f}\")\n",
        "    \n",
        "    print(f\"*****Epoch {epoch} Train Finished*****\\n\")\n",
        "    torch.save(model.state_dict(),f\"/content/drive/MyDrive/NLP/kobart_model_{epoch}epoch.pth\")"
      ],
      "metadata": {
        "id": "KmtCKyr2D0YE"
      },
      "execution_count": null,
      "outputs": []
    },
    {
      "cell_type": "markdown",
      "source": [
        "### Model-Load & Inference\n",
        "- "
      ],
      "metadata": {
        "id": "lOLLs-GN6vGC"
      }
    },
    {
      "cell_type": "code",
      "source": [
        "model = BartModel.from_pretrained(get_pytorch_kobart_model())\n",
        "model.load_state_dict(state_dict = torch.load(\"/content/drive/MyDrive/NLP/kobart_model_0epoch.pth\"))\n",
        "model.eval()"
      ],
      "metadata": {
        "colab": {
          "base_uri": "https://localhost:8080/",
          "height": 382
        },
        "id": "4jPSdEm4E14f",
        "outputId": "49595446-3785-41d5-ee40-d1c3d46fa1f9"
      },
      "execution_count": 17,
      "outputs": [
        {
          "output_type": "stream",
          "name": "stdout",
          "text": [
            "/content/.cache/kobart_base_cased_ff4bda5738.zip[██████████████████████████████████████████████████]\n"
          ]
        },
        {
          "output_type": "error",
          "ename": "KeyboardInterrupt",
          "evalue": "ignored",
          "traceback": [
            "\u001b[0;31m---------------------------------------------------------------------------\u001b[0m",
            "\u001b[0;31mKeyboardInterrupt\u001b[0m                         Traceback (most recent call last)",
            "\u001b[0;32m<ipython-input-17-bb22b57aaaf3>\u001b[0m in \u001b[0;36m<module>\u001b[0;34m()\u001b[0m\n\u001b[1;32m      1\u001b[0m \u001b[0mmodel\u001b[0m \u001b[0;34m=\u001b[0m \u001b[0mBartModel\u001b[0m\u001b[0;34m.\u001b[0m\u001b[0mfrom_pretrained\u001b[0m\u001b[0;34m(\u001b[0m\u001b[0mget_pytorch_kobart_model\u001b[0m\u001b[0;34m(\u001b[0m\u001b[0;34m)\u001b[0m\u001b[0;34m)\u001b[0m\u001b[0;34m\u001b[0m\u001b[0;34m\u001b[0m\u001b[0m\n\u001b[0;32m----> 2\u001b[0;31m \u001b[0mmodel\u001b[0m\u001b[0;34m.\u001b[0m\u001b[0mload_state_dict\u001b[0m\u001b[0;34m(\u001b[0m\u001b[0mstate_dict\u001b[0m \u001b[0;34m=\u001b[0m \u001b[0mtorch\u001b[0m\u001b[0;34m.\u001b[0m\u001b[0mload\u001b[0m\u001b[0;34m(\u001b[0m\u001b[0;34m\"/content/drive/MyDrive/NLP/kobart_model_0epoch.pth\"\u001b[0m\u001b[0;34m)\u001b[0m\u001b[0;34m)\u001b[0m\u001b[0;34m\u001b[0m\u001b[0;34m\u001b[0m\u001b[0m\n\u001b[0m\u001b[1;32m      3\u001b[0m \u001b[0mmodel\u001b[0m\u001b[0;34m.\u001b[0m\u001b[0meval\u001b[0m\u001b[0;34m(\u001b[0m\u001b[0;34m)\u001b[0m\u001b[0;34m\u001b[0m\u001b[0;34m\u001b[0m\u001b[0m\n",
            "\u001b[0;32m/usr/local/lib/python3.7/dist-packages/torch/serialization.py\u001b[0m in \u001b[0;36mload\u001b[0;34m(f, map_location, pickle_module, **pickle_load_args)\u001b[0m\n\u001b[1;32m    592\u001b[0m                     \u001b[0mopened_file\u001b[0m\u001b[0;34m.\u001b[0m\u001b[0mseek\u001b[0m\u001b[0;34m(\u001b[0m\u001b[0morig_position\u001b[0m\u001b[0;34m)\u001b[0m\u001b[0;34m\u001b[0m\u001b[0;34m\u001b[0m\u001b[0m\n\u001b[1;32m    593\u001b[0m                     \u001b[0;32mreturn\u001b[0m \u001b[0mtorch\u001b[0m\u001b[0;34m.\u001b[0m\u001b[0mjit\u001b[0m\u001b[0;34m.\u001b[0m\u001b[0mload\u001b[0m\u001b[0;34m(\u001b[0m\u001b[0mopened_file\u001b[0m\u001b[0;34m)\u001b[0m\u001b[0;34m\u001b[0m\u001b[0;34m\u001b[0m\u001b[0m\n\u001b[0;32m--> 594\u001b[0;31m                 \u001b[0;32mreturn\u001b[0m \u001b[0m_load\u001b[0m\u001b[0;34m(\u001b[0m\u001b[0mopened_zipfile\u001b[0m\u001b[0;34m,\u001b[0m \u001b[0mmap_location\u001b[0m\u001b[0;34m,\u001b[0m \u001b[0mpickle_module\u001b[0m\u001b[0;34m,\u001b[0m \u001b[0;34m**\u001b[0m\u001b[0mpickle_load_args\u001b[0m\u001b[0;34m)\u001b[0m\u001b[0;34m\u001b[0m\u001b[0;34m\u001b[0m\u001b[0m\n\u001b[0m\u001b[1;32m    595\u001b[0m         \u001b[0;32mreturn\u001b[0m \u001b[0m_legacy_load\u001b[0m\u001b[0;34m(\u001b[0m\u001b[0mopened_file\u001b[0m\u001b[0;34m,\u001b[0m \u001b[0mmap_location\u001b[0m\u001b[0;34m,\u001b[0m \u001b[0mpickle_module\u001b[0m\u001b[0;34m,\u001b[0m \u001b[0;34m**\u001b[0m\u001b[0mpickle_load_args\u001b[0m\u001b[0;34m)\u001b[0m\u001b[0;34m\u001b[0m\u001b[0;34m\u001b[0m\u001b[0m\n\u001b[1;32m    596\u001b[0m \u001b[0;34m\u001b[0m\u001b[0m\n",
            "\u001b[0;32m/usr/local/lib/python3.7/dist-packages/torch/serialization.py\u001b[0m in \u001b[0;36m_load\u001b[0;34m(zip_file, map_location, pickle_module, pickle_file, **pickle_load_args)\u001b[0m\n\u001b[1;32m    851\u001b[0m     \u001b[0munpickler\u001b[0m \u001b[0;34m=\u001b[0m \u001b[0mpickle_module\u001b[0m\u001b[0;34m.\u001b[0m\u001b[0mUnpickler\u001b[0m\u001b[0;34m(\u001b[0m\u001b[0mdata_file\u001b[0m\u001b[0;34m,\u001b[0m \u001b[0;34m**\u001b[0m\u001b[0mpickle_load_args\u001b[0m\u001b[0;34m)\u001b[0m\u001b[0;34m\u001b[0m\u001b[0;34m\u001b[0m\u001b[0m\n\u001b[1;32m    852\u001b[0m     \u001b[0munpickler\u001b[0m\u001b[0;34m.\u001b[0m\u001b[0mpersistent_load\u001b[0m \u001b[0;34m=\u001b[0m \u001b[0mpersistent_load\u001b[0m\u001b[0;34m\u001b[0m\u001b[0;34m\u001b[0m\u001b[0m\n\u001b[0;32m--> 853\u001b[0;31m     \u001b[0mresult\u001b[0m \u001b[0;34m=\u001b[0m \u001b[0munpickler\u001b[0m\u001b[0;34m.\u001b[0m\u001b[0mload\u001b[0m\u001b[0;34m(\u001b[0m\u001b[0;34m)\u001b[0m\u001b[0;34m\u001b[0m\u001b[0;34m\u001b[0m\u001b[0m\n\u001b[0m\u001b[1;32m    854\u001b[0m \u001b[0;34m\u001b[0m\u001b[0m\n\u001b[1;32m    855\u001b[0m     \u001b[0mtorch\u001b[0m\u001b[0;34m.\u001b[0m\u001b[0m_utils\u001b[0m\u001b[0;34m.\u001b[0m\u001b[0m_validate_loaded_sparse_tensors\u001b[0m\u001b[0;34m(\u001b[0m\u001b[0;34m)\u001b[0m\u001b[0;34m\u001b[0m\u001b[0;34m\u001b[0m\u001b[0m\n",
            "\u001b[0;32m/usr/local/lib/python3.7/dist-packages/torch/serialization.py\u001b[0m in \u001b[0;36mpersistent_load\u001b[0;34m(saved_id)\u001b[0m\n\u001b[1;32m    843\u001b[0m         \u001b[0mdata_type\u001b[0m\u001b[0;34m,\u001b[0m \u001b[0mkey\u001b[0m\u001b[0;34m,\u001b[0m \u001b[0mlocation\u001b[0m\u001b[0;34m,\u001b[0m \u001b[0msize\u001b[0m \u001b[0;34m=\u001b[0m \u001b[0mdata\u001b[0m\u001b[0;34m\u001b[0m\u001b[0;34m\u001b[0m\u001b[0m\n\u001b[1;32m    844\u001b[0m         \u001b[0;32mif\u001b[0m \u001b[0mkey\u001b[0m \u001b[0;32mnot\u001b[0m \u001b[0;32min\u001b[0m \u001b[0mloaded_storages\u001b[0m\u001b[0;34m:\u001b[0m\u001b[0;34m\u001b[0m\u001b[0;34m\u001b[0m\u001b[0m\n\u001b[0;32m--> 845\u001b[0;31m             \u001b[0mload_tensor\u001b[0m\u001b[0;34m(\u001b[0m\u001b[0mdata_type\u001b[0m\u001b[0;34m,\u001b[0m \u001b[0msize\u001b[0m\u001b[0;34m,\u001b[0m \u001b[0mkey\u001b[0m\u001b[0;34m,\u001b[0m \u001b[0m_maybe_decode_ascii\u001b[0m\u001b[0;34m(\u001b[0m\u001b[0mlocation\u001b[0m\u001b[0;34m)\u001b[0m\u001b[0;34m)\u001b[0m\u001b[0;34m\u001b[0m\u001b[0;34m\u001b[0m\u001b[0m\n\u001b[0m\u001b[1;32m    846\u001b[0m         \u001b[0mstorage\u001b[0m \u001b[0;34m=\u001b[0m \u001b[0mloaded_storages\u001b[0m\u001b[0;34m[\u001b[0m\u001b[0mkey\u001b[0m\u001b[0;34m]\u001b[0m\u001b[0;34m\u001b[0m\u001b[0;34m\u001b[0m\u001b[0m\n\u001b[1;32m    847\u001b[0m         \u001b[0;32mreturn\u001b[0m \u001b[0mstorage\u001b[0m\u001b[0;34m\u001b[0m\u001b[0;34m\u001b[0m\u001b[0m\n",
            "\u001b[0;32m/usr/local/lib/python3.7/dist-packages/torch/serialization.py\u001b[0m in \u001b[0;36mload_tensor\u001b[0;34m(data_type, size, key, location)\u001b[0m\n\u001b[1;32m    831\u001b[0m         \u001b[0mdtype\u001b[0m \u001b[0;34m=\u001b[0m \u001b[0mdata_type\u001b[0m\u001b[0;34m(\u001b[0m\u001b[0;36m0\u001b[0m\u001b[0;34m)\u001b[0m\u001b[0;34m.\u001b[0m\u001b[0mdtype\u001b[0m\u001b[0;34m\u001b[0m\u001b[0;34m\u001b[0m\u001b[0m\n\u001b[1;32m    832\u001b[0m \u001b[0;34m\u001b[0m\u001b[0m\n\u001b[0;32m--> 833\u001b[0;31m         \u001b[0mstorage\u001b[0m \u001b[0;34m=\u001b[0m \u001b[0mzip_file\u001b[0m\u001b[0;34m.\u001b[0m\u001b[0mget_storage_from_record\u001b[0m\u001b[0;34m(\u001b[0m\u001b[0mname\u001b[0m\u001b[0;34m,\u001b[0m \u001b[0msize\u001b[0m\u001b[0;34m,\u001b[0m \u001b[0mdtype\u001b[0m\u001b[0;34m)\u001b[0m\u001b[0;34m.\u001b[0m\u001b[0mstorage\u001b[0m\u001b[0;34m(\u001b[0m\u001b[0;34m)\u001b[0m\u001b[0;34m\u001b[0m\u001b[0;34m\u001b[0m\u001b[0m\n\u001b[0m\u001b[1;32m    834\u001b[0m         \u001b[0mloaded_storages\u001b[0m\u001b[0;34m[\u001b[0m\u001b[0mkey\u001b[0m\u001b[0;34m]\u001b[0m \u001b[0;34m=\u001b[0m \u001b[0mrestore_location\u001b[0m\u001b[0;34m(\u001b[0m\u001b[0mstorage\u001b[0m\u001b[0;34m,\u001b[0m \u001b[0mlocation\u001b[0m\u001b[0;34m)\u001b[0m\u001b[0;34m\u001b[0m\u001b[0;34m\u001b[0m\u001b[0m\n\u001b[1;32m    835\u001b[0m \u001b[0;34m\u001b[0m\u001b[0m\n",
            "\u001b[0;31mKeyboardInterrupt\u001b[0m: "
          ]
        }
      ]
    },
    {
      "cell_type": "code",
      "source": [
        "model.to(device)\n",
        "summary_model = MatchSum(encoder = model, candidate_num = 1,device = device, hidden_size=768) "
      ],
      "metadata": {
        "id": "qQnzGTkwiJz_"
      },
      "execution_count": null,
      "outputs": []
    },
    {
      "cell_type": "code",
      "source": [
        "def to_total(x):\n",
        "  total_str = \"\"\n",
        "  for sentence in x:\n",
        "    total_str += \" \"\n",
        "    total_str += sentence\n",
        "  \n",
        "  return total_str\n",
        "\n",
        "class get_ids():\n",
        "    def __init__(self,tokenizer):\n",
        "      self.tokenizer = tokenizer\n",
        "\n",
        "    def __call__(self, sentence):\n",
        "      ids = self.tokenizer(sentence)['input_ids']\n",
        "      ids = torch.tensor(ids)\n",
        "      return control_input_ids(ids,32,0,2,1).unsqueeze(0).to(torch.int64)\n",
        "\n",
        "class get_list_ids():\n",
        "    def __init__(self,tokenizer,device):\n",
        "      self.tokenizer = tokenizer\n",
        "      self.device = device\n",
        "    def __call__(self, sentence_list):\n",
        "\n",
        "      ans = torch.empty((0,32),dtype = torch.int64).to(self.device)\n",
        "      for sentence in sentence_list:\n",
        "        ids = self.tokenizer(sentence)['input_ids']\n",
        "        ids = torch.tensor(ids,dtype = torch.int64)\n",
        "        ans = torch.cat([ans,control_input_ids(ids,32,0,2,1).unsqueeze(0).to(torch.int64).to(device)],dim=0)\n",
        "      return [ans]"
      ],
      "metadata": {
        "id": "KdAuWYCo3EFz"
      },
      "execution_count": null,
      "outputs": []
    },
    {
      "cell_type": "code",
      "source": [
        "ids_class = get_ids(tokenizer)\n",
        "ids_list_class = get_list_ids(tokenizer,device)"
      ],
      "metadata": {
        "id": "OZVTlkOy8b0v"
      },
      "execution_count": null,
      "outputs": []
    },
    {
      "cell_type": "code",
      "source": [
        "df_new[\"text\"] = df_new[\"CONTENT\"].apply(lambda x: to_total(x))\n",
        "df_new[\"text_ids\"] = df_new[\"text\"].apply(lambda x: ids_class(x))\n",
        "df_new[\"label_ids\"] = df_new[\"TITLE\"].apply(lambda x: ids_class(x))\n",
        "df_new['list_of_sentence_ids'] = df_new[\"CONTENT\"].progress_apply(lambda x: ids_list_class(x))"
      ],
      "metadata": {
        "id": "wXfMbCG2GamX"
      },
      "execution_count": null,
      "outputs": []
    },
    {
      "cell_type": "code",
      "source": [
        "df_new['model_answer'] = df_new[\"CONTENT\"]\n",
        "for i in tqdm(range(len(df_new))):\n",
        "   output = summary_model.forward(df_new[\"text_ids\"].iloc[i].to(device),df_new[\"label_ids\"][i].to(device),df_new['list_of_sentence_ids'].iloc[i])\n",
        "   df_new['model_answer'].iloc[i] = output['golden_summary'].detach().cpu().numpy()"
      ],
      "metadata": {
        "id": "H3aWVatp4E9k"
      },
      "execution_count": null,
      "outputs": []
    },
    {
      "cell_type": "code",
      "source": [
        "df_new['model_answer_sentence'] = df_new['model_answer'].apply(lambda x: tokenizer.decode(token_ids = x[0], skip_special_tokens = True))"
      ],
      "metadata": {
        "id": "fEhFpY4WRAsb"
      },
      "execution_count": null,
      "outputs": []
    },
    {
      "cell_type": "code",
      "source": [
        "print(tokenizer.decode(token_ids = [1]))\n"
      ],
      "metadata": {
        "id": "xY-JNomXXm7C"
      },
      "execution_count": null,
      "outputs": []
    },
    {
      "cell_type": "code",
      "source": [
        "df_new_for_answer = df_new[['TITLE','CONTENT','model_answer_sentence']]\n",
        "df_new_for_answer.to_csv(\"/content/drive/MyDrive/temp_df.csv\",mode = 'w')"
      ],
      "metadata": {
        "id": "CZOyGNfhTOKl"
      },
      "execution_count": null,
      "outputs": []
    },
    {
      "cell_type": "code",
      "source": [
        "idx = 7\n",
        "print(df_new_for_answer['TITLE'].iloc[idx])\n",
        "print(df_new_for_answer['CONTENT'].iloc[idx])\n",
        "print(df_new_for_answer['model_answer_sentence'].iloc[idx])"
      ],
      "metadata": {
        "id": "RGqs4eP5ZnLG"
      },
      "execution_count": null,
      "outputs": []
    },
    {
      "cell_type": "code",
      "source": [
        "df_new_for_answer = pd.read_csv(\"/content/drive/MyDrive/temp_df.csv\")"
      ],
      "metadata": {
        "id": "X3NhW2VTUESQ"
      },
      "execution_count": 20,
      "outputs": []
    },
    {
      "cell_type": "code",
      "source": [
        "class rdass:\n",
        "  def __init__(self,encoder,tokenizer):\n",
        "    self.encoder = encoder\n",
        "    self.tokenizer = tokenizer\n",
        "    self.encoder.eval()\n",
        "  def __call__(self, text = None, label = None, answer = None):\n",
        "    with torch.no_grad():\n",
        "      text_ids = self.tokenizer(text,truncation = True,max_length = 512,return_tensors = 'pt')\n",
        "      label_ids = self.tokenizer(label,return_tensors = 'pt')\n",
        "      answer_ids = self.tokenizer(answer,return_tensors = 'pt')\n",
        "      # print(text_ids['input_ids'].shape,\" \",label_ids['input_ids'].shape,\" \",answer_ids['input_ids'].shape)\n",
        "      vector_text = self.encoder(**text_ids)['last_hidden_state'] # vector_d\n",
        "      vector_label = self.encoder(**label_ids)['last_hidden_state'] # vector_r\n",
        "      vector_answer = self.encoder(**answer_ids)['last_hidden_state'] # vector_p\n",
        "      \n",
        "    return get_score(vector_text[0,0,:],vector_label[0,0,:],vector_answer[0,0,:])"
      ],
      "metadata": {
        "id": "KcIcbmwnyWEZ"
      },
      "execution_count": 49,
      "outputs": []
    },
    {
      "cell_type": "code",
      "source": [
        "tokenzier_for_eval = AutoTokenizer.from_pretrained(\"klue/roberta-small\")\n",
        "model_for_eval = AutoModel.from_pretrained(\"klue/roberta-small\")\n",
        "metric = rdass(model_for_eval,tokenzier_for_eval)"
      ],
      "metadata": {
        "id": "HDJKJZ-Q6SuZ",
        "colab": {
          "base_uri": "https://localhost:8080/"
        },
        "outputId": "aa663ec6-20b7-4aa9-f492-b8311b264af9"
      },
      "execution_count": 22,
      "outputs": [
        {
          "output_type": "stream",
          "name": "stderr",
          "text": [
            "Some weights of RobertaModel were not initialized from the model checkpoint at klue/roberta-small and are newly initialized: ['roberta.pooler.dense.weight', 'roberta.pooler.dense.bias']\n",
            "You should probably TRAIN this model on a down-stream task to be able to use it for predictions and inference.\n"
          ]
        }
      ]
    },
    {
      "cell_type": "code",
      "source": [
        "metric = rdass(model_for_eval,tokenzier_for_eval)"
      ],
      "metadata": {
        "id": "zs9sGimTeCyy"
      },
      "execution_count": 50,
      "outputs": []
    },
    {
      "cell_type": "code",
      "source": [
        "print(df_new_for_answer['model_answer_sentence'])"
      ],
      "metadata": {
        "colab": {
          "base_uri": "https://localhost:8080/"
        },
        "id": "pNMfmSJ1fQe-",
        "outputId": "e88fe096-3f01-41ca-8d7e-0a9e9c9cb078"
      },
      "execution_count": 33,
      "outputs": [
        {
          "output_type": "stream",
          "name": "stdout",
          "text": [
            "0       유럽 축구 연맹 유로 2020 심판 위원장 로베르토 로세티 잉글랜드 덴마크 전 나온...\n",
            "1       유로 2020 코파 아메리카 2021 베스트 11 만든다면 모습 일까 공식 베스트 ...\n",
            "2       영국 매체 스포츠 바이블 은 14일 슈퍼컴퓨터 예측 한 20212022시 즌 잉글랜...\n",
            "3       홀슈타인 킬 우베 스토 버 디렉터 이재성 향 해 응원 메시지 띄웠다 팬 만남 기대 ...\n",
            "4       팬 은 만족스럽다는 반응 이다 연 보랏빛 바탕 메인 스폰서 라쿠텐 은 파란색 새겨져...\n",
            "                              ...                        \n",
            "8993    FC 바르셀로나 팬 우스 망 뎀벨레 는 밉 상이 되어 버렸다 바르사 는 7일 오전 ...\n",
            "8994    U 15 크로아티아 국제 축구 대회 AFC U 16 챔피언십 예선 참여 2021년 ...\n",
            "8995    아약스 는 7일 공식 홈페이지 통해 기술 이사 인 오베르마스 는 아약스 떠난다 오베...\n",
            "8996    트라오레 는 지난 겨울 이적 시장 울버햄프턴 떠나 바르사 임대 이적 했고 날 경기 ...\n",
            "8997    공 격진 에는 멤피스 데 파이 라다 멜 팔카오 알 렉시스 산체스 포함 됐다 이외 프...\n",
            "Name: model_answer_sentence, Length: 8998, dtype: object\n"
          ]
        }
      ]
    },
    {
      "cell_type": "code",
      "source": [
        "df_new_for_answer['score'] = df_new_for_answer['CONTENT']\n",
        "for i in tqdm(range(len(df_new_for_answer))):\n",
        "  df_new_for_answer['score'].iloc[i] = metric(\n",
        "                                            text = df_new_for_answer['CONTENT'].iloc[i],\n",
        "                                            label = df_new_for_answer['TITLE'].iloc[i], \n",
        "                                            answer = df_new_for_answer['model_answer_sentence'].iloc[i]\n",
        "  )"
      ],
      "metadata": {
        "colab": {
          "base_uri": "https://localhost:8080/"
        },
        "id": "HaNbhAFKQF76",
        "outputId": "050c70bb-c5c3-4d15-a479-8dcffa1c01e3"
      },
      "execution_count": 51,
      "outputs": [
        {
          "output_type": "stream",
          "name": "stderr",
          "text": [
            "  0%|          | 0/8998 [00:00<?, ?it/s]/usr/local/lib/python3.7/dist-packages/pandas/core/indexing.py:1732: SettingWithCopyWarning: \n",
            "A value is trying to be set on a copy of a slice from a DataFrame\n",
            "\n",
            "See the caveats in the documentation: https://pandas.pydata.org/pandas-docs/stable/user_guide/indexing.html#returning-a-view-versus-a-copy\n",
            "  self._setitem_single_block(indexer, value, name)\n",
            "100%|██████████| 8998/8998 [52:21<00:00,  2.86it/s]\n"
          ]
        }
      ]
    },
    {
      "cell_type": "code",
      "source": [
        "df_new_for_answer.head(20)"
      ],
      "metadata": {
        "colab": {
          "base_uri": "https://localhost:8080/",
          "height": 677
        },
        "id": "TcyToT_AEHw5",
        "outputId": "423f6bb4-3f43-4607-9ca7-3e349033b7f5"
      },
      "execution_count": 52,
      "outputs": [
        {
          "output_type": "execute_result",
          "data": {
            "text/plain": [
              "    Unnamed: 0                                    TITLE  \\\n",
              "0            0             스털링 다이빙 논란 종결 오른쪽 다리 접촉 있었잖아   \n",
              "1            1       디 마리아 없다 유로 X 코파 베스트 11 이탈리아 만 7 명   \n",
              "2            2         슈퍼컴퓨터 예측 맨시티 우승 맨유 4 위 토트넘 은 6 위   \n",
              "3            3      이재성 완벽한 프로 마인츠 서 성공할 킬 디렉터 애정 듬뿍 응원   \n",
              "4            4       홈킷 딴판 바르사 팬 NEW 웨이 셔츠 호평 가장 좋아하는 색   \n",
              "5            5  긴급 수혈 된 바르사 NO . 9 1년 반 만에 떠난다 EPL 행 유력   \n",
              "6            6              황의조 손흥민 소속사 손잡다 CAA Base 계약   \n",
              "7            7       메시 종신 은 축복 스폰서 5년 더 보장 바르셀로나 함박 웃음   \n",
              "8            8          눈물 흘렸던 37 세 전설 로번 두 번째 현역 은퇴 발표   \n",
              "9            9  100 세 메시 팬 할아버지 748 골 수기 작 성 메시 도 감사 인사   \n",
              "10          10         475억원 이면 맨유 떠난다 시메오네 픽 부활 한 린 가드   \n",
              "11          11         토트넘 케인 대체 세리에 A 21 골 810억 골잡 찾았다   \n",
              "12          12     1585억 케인 불발 맨시티 329 경기 294 골 킬러 입 추진   \n",
              "13          13     맨유 관심 프랑스 18 세 미드필더 레알 이나 바르사 갈 건데 요   \n",
              "14          14           메시 월드컵 4회 우승해도 마라도나 못 넘어 전설 주장   \n",
              "15          15                       모리뉴 손흥민 전 동료 동물 이다   \n",
              "16          16                      도르트문트 첼시 홀란 입 제안 거절   \n",
              "17          17            레노버 인터 밀란 파트너 십 강화 유니폼 스폰서 나서   \n",
              "18          18        다시 돌아와 웨스트햄 임대 전설 쓰고 떠난 린 가드 입 추진   \n",
              "19          19       바르셀로나 충격 요구 리즈 만 사울 200억원 울 선수 1 명   \n",
              "\n",
              "                                              CONTENT  \\\n",
              "0   ['유럽 축구 연맹 유로 2020 심판 위원장 로베르토 로세티 잉글랜드 덴마크 전 ...   \n",
              "1   ['유로 2020 코파 아메리카 2021 베스트 11 만든다면 모습 일까', '지난...   \n",
              "2   ['새 시즌 시작 하기도 전 슈퍼컴퓨터 예상 한 순위 나왔다', '영국 매체 스포츠...   \n",
              "3   ['홀슈타인 킬 우베 스토 버 디렉터 이재성 향 해 응원 메시지 띄웠다', '이재성...   \n",
              "4   ['FC 바르셀로나 새 시즌 원정 유니폼 공개 했다', '팬 은 만족스럽다는 반응 ...   \n",
              "5   ['FC 바르셀로나 는 새 시즌 앞두고 선수단 정리 한창 이다', '잉여 자원 은 ...   \n",
              "6   ['스포 탈 코리아 파리 황의조 한국 선수 로는 3 번 째 세계 적 인 스포츠 에이...   \n",
              "7   ['리오넬 메시 FC 바르셀로나 남는다', '연봉 절반 삭감 5년 계약 사실 상 바...   \n",
              "8   ['네덜란드 축구 스타 아르 연 로번 현역 은퇴 밝혔다', '로번 은 15일 회관 ...   \n",
              "9   ['리오넬 메시 는 프로 데뷔 하고 748 골 터뜨렸다', '전산 화 하기에도 오랜...   \n",
              "10  ['스페인 프리메라리가 챔피언 아틀레 티코 마드리드 부활 한 제시 린 가드 노린다'...   \n",
              "11  ['토트넘 홋스퍼 해리 케인 이탈 대비 하고', '이탈리아 세리에 A 검증 된 공격...   \n",
              "12  ['맨체스터 시티 확실한 킬러 찾기 위해 분주하다', '맨시티 는 올여름 최 전방 ...   \n",
              "13  ['잉글랜드 보다 스페인 더 끌리네요 빅 클럽 군침 흘리고 있는 프랑스 신성 미드필...   \n",
              "14  ['리오넬 메시 선배 인 故 디에고 마라도 비교 당했다', '메시 는 지난 11일 ...   \n",
              "15  ['AS 로마 수장 조세 모리뉴 손흥민 전 동료 인 카일 워커 칭찬 했다', '잉글...   \n",
              "16  ['보루시아 도르트문트 뜨거운 감자 엘링 홀란 붙잡는다', '영국 스카이스포츠 는 ...   \n",
              "17  ['세계 1 위 PC 스마트 디바이스 업체 레노버 인터 밀란 파트너 십 강화 유니폼...   \n",
              "18  ['웨스트햄 유나이티드 제시 린 가드 입 원하고', '영국 스카이 스포츠 따르면 웨...   \n",
              "19  ['FC 바르셀로나 아틀레 티코 마드리드 트레이드 요구 했다', '스카이스포츠 는 ...   \n",
              "\n",
              "                                model_answer_sentence           score  \n",
              "0   유럽 축구 연맹 유로 2020 심판 위원장 로베르토 로세티 잉글랜드 덴마크 전 나온...  tensor(0.9180)  \n",
              "1   유로 2020 코파 아메리카 2021 베스트 11 만든다면 모습 일까 공식 베스트 ...  tensor(0.9138)  \n",
              "2   영국 매체 스포츠 바이블 은 14일 슈퍼컴퓨터 예측 한 20212022시 즌 잉글랜...  tensor(0.9219)  \n",
              "3   홀슈타인 킬 우베 스토 버 디렉터 이재성 향 해 응원 메시지 띄웠다 팬 만남 기대 ...  tensor(0.9121)  \n",
              "4   팬 은 만족스럽다는 반응 이다 연 보랏빛 바탕 메인 스폰서 라쿠텐 은 파란색 새겨져...  tensor(0.9066)  \n",
              "5   FC 바르셀로나 는 새 시즌 앞두고 선수단 정리 한창 이다 잉여 자원 은 과감 하게...  tensor(0.8983)  \n",
              "6   스포 탈 코리아 파리 황의조 한국 선수 로는 3 번 째 세계 적 인 스포츠 에이전트...  tensor(0.9137)  \n",
              "7   연봉 절반 삭감 5년 계약 사실 상 바르셀로나 은퇴 할 결심 했다 메시 계약 소식 ...  tensor(0.9271)  \n",
              "8   시즌 막바지 인 지난 5월 스파 르트 로테르담 전 통해 돌아왔고 이후 FC 에먼 전...  tensor(0.9200)  \n",
              "9   메시 사랑 하는 100 세 아르헨티나 할아버지 화제 다 손자 는 메시 득점 한 모든...  tensor(0.9339)  \n",
              "10  스페인 프리메라리가 챔피언 아틀레 티코 마드리드 부활 한 제시 린 가드 노린다 디에...  tensor(0.9035)  \n",
              "11  토트넘 노리는 블 라 호비치는 2018년 여름 세르비아 파르티잔 떠나 피오렌티나 이...  tensor(0.9267)  \n",
              "12  맨체스터 시티 확실한 킬러 찾기 위해 분주하다 맨시티 는 올여름 최 전방 강화 위해...  tensor(0.9005)  \n",
              "13  잉글랜드 보다 스페인 더 끌리네요 빅 클럽 군침 흘리고 있는 프랑스 신성 미드필더 ...  tensor(0.9152)  \n",
              "14  아르헨티나 국가대표 출신 인 마리오 켐페스 마라도나 위대함을 주장 했다 켐페스 는 ...  tensor(0.9277)  \n",
              "15  AS 로마 수장 조세 모리뉴 손흥민 전 동료 인 카일 워커 칭찬 했다 수 문장 조던...  tensor(0.8934)  \n",
              "16  에이전트 인 미노 라이 올라는 지난 4월 홀란 이적 두고 FC 바르셀로나 레알 마드...  tensor(0.9244)  \n",
              "17  레노버 는 인터밀란 선수 관련 데이터 포인트 6천만 개 포함 해 지난 두 시즌 훈련...  tensor(0.9034)  \n",
              "18  웨스트햄 모예스 감독 은 좋은 기억 남기고 떠난 린 가드 계속 해서 하길 바랐다 웨...  tensor(0.9174)  \n",
              "19  FC 바르셀로나 아틀레 티코 마드리드 트레이드 요구 했다 스카이스포츠 는 바르셀로나...  tensor(0.9070)  "
            ],
            "text/html": [
              "\n",
              "  <div id=\"df-3b2da1f1-8495-4d4e-9a4d-717d83a24005\">\n",
              "    <div class=\"colab-df-container\">\n",
              "      <div>\n",
              "<style scoped>\n",
              "    .dataframe tbody tr th:only-of-type {\n",
              "        vertical-align: middle;\n",
              "    }\n",
              "\n",
              "    .dataframe tbody tr th {\n",
              "        vertical-align: top;\n",
              "    }\n",
              "\n",
              "    .dataframe thead th {\n",
              "        text-align: right;\n",
              "    }\n",
              "</style>\n",
              "<table border=\"1\" class=\"dataframe\">\n",
              "  <thead>\n",
              "    <tr style=\"text-align: right;\">\n",
              "      <th></th>\n",
              "      <th>Unnamed: 0</th>\n",
              "      <th>TITLE</th>\n",
              "      <th>CONTENT</th>\n",
              "      <th>model_answer_sentence</th>\n",
              "      <th>score</th>\n",
              "    </tr>\n",
              "  </thead>\n",
              "  <tbody>\n",
              "    <tr>\n",
              "      <th>0</th>\n",
              "      <td>0</td>\n",
              "      <td>스털링 다이빙 논란 종결 오른쪽 다리 접촉 있었잖아</td>\n",
              "      <td>['유럽 축구 연맹 유로 2020 심판 위원장 로베르토 로세티 잉글랜드 덴마크 전 ...</td>\n",
              "      <td>유럽 축구 연맹 유로 2020 심판 위원장 로베르토 로세티 잉글랜드 덴마크 전 나온...</td>\n",
              "      <td>tensor(0.9180)</td>\n",
              "    </tr>\n",
              "    <tr>\n",
              "      <th>1</th>\n",
              "      <td>1</td>\n",
              "      <td>디 마리아 없다 유로 X 코파 베스트 11 이탈리아 만 7 명</td>\n",
              "      <td>['유로 2020 코파 아메리카 2021 베스트 11 만든다면 모습 일까', '지난...</td>\n",
              "      <td>유로 2020 코파 아메리카 2021 베스트 11 만든다면 모습 일까 공식 베스트 ...</td>\n",
              "      <td>tensor(0.9138)</td>\n",
              "    </tr>\n",
              "    <tr>\n",
              "      <th>2</th>\n",
              "      <td>2</td>\n",
              "      <td>슈퍼컴퓨터 예측 맨시티 우승 맨유 4 위 토트넘 은 6 위</td>\n",
              "      <td>['새 시즌 시작 하기도 전 슈퍼컴퓨터 예상 한 순위 나왔다', '영국 매체 스포츠...</td>\n",
              "      <td>영국 매체 스포츠 바이블 은 14일 슈퍼컴퓨터 예측 한 20212022시 즌 잉글랜...</td>\n",
              "      <td>tensor(0.9219)</td>\n",
              "    </tr>\n",
              "    <tr>\n",
              "      <th>3</th>\n",
              "      <td>3</td>\n",
              "      <td>이재성 완벽한 프로 마인츠 서 성공할 킬 디렉터 애정 듬뿍 응원</td>\n",
              "      <td>['홀슈타인 킬 우베 스토 버 디렉터 이재성 향 해 응원 메시지 띄웠다', '이재성...</td>\n",
              "      <td>홀슈타인 킬 우베 스토 버 디렉터 이재성 향 해 응원 메시지 띄웠다 팬 만남 기대 ...</td>\n",
              "      <td>tensor(0.9121)</td>\n",
              "    </tr>\n",
              "    <tr>\n",
              "      <th>4</th>\n",
              "      <td>4</td>\n",
              "      <td>홈킷 딴판 바르사 팬 NEW 웨이 셔츠 호평 가장 좋아하는 색</td>\n",
              "      <td>['FC 바르셀로나 새 시즌 원정 유니폼 공개 했다', '팬 은 만족스럽다는 반응 ...</td>\n",
              "      <td>팬 은 만족스럽다는 반응 이다 연 보랏빛 바탕 메인 스폰서 라쿠텐 은 파란색 새겨져...</td>\n",
              "      <td>tensor(0.9066)</td>\n",
              "    </tr>\n",
              "    <tr>\n",
              "      <th>5</th>\n",
              "      <td>5</td>\n",
              "      <td>긴급 수혈 된 바르사 NO . 9 1년 반 만에 떠난다 EPL 행 유력</td>\n",
              "      <td>['FC 바르셀로나 는 새 시즌 앞두고 선수단 정리 한창 이다', '잉여 자원 은 ...</td>\n",
              "      <td>FC 바르셀로나 는 새 시즌 앞두고 선수단 정리 한창 이다 잉여 자원 은 과감 하게...</td>\n",
              "      <td>tensor(0.8983)</td>\n",
              "    </tr>\n",
              "    <tr>\n",
              "      <th>6</th>\n",
              "      <td>6</td>\n",
              "      <td>황의조 손흥민 소속사 손잡다 CAA Base 계약</td>\n",
              "      <td>['스포 탈 코리아 파리 황의조 한국 선수 로는 3 번 째 세계 적 인 스포츠 에이...</td>\n",
              "      <td>스포 탈 코리아 파리 황의조 한국 선수 로는 3 번 째 세계 적 인 스포츠 에이전트...</td>\n",
              "      <td>tensor(0.9137)</td>\n",
              "    </tr>\n",
              "    <tr>\n",
              "      <th>7</th>\n",
              "      <td>7</td>\n",
              "      <td>메시 종신 은 축복 스폰서 5년 더 보장 바르셀로나 함박 웃음</td>\n",
              "      <td>['리오넬 메시 FC 바르셀로나 남는다', '연봉 절반 삭감 5년 계약 사실 상 바...</td>\n",
              "      <td>연봉 절반 삭감 5년 계약 사실 상 바르셀로나 은퇴 할 결심 했다 메시 계약 소식 ...</td>\n",
              "      <td>tensor(0.9271)</td>\n",
              "    </tr>\n",
              "    <tr>\n",
              "      <th>8</th>\n",
              "      <td>8</td>\n",
              "      <td>눈물 흘렸던 37 세 전설 로번 두 번째 현역 은퇴 발표</td>\n",
              "      <td>['네덜란드 축구 스타 아르 연 로번 현역 은퇴 밝혔다', '로번 은 15일 회관 ...</td>\n",
              "      <td>시즌 막바지 인 지난 5월 스파 르트 로테르담 전 통해 돌아왔고 이후 FC 에먼 전...</td>\n",
              "      <td>tensor(0.9200)</td>\n",
              "    </tr>\n",
              "    <tr>\n",
              "      <th>9</th>\n",
              "      <td>9</td>\n",
              "      <td>100 세 메시 팬 할아버지 748 골 수기 작 성 메시 도 감사 인사</td>\n",
              "      <td>['리오넬 메시 는 프로 데뷔 하고 748 골 터뜨렸다', '전산 화 하기에도 오랜...</td>\n",
              "      <td>메시 사랑 하는 100 세 아르헨티나 할아버지 화제 다 손자 는 메시 득점 한 모든...</td>\n",
              "      <td>tensor(0.9339)</td>\n",
              "    </tr>\n",
              "    <tr>\n",
              "      <th>10</th>\n",
              "      <td>10</td>\n",
              "      <td>475억원 이면 맨유 떠난다 시메오네 픽 부활 한 린 가드</td>\n",
              "      <td>['스페인 프리메라리가 챔피언 아틀레 티코 마드리드 부활 한 제시 린 가드 노린다'...</td>\n",
              "      <td>스페인 프리메라리가 챔피언 아틀레 티코 마드리드 부활 한 제시 린 가드 노린다 디에...</td>\n",
              "      <td>tensor(0.9035)</td>\n",
              "    </tr>\n",
              "    <tr>\n",
              "      <th>11</th>\n",
              "      <td>11</td>\n",
              "      <td>토트넘 케인 대체 세리에 A 21 골 810억 골잡 찾았다</td>\n",
              "      <td>['토트넘 홋스퍼 해리 케인 이탈 대비 하고', '이탈리아 세리에 A 검증 된 공격...</td>\n",
              "      <td>토트넘 노리는 블 라 호비치는 2018년 여름 세르비아 파르티잔 떠나 피오렌티나 이...</td>\n",
              "      <td>tensor(0.9267)</td>\n",
              "    </tr>\n",
              "    <tr>\n",
              "      <th>12</th>\n",
              "      <td>12</td>\n",
              "      <td>1585억 케인 불발 맨시티 329 경기 294 골 킬러 입 추진</td>\n",
              "      <td>['맨체스터 시티 확실한 킬러 찾기 위해 분주하다', '맨시티 는 올여름 최 전방 ...</td>\n",
              "      <td>맨체스터 시티 확실한 킬러 찾기 위해 분주하다 맨시티 는 올여름 최 전방 강화 위해...</td>\n",
              "      <td>tensor(0.9005)</td>\n",
              "    </tr>\n",
              "    <tr>\n",
              "      <th>13</th>\n",
              "      <td>13</td>\n",
              "      <td>맨유 관심 프랑스 18 세 미드필더 레알 이나 바르사 갈 건데 요</td>\n",
              "      <td>['잉글랜드 보다 스페인 더 끌리네요 빅 클럽 군침 흘리고 있는 프랑스 신성 미드필...</td>\n",
              "      <td>잉글랜드 보다 스페인 더 끌리네요 빅 클럽 군침 흘리고 있는 프랑스 신성 미드필더 ...</td>\n",
              "      <td>tensor(0.9152)</td>\n",
              "    </tr>\n",
              "    <tr>\n",
              "      <th>14</th>\n",
              "      <td>14</td>\n",
              "      <td>메시 월드컵 4회 우승해도 마라도나 못 넘어 전설 주장</td>\n",
              "      <td>['리오넬 메시 선배 인 故 디에고 마라도 비교 당했다', '메시 는 지난 11일 ...</td>\n",
              "      <td>아르헨티나 국가대표 출신 인 마리오 켐페스 마라도나 위대함을 주장 했다 켐페스 는 ...</td>\n",
              "      <td>tensor(0.9277)</td>\n",
              "    </tr>\n",
              "    <tr>\n",
              "      <th>15</th>\n",
              "      <td>15</td>\n",
              "      <td>모리뉴 손흥민 전 동료 동물 이다</td>\n",
              "      <td>['AS 로마 수장 조세 모리뉴 손흥민 전 동료 인 카일 워커 칭찬 했다', '잉글...</td>\n",
              "      <td>AS 로마 수장 조세 모리뉴 손흥민 전 동료 인 카일 워커 칭찬 했다 수 문장 조던...</td>\n",
              "      <td>tensor(0.8934)</td>\n",
              "    </tr>\n",
              "    <tr>\n",
              "      <th>16</th>\n",
              "      <td>16</td>\n",
              "      <td>도르트문트 첼시 홀란 입 제안 거절</td>\n",
              "      <td>['보루시아 도르트문트 뜨거운 감자 엘링 홀란 붙잡는다', '영국 스카이스포츠 는 ...</td>\n",
              "      <td>에이전트 인 미노 라이 올라는 지난 4월 홀란 이적 두고 FC 바르셀로나 레알 마드...</td>\n",
              "      <td>tensor(0.9244)</td>\n",
              "    </tr>\n",
              "    <tr>\n",
              "      <th>17</th>\n",
              "      <td>17</td>\n",
              "      <td>레노버 인터 밀란 파트너 십 강화 유니폼 스폰서 나서</td>\n",
              "      <td>['세계 1 위 PC 스마트 디바이스 업체 레노버 인터 밀란 파트너 십 강화 유니폼...</td>\n",
              "      <td>레노버 는 인터밀란 선수 관련 데이터 포인트 6천만 개 포함 해 지난 두 시즌 훈련...</td>\n",
              "      <td>tensor(0.9034)</td>\n",
              "    </tr>\n",
              "    <tr>\n",
              "      <th>18</th>\n",
              "      <td>18</td>\n",
              "      <td>다시 돌아와 웨스트햄 임대 전설 쓰고 떠난 린 가드 입 추진</td>\n",
              "      <td>['웨스트햄 유나이티드 제시 린 가드 입 원하고', '영국 스카이 스포츠 따르면 웨...</td>\n",
              "      <td>웨스트햄 모예스 감독 은 좋은 기억 남기고 떠난 린 가드 계속 해서 하길 바랐다 웨...</td>\n",
              "      <td>tensor(0.9174)</td>\n",
              "    </tr>\n",
              "    <tr>\n",
              "      <th>19</th>\n",
              "      <td>19</td>\n",
              "      <td>바르셀로나 충격 요구 리즈 만 사울 200억원 울 선수 1 명</td>\n",
              "      <td>['FC 바르셀로나 아틀레 티코 마드리드 트레이드 요구 했다', '스카이스포츠 는 ...</td>\n",
              "      <td>FC 바르셀로나 아틀레 티코 마드리드 트레이드 요구 했다 스카이스포츠 는 바르셀로나...</td>\n",
              "      <td>tensor(0.9070)</td>\n",
              "    </tr>\n",
              "  </tbody>\n",
              "</table>\n",
              "</div>\n",
              "      <button class=\"colab-df-convert\" onclick=\"convertToInteractive('df-3b2da1f1-8495-4d4e-9a4d-717d83a24005')\"\n",
              "              title=\"Convert this dataframe to an interactive table.\"\n",
              "              style=\"display:none;\">\n",
              "        \n",
              "  <svg xmlns=\"http://www.w3.org/2000/svg\" height=\"24px\"viewBox=\"0 0 24 24\"\n",
              "       width=\"24px\">\n",
              "    <path d=\"M0 0h24v24H0V0z\" fill=\"none\"/>\n",
              "    <path d=\"M18.56 5.44l.94 2.06.94-2.06 2.06-.94-2.06-.94-.94-2.06-.94 2.06-2.06.94zm-11 1L8.5 8.5l.94-2.06 2.06-.94-2.06-.94L8.5 2.5l-.94 2.06-2.06.94zm10 10l.94 2.06.94-2.06 2.06-.94-2.06-.94-.94-2.06-.94 2.06-2.06.94z\"/><path d=\"M17.41 7.96l-1.37-1.37c-.4-.4-.92-.59-1.43-.59-.52 0-1.04.2-1.43.59L10.3 9.45l-7.72 7.72c-.78.78-.78 2.05 0 2.83L4 21.41c.39.39.9.59 1.41.59.51 0 1.02-.2 1.41-.59l7.78-7.78 2.81-2.81c.8-.78.8-2.07 0-2.86zM5.41 20L4 18.59l7.72-7.72 1.47 1.35L5.41 20z\"/>\n",
              "  </svg>\n",
              "      </button>\n",
              "      \n",
              "  <style>\n",
              "    .colab-df-container {\n",
              "      display:flex;\n",
              "      flex-wrap:wrap;\n",
              "      gap: 12px;\n",
              "    }\n",
              "\n",
              "    .colab-df-convert {\n",
              "      background-color: #E8F0FE;\n",
              "      border: none;\n",
              "      border-radius: 50%;\n",
              "      cursor: pointer;\n",
              "      display: none;\n",
              "      fill: #1967D2;\n",
              "      height: 32px;\n",
              "      padding: 0 0 0 0;\n",
              "      width: 32px;\n",
              "    }\n",
              "\n",
              "    .colab-df-convert:hover {\n",
              "      background-color: #E2EBFA;\n",
              "      box-shadow: 0px 1px 2px rgba(60, 64, 67, 0.3), 0px 1px 3px 1px rgba(60, 64, 67, 0.15);\n",
              "      fill: #174EA6;\n",
              "    }\n",
              "\n",
              "    [theme=dark] .colab-df-convert {\n",
              "      background-color: #3B4455;\n",
              "      fill: #D2E3FC;\n",
              "    }\n",
              "\n",
              "    [theme=dark] .colab-df-convert:hover {\n",
              "      background-color: #434B5C;\n",
              "      box-shadow: 0px 1px 3px 1px rgba(0, 0, 0, 0.15);\n",
              "      filter: drop-shadow(0px 1px 2px rgba(0, 0, 0, 0.3));\n",
              "      fill: #FFFFFF;\n",
              "    }\n",
              "  </style>\n",
              "\n",
              "      <script>\n",
              "        const buttonEl =\n",
              "          document.querySelector('#df-3b2da1f1-8495-4d4e-9a4d-717d83a24005 button.colab-df-convert');\n",
              "        buttonEl.style.display =\n",
              "          google.colab.kernel.accessAllowed ? 'block' : 'none';\n",
              "\n",
              "        async function convertToInteractive(key) {\n",
              "          const element = document.querySelector('#df-3b2da1f1-8495-4d4e-9a4d-717d83a24005');\n",
              "          const dataTable =\n",
              "            await google.colab.kernel.invokeFunction('convertToInteractive',\n",
              "                                                     [key], {});\n",
              "          if (!dataTable) return;\n",
              "\n",
              "          const docLinkHtml = 'Like what you see? Visit the ' +\n",
              "            '<a target=\"_blank\" href=https://colab.research.google.com/notebooks/data_table.ipynb>data table notebook</a>'\n",
              "            + ' to learn more about interactive tables.';\n",
              "          element.innerHTML = '';\n",
              "          dataTable['output_type'] = 'display_data';\n",
              "          await google.colab.output.renderOutput(dataTable, element);\n",
              "          const docLink = document.createElement('div');\n",
              "          docLink.innerHTML = docLinkHtml;\n",
              "          element.appendChild(docLink);\n",
              "        }\n",
              "      </script>\n",
              "    </div>\n",
              "  </div>\n",
              "  "
            ]
          },
          "metadata": {},
          "execution_count": 52
        }
      ]
    }
  ]
}