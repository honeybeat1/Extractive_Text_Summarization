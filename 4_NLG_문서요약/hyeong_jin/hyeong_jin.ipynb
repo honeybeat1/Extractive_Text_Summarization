{
 "cells": [
  {
   "cell_type": "markdown",
   "metadata": {
    "id": "gcDvXF_FGN9F"
   },
   "source": [
    "### 설정 + 필요한 모델 다운로드"
   ]
  },
  {
   "cell_type": "code",
   "execution_count": 1,
   "metadata": {
    "colab": {
     "base_uri": "https://localhost:8080/"
    },
    "id": "eX_oPnfM62iN",
    "outputId": "ab645599-f797-468d-e304-37224dfe3880"
   },
   "outputs": [],
   "source": [
    "# !pip install konlpy"
   ]
  },
  {
   "cell_type": "code",
   "execution_count": 2,
   "metadata": {
    "colab": {
     "base_uri": "https://localhost:8080/"
    },
    "id": "9ZL4Q4KFTvJ3",
    "outputId": "181dd642-b1ec-423b-8eed-3109d50206c4"
   },
   "outputs": [],
   "source": [
    "# !pip install transformers"
   ]
  },
  {
   "cell_type": "code",
   "execution_count": 3,
   "metadata": {
    "colab": {
     "base_uri": "https://localhost:8080/"
    },
    "id": "sXS8BohW9mHg",
    "outputId": "0ec2cf66-5dae-4b3a-c225-4af3a95b6c59"
   },
   "outputs": [],
   "source": [
    "# !pip install git+https://github.com/SKT-AI/KoBART #egg=kobart"
   ]
  },
  {
   "cell_type": "code",
   "execution_count": 4,
   "metadata": {
    "id": "KUfwH5tXtEyQ"
   },
   "outputs": [],
   "source": [
    "import torch\n",
    "import os \n",
    "import sys\n",
    "import pandas as pd\n",
    "import numpy as np\n",
    "from tqdm import tqdm\n",
    "tqdm.pandas()\n",
    "# import wandb\n",
    "os.environ[\"WANDB_DISABLED\"] = \"true\"\n",
    "\n",
    "# from google.colab import drive\n",
    "import re\n",
    "from konlpy.tag import Okt\n",
    "import requests\n",
    "from bs4 import BeautifulSoup\n",
    "\n",
    "from itertools import combinations\n",
    "import torch.nn as nn\n",
    "import torch.nn.functional as F\n",
    "from torch.optim import SGD\n",
    "from torch.optim.lr_scheduler import CosineAnnealingLR\n",
    "from torch.utils.data import Dataset, DataLoader,random_split\n",
    "\n",
    "from kobart import get_pytorch_kobart_model, get_kobart_tokenizer\n",
    "from transformers import BartModel\n",
    "\n",
    "import warnings\n",
    "warnings.filterwarnings(action='ignore')"
   ]
  },
  {
   "cell_type": "code",
   "execution_count": 5,
   "metadata": {
    "colab": {
     "base_uri": "https://localhost:8080/"
    },
    "id": "58DHYlQkt95N",
    "outputId": "45c641e6-1f56-4d39-9d9e-82cef7525f67"
   },
   "outputs": [
    {
     "name": "stdout",
     "output_type": "stream",
     "text": [
      "# available GPUs : 1\n",
      "GPU name : Quadro RTX 6000\n",
      "cuda\n"
     ]
    }
   ],
   "source": [
    "# seed\n",
    "seed = 7777\n",
    "torch.manual_seed(seed)\n",
    "torch.cuda.manual_seed_all(seed)\n",
    "# device type\n",
    "if torch.cuda.is_available():\n",
    "    device = torch.device(\"cuda\")\n",
    "    print(f\"# available GPUs : {torch.cuda.device_count()}\")\n",
    "    print(f\"GPU name : {torch.cuda.get_device_name()}\")\n",
    "else:\n",
    "    device = torch.device(\"cpu\")\n",
    "print(device)"
   ]
  },
  {
   "cell_type": "markdown",
   "metadata": {
    "id": "h7kzv5U25HUQ"
   },
   "source": [
    "### 원본 데이터 불러오기"
   ]
  },
  {
   "cell_type": "code",
   "execution_count": 6,
   "metadata": {
    "id": "j7Yjhg1D1s76"
   },
   "outputs": [],
   "source": [
    "df = pd.read_csv(\"../sports_news_data.csv\")"
   ]
  },
  {
   "cell_type": "code",
   "execution_count": 7,
   "metadata": {
    "colab": {
     "base_uri": "https://localhost:8080/",
     "height": 1000
    },
    "id": "3U1QMZqj2Lcd",
    "outputId": "a58a0256-0d08-4ba8-9f14-2fd38c4a5051"
   },
   "outputs": [
    {
     "data": {
      "text/html": [
       "<div>\n",
       "<style scoped>\n",
       "    .dataframe tbody tr th:only-of-type {\n",
       "        vertical-align: middle;\n",
       "    }\n",
       "\n",
       "    .dataframe tbody tr th {\n",
       "        vertical-align: top;\n",
       "    }\n",
       "\n",
       "    .dataframe thead th {\n",
       "        text-align: right;\n",
       "    }\n",
       "</style>\n",
       "<table border=\"1\" class=\"dataframe\">\n",
       "  <thead>\n",
       "    <tr style=\"text-align: right;\">\n",
       "      <th></th>\n",
       "      <th>TITLE</th>\n",
       "      <th>CONTENT</th>\n",
       "      <th>PUBLISH_DT</th>\n",
       "    </tr>\n",
       "  </thead>\n",
       "  <tbody>\n",
       "    <tr>\n",
       "      <th>0</th>\n",
       "      <td>스털링 다이빙 논란 종결?… “오른쪽 다리 접촉 있었잖아”</td>\n",
       "      <td>[스포탈코리아] 유럽축구연맹(UEFA) 유로 2020 심판위원장 로베르토 로세티가 ...</td>\n",
       "      <td>2021-07-15</td>\n",
       "    </tr>\n",
       "    <tr>\n",
       "      <th>1</th>\n",
       "      <td>‘디 마리아 없다’ 유로X코파 베스트11, 이탈리아만 7명</td>\n",
       "      <td>[스포탈코리아] 유로 2020과 코파 아메리카 2021로 베스트11을 만든다면 어떤...</td>\n",
       "      <td>2021-07-15</td>\n",
       "    </tr>\n",
       "    <tr>\n",
       "      <th>2</th>\n",
       "      <td>‘슈퍼컴퓨터 예측’ 맨시티 우승-맨유 4위… 토트넘은 ‘6위’</td>\n",
       "      <td>[스포탈코리아] 새 시즌이 시작하기도 전에 슈퍼컴퓨터가 예상한 순위가 나왔다.\\n\\...</td>\n",
       "      <td>2021-07-15</td>\n",
       "    </tr>\n",
       "    <tr>\n",
       "      <th>3</th>\n",
       "      <td>“이재성, 완벽한 프로… 마인츠서 성공할 것” 킬 디렉터의 애정 듬뿍 응원</td>\n",
       "      <td>[스포탈코리아] 홀슈타인 킬 우베 스토버 디렉터가 이재성을 향해 응원 메시지를 띄웠...</td>\n",
       "      <td>2021-07-15</td>\n",
       "    </tr>\n",
       "    <tr>\n",
       "      <th>4</th>\n",
       "      <td>‘홈킷과 딴판’ 바르사 팬들, NEW 어웨이 셔츠 호평… “가장 좋아하는 색!”</td>\n",
       "      <td>[스포탈코리아] FC 바르셀로나가 새 시즌 원정 유니폼을 공개했다. 팬들은 만족스럽...</td>\n",
       "      <td>2021-07-15</td>\n",
       "    </tr>\n",
       "    <tr>\n",
       "      <th>5</th>\n",
       "      <td>긴급 수혈된 바르사 NO.9, 1년 반 만에 떠난다… ‘EPL행 유력’</td>\n",
       "      <td>[스포탈코리아] FC 바르셀로나는 새 시즌을 앞두고 선수단 정리가 한창이다. 잉여 ...</td>\n",
       "      <td>2021-07-15</td>\n",
       "    </tr>\n",
       "    <tr>\n",
       "      <th>6</th>\n",
       "      <td>[김남구의 유럽통신] 황의조, 손흥민 소속사와 손잡다… CAA Base와 계약</td>\n",
       "      <td>[스포탈코리아=파리(프랑스)] 황의조(지롱댕 드 보르도)가 한국 선수로는 3번째로 ...</td>\n",
       "      <td>2021-07-15</td>\n",
       "    </tr>\n",
       "    <tr>\n",
       "      <th>7</th>\n",
       "      <td>\"메시 종신은 축복!\"…스폰서 5년 더 보장, 바르셀로나 함박웃음</td>\n",
       "      <td>[스포탈코리아] 리오넬 메시(34)가 FC바르셀로나에 남는다. 연봉을 절반 삭감하지...</td>\n",
       "      <td>2021-07-15</td>\n",
       "    </tr>\n",
       "    <tr>\n",
       "      <th>8</th>\n",
       "      <td>[오피셜] 눈물 흘렸던 '37세 전설' 로번, 두 번째 현역 은퇴 발표</td>\n",
       "      <td>[스포탈코리아] 네덜란드 축구스타 아르연 로번(37)이 현역 은퇴를 밝혔다. \\n\\...</td>\n",
       "      <td>2021-07-15</td>\n",
       "    </tr>\n",
       "    <tr>\n",
       "      <th>9</th>\n",
       "      <td>'100세' 메시팬 할아버지, 748골 수기 작성…메시도 감사 인사</td>\n",
       "      <td>[스포탈코리아] 리오넬 메시(34)는 프로 데뷔하고 748골을 터뜨렸다. 전산화 하...</td>\n",
       "      <td>2021-07-15</td>\n",
       "    </tr>\n",
       "  </tbody>\n",
       "</table>\n",
       "</div>"
      ],
      "text/plain": [
       "                                          TITLE  \\\n",
       "0              스털링 다이빙 논란 종결?… “오른쪽 다리 접촉 있었잖아”   \n",
       "1              ‘디 마리아 없다’ 유로X코파 베스트11, 이탈리아만 7명   \n",
       "2            ‘슈퍼컴퓨터 예측’ 맨시티 우승-맨유 4위… 토트넘은 ‘6위’   \n",
       "3     “이재성, 완벽한 프로… 마인츠서 성공할 것” 킬 디렉터의 애정 듬뿍 응원   \n",
       "4  ‘홈킷과 딴판’ 바르사 팬들, NEW 어웨이 셔츠 호평… “가장 좋아하는 색!”   \n",
       "5       긴급 수혈된 바르사 NO.9, 1년 반 만에 떠난다… ‘EPL행 유력’   \n",
       "6   [김남구의 유럽통신] 황의조, 손흥민 소속사와 손잡다… CAA Base와 계약   \n",
       "7          \"메시 종신은 축복!\"…스폰서 5년 더 보장, 바르셀로나 함박웃음   \n",
       "8       [오피셜] 눈물 흘렸던 '37세 전설' 로번, 두 번째 현역 은퇴 발표   \n",
       "9         '100세' 메시팬 할아버지, 748골 수기 작성…메시도 감사 인사   \n",
       "\n",
       "                                             CONTENT  PUBLISH_DT  \n",
       "0  [스포탈코리아] 유럽축구연맹(UEFA) 유로 2020 심판위원장 로베르토 로세티가 ...  2021-07-15  \n",
       "1  [스포탈코리아] 유로 2020과 코파 아메리카 2021로 베스트11을 만든다면 어떤...  2021-07-15  \n",
       "2  [스포탈코리아] 새 시즌이 시작하기도 전에 슈퍼컴퓨터가 예상한 순위가 나왔다.\\n\\...  2021-07-15  \n",
       "3  [스포탈코리아] 홀슈타인 킬 우베 스토버 디렉터가 이재성을 향해 응원 메시지를 띄웠...  2021-07-15  \n",
       "4  [스포탈코리아] FC 바르셀로나가 새 시즌 원정 유니폼을 공개했다. 팬들은 만족스럽...  2021-07-15  \n",
       "5  [스포탈코리아] FC 바르셀로나는 새 시즌을 앞두고 선수단 정리가 한창이다. 잉여 ...  2021-07-15  \n",
       "6  [스포탈코리아=파리(프랑스)] 황의조(지롱댕 드 보르도)가 한국 선수로는 3번째로 ...  2021-07-15  \n",
       "7  [스포탈코리아] 리오넬 메시(34)가 FC바르셀로나에 남는다. 연봉을 절반 삭감하지...  2021-07-15  \n",
       "8  [스포탈코리아] 네덜란드 축구스타 아르연 로번(37)이 현역 은퇴를 밝혔다. \\n\\...  2021-07-15  \n",
       "9  [스포탈코리아] 리오넬 메시(34)는 프로 데뷔하고 748골을 터뜨렸다. 전산화 하...  2021-07-15  "
      ]
     },
     "execution_count": 7,
     "metadata": {},
     "output_type": "execute_result"
    }
   ],
   "source": [
    "df.head(10)"
   ]
  },
  {
   "cell_type": "code",
   "execution_count": 8,
   "metadata": {},
   "outputs": [
    {
     "data": {
      "text/html": [
       "<div>\n",
       "<style scoped>\n",
       "    .dataframe tbody tr th:only-of-type {\n",
       "        vertical-align: middle;\n",
       "    }\n",
       "\n",
       "    .dataframe tbody tr th {\n",
       "        vertical-align: top;\n",
       "    }\n",
       "\n",
       "    .dataframe thead th {\n",
       "        text-align: right;\n",
       "    }\n",
       "</style>\n",
       "<table border=\"1\" class=\"dataframe\">\n",
       "  <thead>\n",
       "    <tr style=\"text-align: right;\">\n",
       "      <th></th>\n",
       "      <th>TITLE</th>\n",
       "      <th>CONTENT</th>\n",
       "      <th>PUBLISH_DT</th>\n",
       "    </tr>\n",
       "  </thead>\n",
       "  <tbody>\n",
       "    <tr>\n",
       "      <th>4137</th>\n",
       "      <td>GOAL50 2021 투표하기</td>\n",
       "      <td>NaN</td>\n",
       "      <td>2021-11-02</td>\n",
       "    </tr>\n",
       "    <tr>\n",
       "      <th>5475</th>\n",
       "      <td>[GOAL LIVE] '오직 익수' 안익수가 생각하는 팬의 의미 \"상당히 두려운 존재\"</td>\n",
       "      <td>NaN</td>\n",
       "      <td>2021-12-04</td>\n",
       "    </tr>\n",
       "  </tbody>\n",
       "</table>\n",
       "</div>"
      ],
      "text/plain": [
       "                                                 TITLE CONTENT  PUBLISH_DT\n",
       "4137                                  GOAL50 2021 투표하기     NaN  2021-11-02\n",
       "5475  [GOAL LIVE] '오직 익수' 안익수가 생각하는 팬의 의미 \"상당히 두려운 존재\"     NaN  2021-12-04"
      ]
     },
     "execution_count": 8,
     "metadata": {},
     "output_type": "execute_result"
    }
   ],
   "source": [
    "df[df['CONTENT'].isnull() == True]"
   ]
  },
  {
   "cell_type": "code",
   "execution_count": 9,
   "metadata": {},
   "outputs": [
    {
     "data": {
      "text/plain": [
       "TITLE         0\n",
       "CONTENT       2\n",
       "PUBLISH_DT    0\n",
       "dtype: int64"
      ]
     },
     "execution_count": 9,
     "metadata": {},
     "output_type": "execute_result"
    }
   ],
   "source": [
    "# 결측치 확인\n",
    "df.isnull().sum()"
   ]
  },
  {
   "cell_type": "code",
   "execution_count": 10,
   "metadata": {},
   "outputs": [
    {
     "data": {
      "text/plain": [
       "TITLE         0\n",
       "CONTENT       0\n",
       "PUBLISH_DT    0\n",
       "dtype: int64"
      ]
     },
     "execution_count": 10,
     "metadata": {},
     "output_type": "execute_result"
    }
   ],
   "source": [
    "# 결측치 제거\n",
    "df = df.dropna()\n",
    "df.isnull().sum()"
   ]
  },
  {
   "cell_type": "code",
   "execution_count": 11,
   "metadata": {},
   "outputs": [
    {
     "name": "stdout",
     "output_type": "stream",
     "text": [
      "(9050, 3)\n"
     ]
    },
    {
     "data": {
      "text/html": [
       "<div>\n",
       "<style scoped>\n",
       "    .dataframe tbody tr th:only-of-type {\n",
       "        vertical-align: middle;\n",
       "    }\n",
       "\n",
       "    .dataframe tbody tr th {\n",
       "        vertical-align: top;\n",
       "    }\n",
       "\n",
       "    .dataframe thead th {\n",
       "        text-align: right;\n",
       "    }\n",
       "</style>\n",
       "<table border=\"1\" class=\"dataframe\">\n",
       "  <thead>\n",
       "    <tr style=\"text-align: right;\">\n",
       "      <th></th>\n",
       "      <th>TITLE</th>\n",
       "      <th>CONTENT</th>\n",
       "      <th>PUBLISH_DT</th>\n",
       "    </tr>\n",
       "  </thead>\n",
       "  <tbody>\n",
       "    <tr>\n",
       "      <th>0</th>\n",
       "      <td>스털링 다이빙 논란 종결?… “오른쪽 다리 접촉 있었잖아”</td>\n",
       "      <td>[스포탈코리아] 유럽축구연맹(UEFA) 유로 2020 심판위원장 로베르토 로세티가 ...</td>\n",
       "      <td>2021-07-15</td>\n",
       "    </tr>\n",
       "    <tr>\n",
       "      <th>1</th>\n",
       "      <td>‘디 마리아 없다’ 유로X코파 베스트11, 이탈리아만 7명</td>\n",
       "      <td>[스포탈코리아] 유로 2020과 코파 아메리카 2021로 베스트11을 만든다면 어떤...</td>\n",
       "      <td>2021-07-15</td>\n",
       "    </tr>\n",
       "    <tr>\n",
       "      <th>2</th>\n",
       "      <td>‘슈퍼컴퓨터 예측’ 맨시티 우승-맨유 4위… 토트넘은 ‘6위’</td>\n",
       "      <td>[스포탈코리아] 새 시즌이 시작하기도 전에 슈퍼컴퓨터가 예상한 순위가 나왔다.\\n\\...</td>\n",
       "      <td>2021-07-15</td>\n",
       "    </tr>\n",
       "    <tr>\n",
       "      <th>3</th>\n",
       "      <td>“이재성, 완벽한 프로… 마인츠서 성공할 것” 킬 디렉터의 애정 듬뿍 응원</td>\n",
       "      <td>[스포탈코리아] 홀슈타인 킬 우베 스토버 디렉터가 이재성을 향해 응원 메시지를 띄웠...</td>\n",
       "      <td>2021-07-15</td>\n",
       "    </tr>\n",
       "    <tr>\n",
       "      <th>4</th>\n",
       "      <td>‘홈킷과 딴판’ 바르사 팬들, NEW 어웨이 셔츠 호평… “가장 좋아하는 색!”</td>\n",
       "      <td>[스포탈코리아] FC 바르셀로나가 새 시즌 원정 유니폼을 공개했다. 팬들은 만족스럽...</td>\n",
       "      <td>2021-07-15</td>\n",
       "    </tr>\n",
       "  </tbody>\n",
       "</table>\n",
       "</div>"
      ],
      "text/plain": [
       "                                          TITLE  \\\n",
       "0              스털링 다이빙 논란 종결?… “오른쪽 다리 접촉 있었잖아”   \n",
       "1              ‘디 마리아 없다’ 유로X코파 베스트11, 이탈리아만 7명   \n",
       "2            ‘슈퍼컴퓨터 예측’ 맨시티 우승-맨유 4위… 토트넘은 ‘6위’   \n",
       "3     “이재성, 완벽한 프로… 마인츠서 성공할 것” 킬 디렉터의 애정 듬뿍 응원   \n",
       "4  ‘홈킷과 딴판’ 바르사 팬들, NEW 어웨이 셔츠 호평… “가장 좋아하는 색!”   \n",
       "\n",
       "                                             CONTENT  PUBLISH_DT  \n",
       "0  [스포탈코리아] 유럽축구연맹(UEFA) 유로 2020 심판위원장 로베르토 로세티가 ...  2021-07-15  \n",
       "1  [스포탈코리아] 유로 2020과 코파 아메리카 2021로 베스트11을 만든다면 어떤...  2021-07-15  \n",
       "2  [스포탈코리아] 새 시즌이 시작하기도 전에 슈퍼컴퓨터가 예상한 순위가 나왔다.\\n\\...  2021-07-15  \n",
       "3  [스포탈코리아] 홀슈타인 킬 우베 스토버 디렉터가 이재성을 향해 응원 메시지를 띄웠...  2021-07-15  \n",
       "4  [스포탈코리아] FC 바르셀로나가 새 시즌 원정 유니폼을 공개했다. 팬들은 만족스럽...  2021-07-15  "
      ]
     },
     "execution_count": 11,
     "metadata": {},
     "output_type": "execute_result"
    }
   ],
   "source": [
    "# 중복값 제거(CONTENT만 처리하므로 TITLE은 두기로 한다.)\n",
    "idx = df['CONTENT'].drop_duplicates().index\n",
    "df = df.loc[idx]\n",
    "df.reset_index(drop=True, inplace = True)\n",
    "print(df.shape) ; df.head(5)"
   ]
  },
  {
   "cell_type": "markdown",
   "metadata": {
    "id": "XhpUnNfR63sq"
   },
   "source": [
    "### 전처리\n",
    "- 중복 및 결측치 제거\n",
    "- 크롤링 상에서 생긴 쓸모 없는 문구 처리\n"
   ]
  },
  {
   "cell_type": "code",
   "execution_count": 12,
   "metadata": {},
   "outputs": [],
   "source": [
    "# 타이틀(안 쓸시 코멘트 처리 할 것)\n",
    "def title_cleansing(x):\n",
    "    new_string = re.sub(r'\\([^)]*\\)|\\[[^)]*\\]|\\<[^)]*\\>', '', x)\n",
    "    new_string = re.sub(r\"[^가-힣a-zA-Z0-9一-龥. ]\",\"\",new_string)\n",
    "    \n",
    "    return new_string\n",
    "\n",
    "# 본문\n",
    "def content_cleansing(string):\n",
    "    try:\n",
    "        if '스포탈코리아' in string:\n",
    "            cleanr =re.compile('<.*?>')\n",
    "            cleantext = re.sub(cleanr, '', string).replace(\"&nbsp;\", \"\").replace('\\n',\"\").replace('\\t',\"\").replace('\\xa0', \"\")\n",
    "\n",
    "\n",
    "            new_string = re.sub(r'사진=.+$', '', cleantext)\n",
    "            new_string = re.sub(r'.+.기자=', '', new_string)    \n",
    "            new_string = re.sub(r'\\([^)]*\\)|\\[[^)]*\\]|\\<[^)]*\\>', '', new_string)\n",
    "            new_string = re.sub(r\"[^가-힣a-zA-Z0-9一-龥. ]\",\"\",new_string)\n",
    "\n",
    "            return new_string.strip()\n",
    "\n",
    "        elif '골닷컴' in string:   ### +++ 기자 이름, 사진 출처 제거 완료\n",
    "            string = re.sub(r'(?<=\\<a href=\"https://www.goal.com/kr/%EB%AA%A9%EB%A1%9D/a/wu7p1c28gszg1qwppnvcp6jjs\" target=\"_blank\">)(.*?)(?=<\\/span>)', '', string)\n",
    "            \n",
    "            string = re.sub(r'(?<=\\[골닷컴])(.*?)(?=\\=)', '', string)\n",
    "            string = re.sub(r'(사진(.*?)Images)', '', string)\n",
    "            \n",
    "            \n",
    "            cleanr =re.compile('<.*?>')\n",
    "            cleantext = re.sub(cleanr, '', string).replace(\"&nbsp;\", \"\").replace('\\n',\"\").replace('\\t',\"\").replace('\\xa0', \"\")\n",
    "\n",
    "            new_string = re.sub(r'\\([^)]*\\)|\\[[^)]*\\]|\\<[^)]*\\>', '', cleantext)\n",
    "            new_string = re.sub(r\"[^가-힣a-zA-Z0-9一-龥. ]\",\"\", new_string)\n",
    "\n",
    "            return new_string.strip()\n",
    "\n",
    "        else:\n",
    "            string = re.sub(r'(?<=\\<hr>)(.*?)(?=<\\/a>)', '', string)\n",
    "            \n",
    "            cleanr =re.compile('<.*?>')\n",
    "            cleantext = re.sub(cleanr, '', string).replace(\"&nbsp;\", \"\").replace('\\n',\"\").replace('\\t',\"\").replace('\\xa0', \"\")\n",
    "\n",
    "            new_string = re.sub(r'\\([^)]*\\)|\\[[^)]*\\]|\\<[^)]*\\>', '', cleantext)\n",
    "            new_string = re.sub(r\"[^가-힣a-zA-Z0-9一-龥. ]\",\"\", new_string)\n",
    "            \n",
    "            return new_string.strip()\n",
    "        \n",
    "    except:\n",
    "        return \"문제\""
   ]
  },
  {
   "cell_type": "code",
   "execution_count": 13,
   "metadata": {},
   "outputs": [
    {
     "name": "stderr",
     "output_type": "stream",
     "text": [
      "100%|██████████| 9050/9050 [00:00<00:00, 218790.79it/s]\n",
      "100%|██████████| 9050/9050 [00:27<00:00, 333.98it/s]\n"
     ]
    }
   ],
   "source": [
    "df['cleaned_TITLE'] = df['TITLE'].progress_apply(lambda x: title_cleansing(x))\n",
    "df['cleaned_CONTENT'] = df['CONTENT'].progress_apply(lambda x: content_cleansing(x))"
   ]
  },
  {
   "cell_type": "code",
   "execution_count": 14,
   "metadata": {},
   "outputs": [
    {
     "name": "stdout",
     "output_type": "stream",
     "text": [
      "(8997, 5)\n"
     ]
    },
    {
     "data": {
      "text/html": [
       "<div>\n",
       "<style scoped>\n",
       "    .dataframe tbody tr th:only-of-type {\n",
       "        vertical-align: middle;\n",
       "    }\n",
       "\n",
       "    .dataframe tbody tr th {\n",
       "        vertical-align: top;\n",
       "    }\n",
       "\n",
       "    .dataframe thead th {\n",
       "        text-align: right;\n",
       "    }\n",
       "</style>\n",
       "<table border=\"1\" class=\"dataframe\">\n",
       "  <thead>\n",
       "    <tr style=\"text-align: right;\">\n",
       "      <th></th>\n",
       "      <th>TITLE</th>\n",
       "      <th>CONTENT</th>\n",
       "      <th>PUBLISH_DT</th>\n",
       "      <th>cleaned_TITLE</th>\n",
       "      <th>cleaned_CONTENT</th>\n",
       "    </tr>\n",
       "  </thead>\n",
       "  <tbody>\n",
       "    <tr>\n",
       "      <th>0</th>\n",
       "      <td>스털링 다이빙 논란 종결?… “오른쪽 다리 접촉 있었잖아”</td>\n",
       "      <td>[스포탈코리아] 유럽축구연맹(UEFA) 유로 2020 심판위원장 로베르토 로세티가 ...</td>\n",
       "      <td>2021-07-15</td>\n",
       "      <td>스털링 다이빙 논란 종결 오른쪽 다리 접촉 있었잖아</td>\n",
       "      <td>유럽축구연맹 유로 2020 심판위원장 로베르토 로세티가 잉글랜드와 덴마크전에 나온 ...</td>\n",
       "    </tr>\n",
       "    <tr>\n",
       "      <th>1</th>\n",
       "      <td>‘디 마리아 없다’ 유로X코파 베스트11, 이탈리아만 7명</td>\n",
       "      <td>[스포탈코리아] 유로 2020과 코파 아메리카 2021로 베스트11을 만든다면 어떤...</td>\n",
       "      <td>2021-07-15</td>\n",
       "      <td>디 마리아 없다 유로X코파 베스트11 이탈리아만 7명</td>\n",
       "      <td>유로 2020과 코파 아메리카 2021로 베스트11을 만든다면 어떤 모습일까.지난달...</td>\n",
       "    </tr>\n",
       "    <tr>\n",
       "      <th>2</th>\n",
       "      <td>‘슈퍼컴퓨터 예측’ 맨시티 우승-맨유 4위… 토트넘은 ‘6위’</td>\n",
       "      <td>[스포탈코리아] 새 시즌이 시작하기도 전에 슈퍼컴퓨터가 예상한 순위가 나왔다.\\n\\...</td>\n",
       "      <td>2021-07-15</td>\n",
       "      <td>슈퍼컴퓨터 예측 맨시티 우승맨유 4위 토트넘은 6위</td>\n",
       "      <td>새 시즌이 시작하기도 전에 슈퍼컴퓨터가 예상한 순위가 나왔다.영국 매체 스포츠 바이...</td>\n",
       "    </tr>\n",
       "    <tr>\n",
       "      <th>3</th>\n",
       "      <td>“이재성, 완벽한 프로… 마인츠서 성공할 것” 킬 디렉터의 애정 듬뿍 응원</td>\n",
       "      <td>[스포탈코리아] 홀슈타인 킬 우베 스토버 디렉터가 이재성을 향해 응원 메시지를 띄웠...</td>\n",
       "      <td>2021-07-15</td>\n",
       "      <td>이재성 완벽한 프로 마인츠서 성공할 것 킬 디렉터의 애정 듬뿍 응원</td>\n",
       "      <td>홀슈타인 킬 우베 스토버 디렉터가 이재성을 향해 응원 메시지를 띄웠다.이재성은 20...</td>\n",
       "    </tr>\n",
       "    <tr>\n",
       "      <th>4</th>\n",
       "      <td>‘홈킷과 딴판’ 바르사 팬들, NEW 어웨이 셔츠 호평… “가장 좋아하는 색!”</td>\n",
       "      <td>[스포탈코리아] FC 바르셀로나가 새 시즌 원정 유니폼을 공개했다. 팬들은 만족스럽...</td>\n",
       "      <td>2021-07-15</td>\n",
       "      <td>홈킷과 딴판 바르사 팬들 NEW 어웨이 셔츠 호평 가장 좋아하는 색</td>\n",
       "      <td>FC 바르셀로나가 새 시즌 원정 유니폼을 공개했다. 팬들은 만족스럽다는 반응이다.바...</td>\n",
       "    </tr>\n",
       "  </tbody>\n",
       "</table>\n",
       "</div>"
      ],
      "text/plain": [
       "                                          TITLE  \\\n",
       "0              스털링 다이빙 논란 종결?… “오른쪽 다리 접촉 있었잖아”   \n",
       "1              ‘디 마리아 없다’ 유로X코파 베스트11, 이탈리아만 7명   \n",
       "2            ‘슈퍼컴퓨터 예측’ 맨시티 우승-맨유 4위… 토트넘은 ‘6위’   \n",
       "3     “이재성, 완벽한 프로… 마인츠서 성공할 것” 킬 디렉터의 애정 듬뿍 응원   \n",
       "4  ‘홈킷과 딴판’ 바르사 팬들, NEW 어웨이 셔츠 호평… “가장 좋아하는 색!”   \n",
       "\n",
       "                                             CONTENT  PUBLISH_DT  \\\n",
       "0  [스포탈코리아] 유럽축구연맹(UEFA) 유로 2020 심판위원장 로베르토 로세티가 ...  2021-07-15   \n",
       "1  [스포탈코리아] 유로 2020과 코파 아메리카 2021로 베스트11을 만든다면 어떤...  2021-07-15   \n",
       "2  [스포탈코리아] 새 시즌이 시작하기도 전에 슈퍼컴퓨터가 예상한 순위가 나왔다.\\n\\...  2021-07-15   \n",
       "3  [스포탈코리아] 홀슈타인 킬 우베 스토버 디렉터가 이재성을 향해 응원 메시지를 띄웠...  2021-07-15   \n",
       "4  [스포탈코리아] FC 바르셀로나가 새 시즌 원정 유니폼을 공개했다. 팬들은 만족스럽...  2021-07-15   \n",
       "\n",
       "                           cleaned_TITLE  \\\n",
       "0           스털링 다이빙 논란 종결 오른쪽 다리 접촉 있었잖아   \n",
       "1          디 마리아 없다 유로X코파 베스트11 이탈리아만 7명   \n",
       "2           슈퍼컴퓨터 예측 맨시티 우승맨유 4위 토트넘은 6위   \n",
       "3  이재성 완벽한 프로 마인츠서 성공할 것 킬 디렉터의 애정 듬뿍 응원   \n",
       "4  홈킷과 딴판 바르사 팬들 NEW 어웨이 셔츠 호평 가장 좋아하는 색   \n",
       "\n",
       "                                     cleaned_CONTENT  \n",
       "0  유럽축구연맹 유로 2020 심판위원장 로베르토 로세티가 잉글랜드와 덴마크전에 나온 ...  \n",
       "1  유로 2020과 코파 아메리카 2021로 베스트11을 만든다면 어떤 모습일까.지난달...  \n",
       "2  새 시즌이 시작하기도 전에 슈퍼컴퓨터가 예상한 순위가 나왔다.영국 매체 스포츠 바이...  \n",
       "3  홀슈타인 킬 우베 스토버 디렉터가 이재성을 향해 응원 메시지를 띄웠다.이재성은 20...  \n",
       "4  FC 바르셀로나가 새 시즌 원정 유니폼을 공개했다. 팬들은 만족스럽다는 반응이다.바...  "
      ]
     },
     "execution_count": 14,
     "metadata": {},
     "output_type": "execute_result"
    }
   ],
   "source": [
    "# 데이터 전처리 후 중복값 제거\n",
    "idx = df['cleaned_CONTENT'].drop_duplicates().index\n",
    "df = df.loc[idx]\n",
    "df.reset_index(drop=True, inplace = True)\n",
    "print(df.shape) ; df.head(5)"
   ]
  },
  {
   "cell_type": "code",
   "execution_count": 15,
   "metadata": {},
   "outputs": [],
   "source": [
    "df_new = df[['cleaned_TITLE', 'cleaned_CONTENT']]\n",
    "df_new.rename(columns={'cleaned_CONTENT': 'CONTENT', 'cleaned_TITLE':'TITLE'}, inplace = True)"
   ]
  },
  {
   "cell_type": "code",
   "execution_count": 16,
   "metadata": {},
   "outputs": [
    {
     "data": {
      "text/html": [
       "<div>\n",
       "<style scoped>\n",
       "    .dataframe tbody tr th:only-of-type {\n",
       "        vertical-align: middle;\n",
       "    }\n",
       "\n",
       "    .dataframe tbody tr th {\n",
       "        vertical-align: top;\n",
       "    }\n",
       "\n",
       "    .dataframe thead th {\n",
       "        text-align: right;\n",
       "    }\n",
       "</style>\n",
       "<table border=\"1\" class=\"dataframe\">\n",
       "  <thead>\n",
       "    <tr style=\"text-align: right;\">\n",
       "      <th></th>\n",
       "      <th>TITLE</th>\n",
       "      <th>CONTENT</th>\n",
       "    </tr>\n",
       "  </thead>\n",
       "  <tbody>\n",
       "    <tr>\n",
       "      <th>0</th>\n",
       "      <td>스털링 다이빙 논란 종결 오른쪽 다리 접촉 있었잖아</td>\n",
       "      <td>유럽축구연맹 유로 2020 심판위원장 로베르토 로세티가 잉글랜드와 덴마크전에 나온 ...</td>\n",
       "    </tr>\n",
       "    <tr>\n",
       "      <th>1</th>\n",
       "      <td>디 마리아 없다 유로X코파 베스트11 이탈리아만 7명</td>\n",
       "      <td>유로 2020과 코파 아메리카 2021로 베스트11을 만든다면 어떤 모습일까.지난달...</td>\n",
       "    </tr>\n",
       "    <tr>\n",
       "      <th>2</th>\n",
       "      <td>슈퍼컴퓨터 예측 맨시티 우승맨유 4위 토트넘은 6위</td>\n",
       "      <td>새 시즌이 시작하기도 전에 슈퍼컴퓨터가 예상한 순위가 나왔다.영국 매체 스포츠 바이...</td>\n",
       "    </tr>\n",
       "    <tr>\n",
       "      <th>3</th>\n",
       "      <td>이재성 완벽한 프로 마인츠서 성공할 것 킬 디렉터의 애정 듬뿍 응원</td>\n",
       "      <td>홀슈타인 킬 우베 스토버 디렉터가 이재성을 향해 응원 메시지를 띄웠다.이재성은 20...</td>\n",
       "    </tr>\n",
       "    <tr>\n",
       "      <th>4</th>\n",
       "      <td>홈킷과 딴판 바르사 팬들 NEW 어웨이 셔츠 호평 가장 좋아하는 색</td>\n",
       "      <td>FC 바르셀로나가 새 시즌 원정 유니폼을 공개했다. 팬들은 만족스럽다는 반응이다.바...</td>\n",
       "    </tr>\n",
       "    <tr>\n",
       "      <th>...</th>\n",
       "      <td>...</td>\n",
       "      <td>...</td>\n",
       "    </tr>\n",
       "    <tr>\n",
       "      <th>8992</th>\n",
       "      <td>이제 홈팬 야유 받는 먹튀 선수 차비 감독 조차 그만 해라</td>\n",
       "      <td>FC바르셀로나 팬들에게 우스망 뎀벨레는 밉상이 되어버렸다. 바르사는 7일 오전 0시...</td>\n",
       "    </tr>\n",
       "    <tr>\n",
       "      <th>8993</th>\n",
       "      <td>성남 만 17세 유스 김지수와 준프로 계약</td>\n",
       "      <td>성남FC가 만17세 2004년생 수비수 김지수와 준프로 계약을 체결했다. 김지수는 ...</td>\n",
       "    </tr>\n",
       "    <tr>\n",
       "      <th>8994</th>\n",
       "      <td>오베르마스 아약스서 쫓겨난다...여성 동료들에게 부적절한 메시지</td>\n",
       "      <td>레전드 마르크 오베르마스가 아약스에서 쫓겨났다. 이유는 굉장히 굴욕적이었다.아약스는...</td>\n",
       "    </tr>\n",
       "    <tr>\n",
       "      <th>8995</th>\n",
       "      <td>바르사 차비 감독 트라오레 데뷔전 활약에 깜짝...몸이 야수 같아</td>\n",
       "      <td>FC 바르셀로나 차비 에르난데스 감독이 데뷔전을 치른 아다마 트라오레를 극찬했다.바...</td>\n",
       "    </tr>\n",
       "    <tr>\n",
       "      <th>8996</th>\n",
       "      <td>데파이팔카오산체스디 마리아 퍼거슨 경 은퇴 후 맨유 워스트 11</td>\n",
       "      <td>이름값만 화려한 맨유 워스트 11이 공개됐다.영국 매체 익스프레스는 7일 알렉스 퍼...</td>\n",
       "    </tr>\n",
       "  </tbody>\n",
       "</table>\n",
       "<p>8997 rows × 2 columns</p>\n",
       "</div>"
      ],
      "text/plain": [
       "                                      TITLE  \\\n",
       "0              스털링 다이빙 논란 종결 오른쪽 다리 접촉 있었잖아   \n",
       "1             디 마리아 없다 유로X코파 베스트11 이탈리아만 7명   \n",
       "2              슈퍼컴퓨터 예측 맨시티 우승맨유 4위 토트넘은 6위   \n",
       "3     이재성 완벽한 프로 마인츠서 성공할 것 킬 디렉터의 애정 듬뿍 응원   \n",
       "4     홈킷과 딴판 바르사 팬들 NEW 어웨이 셔츠 호평 가장 좋아하는 색   \n",
       "...                                     ...   \n",
       "8992       이제 홈팬 야유 받는 먹튀 선수 차비 감독 조차 그만 해라   \n",
       "8993               성남 만 17세 유스 김지수와 준프로 계약    \n",
       "8994    오베르마스 아약스서 쫓겨난다...여성 동료들에게 부적절한 메시지   \n",
       "8995   바르사 차비 감독 트라오레 데뷔전 활약에 깜짝...몸이 야수 같아   \n",
       "8996    데파이팔카오산체스디 마리아 퍼거슨 경 은퇴 후 맨유 워스트 11   \n",
       "\n",
       "                                                CONTENT  \n",
       "0     유럽축구연맹 유로 2020 심판위원장 로베르토 로세티가 잉글랜드와 덴마크전에 나온 ...  \n",
       "1     유로 2020과 코파 아메리카 2021로 베스트11을 만든다면 어떤 모습일까.지난달...  \n",
       "2     새 시즌이 시작하기도 전에 슈퍼컴퓨터가 예상한 순위가 나왔다.영국 매체 스포츠 바이...  \n",
       "3     홀슈타인 킬 우베 스토버 디렉터가 이재성을 향해 응원 메시지를 띄웠다.이재성은 20...  \n",
       "4     FC 바르셀로나가 새 시즌 원정 유니폼을 공개했다. 팬들은 만족스럽다는 반응이다.바...  \n",
       "...                                                 ...  \n",
       "8992  FC바르셀로나 팬들에게 우스망 뎀벨레는 밉상이 되어버렸다. 바르사는 7일 오전 0시...  \n",
       "8993  성남FC가 만17세 2004년생 수비수 김지수와 준프로 계약을 체결했다. 김지수는 ...  \n",
       "8994  레전드 마르크 오베르마스가 아약스에서 쫓겨났다. 이유는 굉장히 굴욕적이었다.아약스는...  \n",
       "8995  FC 바르셀로나 차비 에르난데스 감독이 데뷔전을 치른 아다마 트라오레를 극찬했다.바...  \n",
       "8996  이름값만 화려한 맨유 워스트 11이 공개됐다.영국 매체 익스프레스는 7일 알렉스 퍼...  \n",
       "\n",
       "[8997 rows x 2 columns]"
      ]
     },
     "execution_count": 16,
     "metadata": {},
     "output_type": "execute_result"
    }
   ],
   "source": [
    "df_new"
   ]
  },
  {
   "cell_type": "code",
   "execution_count": 17,
   "metadata": {},
   "outputs": [
    {
     "name": "stderr",
     "output_type": "stream",
     "text": [
      "100%|██████████| 8997/8997 [00:00<00:00, 221377.05it/s]\n"
     ]
    }
   ],
   "source": [
    "df_new['listed_CONTENT'] = df_new['CONTENT'].progress_apply(lambda x: x.split('.'))"
   ]
  },
  {
   "cell_type": "markdown",
   "metadata": {
    "id": "ZOrftvJW63Dt"
   },
   "source": [
    "- 띄어쓰기 및 불용어 처리"
   ]
  },
  {
   "cell_type": "code",
   "execution_count": 18,
   "metadata": {
    "colab": {
     "base_uri": "https://localhost:8080/"
    },
    "id": "-sNfaAWH6fTI",
    "outputId": "0b658cf8-d8f3-4d92-de48-23964a8634a5"
   },
   "outputs": [
    {
     "name": "stdout",
     "output_type": "stream",
     "text": [
      "# Korean stop words: 677\n"
     ]
    }
   ],
   "source": [
    "# 한국어 불용어 리스트 크롤링\n",
    "\n",
    "url = \"https://www.ranks.nl/stopwords/korean\"\n",
    "response = requests.get(url, verify = False)\n",
    "\n",
    "if response.status_code == 200:\n",
    "    soup = BeautifulSoup(response.text,'html.parser')\n",
    "    content = soup.select_one('#article178ebefbfb1b165454ec9f168f545239 > div.panel-body > table > tbody > tr')\n",
    "    stop_words=[]\n",
    "    for x in content.strings:\n",
    "        x=x.strip()\n",
    "        if x:\n",
    "            stop_words.append(x)\n",
    "    print(f\"# Korean stop words: {len(stop_words)}\")\n",
    "else:\n",
    "    print(response.status_code)"
   ]
  },
  {
   "cell_type": "code",
   "execution_count": 19,
   "metadata": {},
   "outputs": [],
   "source": [
    "okt = Okt()\n",
    "\n",
    "def title_tokenizing(x):\n",
    "    temp_data = okt.morphs(x)\n",
    "    temp_list = []\n",
    "    for word in temp_data:\n",
    "        if word in stop_words: \n",
    "            continue\n",
    "        temp_list.append(word)\n",
    "  \n",
    "    return \" \".join(temp_list)\n",
    "    \n",
    "    \n",
    "def content_tokenizing(x):\n",
    "    new_list = list(filter(None, x))\n",
    "    \n",
    "    final_list = []\n",
    "    for i in new_list:\n",
    "        temp_data = okt.morphs(i)\n",
    "        temp_list = []\n",
    "        for word in temp_data:\n",
    "            if word in stop_words:\n",
    "                continue\n",
    "            temp_list.append(word)\n",
    "        final_list.append(\" \".join(temp_list))\n",
    "\n",
    "    return final_list"
   ]
  },
  {
   "cell_type": "code",
   "execution_count": 20,
   "metadata": {},
   "outputs": [
    {
     "name": "stderr",
     "output_type": "stream",
     "text": [
      "100%|██████████| 8997/8997 [00:14<00:00, 629.72it/s]\n",
      "100%|██████████| 8997/8997 [05:31<00:00, 27.18it/s]\n"
     ]
    }
   ],
   "source": [
    "df_new['tokenized_TITLE'] = df_new['TITLE'].progress_apply(lambda x: title_tokenizing(x))\n",
    "df_new['tokenized_CONTENT'] = df_new['listed_CONTENT'].progress_apply(lambda x: content_tokenizing(x))"
   ]
  },
  {
   "cell_type": "code",
   "execution_count": 21,
   "metadata": {},
   "outputs": [
    {
     "data": {
      "text/html": [
       "<div>\n",
       "<style scoped>\n",
       "    .dataframe tbody tr th:only-of-type {\n",
       "        vertical-align: middle;\n",
       "    }\n",
       "\n",
       "    .dataframe tbody tr th {\n",
       "        vertical-align: top;\n",
       "    }\n",
       "\n",
       "    .dataframe thead th {\n",
       "        text-align: right;\n",
       "    }\n",
       "</style>\n",
       "<table border=\"1\" class=\"dataframe\">\n",
       "  <thead>\n",
       "    <tr style=\"text-align: right;\">\n",
       "      <th></th>\n",
       "      <th>TITLE</th>\n",
       "      <th>CONTENT</th>\n",
       "    </tr>\n",
       "  </thead>\n",
       "  <tbody>\n",
       "    <tr>\n",
       "      <th>0</th>\n",
       "      <td>스털링 다이빙 논란 종결 오른쪽 다리 접촉 있었잖아</td>\n",
       "      <td>[유럽 축구 연맹 유로 2020 심판 위원장 로베르토 로세티 잉글랜드 덴마크 전 나...</td>\n",
       "    </tr>\n",
       "    <tr>\n",
       "      <th>1</th>\n",
       "      <td>디 마리아 없다 유로 X 코파 베스트 11 이탈리아 만 7 명</td>\n",
       "      <td>[유로 2020 코파 아메리카 2021 베스트 11 만든다면 모습 일까, 지난달 시...</td>\n",
       "    </tr>\n",
       "    <tr>\n",
       "      <th>2</th>\n",
       "      <td>슈퍼컴퓨터 예측 맨시티 우승 맨유 4 위 토트넘 은 6 위</td>\n",
       "      <td>[새 시즌 시작 하기도 전 슈퍼컴퓨터 예상 한 순위 나왔다, 영국 매체 스포츠 바이...</td>\n",
       "    </tr>\n",
       "    <tr>\n",
       "      <th>3</th>\n",
       "      <td>이재성 완벽한 프로 마인츠 서 성공할 킬 디렉터 애정 듬뿍 응원</td>\n",
       "      <td>[홀슈타인 킬 우베 스토 버 디렉터 이재성 향 해 응원 메시지 띄웠다, 이재성 은 ...</td>\n",
       "    </tr>\n",
       "    <tr>\n",
       "      <th>4</th>\n",
       "      <td>홈킷 딴판 바르사 팬 NEW 웨이 셔츠 호평 가장 좋아하는 색</td>\n",
       "      <td>[FC 바르셀로나 새 시즌 원정 유니폼 공개 했다, 팬 은 만족스럽다는 반응 이다,...</td>\n",
       "    </tr>\n",
       "    <tr>\n",
       "      <th>...</th>\n",
       "      <td>...</td>\n",
       "      <td>...</td>\n",
       "    </tr>\n",
       "    <tr>\n",
       "      <th>8992</th>\n",
       "      <td>이제 홈팬 야유 받는 먹튀 선수 차비 감독 그만 해 라</td>\n",
       "      <td>[FC 바르셀로나 팬 우스 망 뎀벨레 는 밉 상이 되어 버렸다, 바르사 는 7일 오...</td>\n",
       "    </tr>\n",
       "    <tr>\n",
       "      <th>8993</th>\n",
       "      <td>성남 만 17 세 유스 김지수 준 프로 계약</td>\n",
       "      <td>[성남 FC 만 17 세 2004년 생 수비수 김지수 준 프로 계약 체결 했다, 김...</td>\n",
       "    </tr>\n",
       "    <tr>\n",
       "      <th>8994</th>\n",
       "      <td>오베르마스 아약스 서 쫓겨난다 ... 여성 동료 부적절한 메시지</td>\n",
       "      <td>[레전드 마르크 오베르마스 아약스 쫓겨났다, 이유 는 굉장히 굴욕 적, 아약스 는 ...</td>\n",
       "    </tr>\n",
       "    <tr>\n",
       "      <th>8995</th>\n",
       "      <td>바르사 차비 감독 트라오레 데뷔전 활약 깜짝 ... 몸 야수 같아</td>\n",
       "      <td>[FC 바르셀로나 차비 에르난데스 감독 데뷔전 치른 다마 트라오레 극찬 했다, 바르...</td>\n",
       "    </tr>\n",
       "    <tr>\n",
       "      <th>8996</th>\n",
       "      <td>데 파이 팔카오 산체스 디 마리아 퍼거슨 경 은퇴 후 맨유 워스트 11</td>\n",
       "      <td>[이름 값 만 화려한 맨유 워스트 11 공개 됐다, 영국 매체 익스 프레 스 는 7...</td>\n",
       "    </tr>\n",
       "  </tbody>\n",
       "</table>\n",
       "<p>8997 rows × 2 columns</p>\n",
       "</div>"
      ],
      "text/plain": [
       "                                        TITLE  \\\n",
       "0                스털링 다이빙 논란 종결 오른쪽 다리 접촉 있었잖아   \n",
       "1          디 마리아 없다 유로 X 코파 베스트 11 이탈리아 만 7 명   \n",
       "2            슈퍼컴퓨터 예측 맨시티 우승 맨유 4 위 토트넘 은 6 위   \n",
       "3         이재성 완벽한 프로 마인츠 서 성공할 킬 디렉터 애정 듬뿍 응원   \n",
       "4          홈킷 딴판 바르사 팬 NEW 웨이 셔츠 호평 가장 좋아하는 색   \n",
       "...                                       ...   \n",
       "8992           이제 홈팬 야유 받는 먹튀 선수 차비 감독 그만 해 라   \n",
       "8993                 성남 만 17 세 유스 김지수 준 프로 계약   \n",
       "8994      오베르마스 아약스 서 쫓겨난다 ... 여성 동료 부적절한 메시지   \n",
       "8995     바르사 차비 감독 트라오레 데뷔전 활약 깜짝 ... 몸 야수 같아   \n",
       "8996  데 파이 팔카오 산체스 디 마리아 퍼거슨 경 은퇴 후 맨유 워스트 11   \n",
       "\n",
       "                                                CONTENT  \n",
       "0     [유럽 축구 연맹 유로 2020 심판 위원장 로베르토 로세티 잉글랜드 덴마크 전 나...  \n",
       "1     [유로 2020 코파 아메리카 2021 베스트 11 만든다면 모습 일까, 지난달 시...  \n",
       "2     [새 시즌 시작 하기도 전 슈퍼컴퓨터 예상 한 순위 나왔다, 영국 매체 스포츠 바이...  \n",
       "3     [홀슈타인 킬 우베 스토 버 디렉터 이재성 향 해 응원 메시지 띄웠다, 이재성 은 ...  \n",
       "4     [FC 바르셀로나 새 시즌 원정 유니폼 공개 했다, 팬 은 만족스럽다는 반응 이다,...  \n",
       "...                                                 ...  \n",
       "8992  [FC 바르셀로나 팬 우스 망 뎀벨레 는 밉 상이 되어 버렸다, 바르사 는 7일 오...  \n",
       "8993  [성남 FC 만 17 세 2004년 생 수비수 김지수 준 프로 계약 체결 했다, 김...  \n",
       "8994  [레전드 마르크 오베르마스 아약스 쫓겨났다, 이유 는 굉장히 굴욕 적, 아약스 는 ...  \n",
       "8995  [FC 바르셀로나 차비 에르난데스 감독 데뷔전 치른 다마 트라오레 극찬 했다, 바르...  \n",
       "8996  [이름 값 만 화려한 맨유 워스트 11 공개 됐다, 영국 매체 익스 프레 스 는 7...  \n",
       "\n",
       "[8997 rows x 2 columns]"
      ]
     },
     "execution_count": 21,
     "metadata": {},
     "output_type": "execute_result"
    }
   ],
   "source": [
    "df_new = df_new[['tokenized_TITLE', 'tokenized_CONTENT']]\n",
    "df_new.rename(columns={'tokenized_CONTENT': 'CONTENT', 'tokenized_TITLE':'TITLE'}, inplace = True)\n",
    "df_new"
   ]
  },
  {
   "cell_type": "code",
   "execution_count": 22,
   "metadata": {},
   "outputs": [
    {
     "data": {
      "text/plain": [
       "['유럽 축구 연맹 유로 2020 심판 위원장 로베르토 로세티 잉글랜드 덴마크 전 나온 판정 논란 정심 이라고 공언 했다',\n",
       " '지난 8일 잉글랜드 덴마크 는 유로 2020 4 강 결승 티켓 두고 격돌 했다',\n",
       " '연장 접전 끝 잉글랜드 21 이겼다',\n",
       " '경기 후 논란 불거졌다',\n",
       " '11 팽팽 하던 연장 전반 12분 라 힘 스털링 드리블 돌파 하던 중 요아킴 멜레 마티아스 옌센 사이 넘어졌다',\n",
       " '심판 은 곧장 페널티 스팟 찍었다',\n",
       " '비디오 판독 실과 의견 나눈 뒤 에도 원심 유지 했다',\n",
       " '페널티킥 얻은 잉글랜드 는 해리 케인 실축 했지만 흐른 볼 밀어 넣어 결승 티켓 따냈다',\n",
       " '장면 두고 갑론 박 펼쳐졌다',\n",
       " '스털링 은 경기 후 인터뷰 명백한 페널티킥 이라고 주장 했지만 전문가 의견 은 달랐다',\n",
       " '조제 모리뉴 AS 로마 감독 아르 센 벵거 전 아스널 감독 은 페널티킥 아니다고 입 모았다',\n",
       " '많은 이야기 흘러나오는 가운데 유로 2020 심판 위원장 로세티 오심 아니라는 입장 내놨다',\n",
       " '로세티 위원장 은 14일 영국 매체 가디언 인터뷰 주심 은 5 번 수비수 주목 했다',\n",
       " '수비수 볼 터치 하지 않았다고 봤다',\n",
       " '멜레 오른쪽 다리 스털링 오른쪽 다리 접촉 한 확인 했다',\n",
       " '접촉 강도 논 할 수 있지만 는 항상 심판 의사결정 과정 중심 되길 바란다고 밝혔다',\n",
       " '로세티 위원장 심판 대표 해 의견 냈지만 오심 이라고 생각 하는 받아들일지는 미지수 다',\n",
       " '스털링 은 평소 에도 다이빙 논란 시 달려왔고 많은 머릿속 다이버 라는 인식 가득하기 때문 이다']"
      ]
     },
     "execution_count": 22,
     "metadata": {},
     "output_type": "execute_result"
    }
   ],
   "source": [
    "df_new.loc[0, 'CONTENT']"
   ]
  },
  {
   "cell_type": "code",
   "execution_count": 23,
   "metadata": {},
   "outputs": [
    {
     "data": {
      "text/plain": [
       "249"
      ]
     },
     "execution_count": 23,
     "metadata": {},
     "output_type": "execute_result"
    }
   ],
   "source": [
    "df_new['len'] = df_new['CONTENT'].apply(lambda x: len(x))\n",
    "max(df_new['len'].to_list())"
   ]
  },
  {
   "cell_type": "markdown",
   "metadata": {
    "id": "OwR_0Y2Uyc0g"
   },
   "source": [
    "# Extractive summarization - Matchsum"
   ]
  },
  {
   "cell_type": "markdown",
   "metadata": {
    "id": "7NQTQNZdTDuO"
   },
   "source": [
    "### Dataset & Dataloader 생성"
   ]
  },
  {
   "cell_type": "code",
   "execution_count": null,
   "metadata": {
    "id": "YBy1iVi6PfKj"
   },
   "outputs": [],
   "source": [
    "def control_input_ids(input_ids_tensor,length,cls_token_num,sep_token_num,pad_token_num):\n",
    "    cur_length = len(input_ids_tensor)\n",
    "    cls_token = torch.tensor([cls_token_num])\n",
    "    sep_token = torch.tensor([sep_token_num])\n",
    "\n",
    "    if cur_length+2 > length:\n",
    "        input_ids_tensor = input_ids_tensor[:length-2]  # 길이가 넘치면 자른다\n",
    "        return torch.cat([cls_token,input_ids_tensor,sep_token])\n",
    "    else:\n",
    "        input_ids_tensor = torch.cat([cls_token,input_ids_tensor,sep_token])\n",
    "        padding_list = torch.tensor([pad_token_num]*(length - cur_length -2)) # 길이가 모자라면 padding token 을 채운다\n",
    "        return torch.cat([input_ids_tensor,padding_list])"
   ]
  },
  {
   "cell_type": "code",
   "execution_count": null,
   "metadata": {
    "id": "bUCSPhOid36D"
   },
   "outputs": [],
   "source": [
    "def custom_collate_fn(samples):\n",
    "  \n",
    "    text_ids = torch.empty(0,512)\n",
    "    labels_ids = torch.empty(0,32)\n",
    "    for sample in samples:\n",
    "        text_ids = torch.cat([text_ids,sample['text_input_ids'].unsqueeze(0)],dim=0) \n",
    "        labels_ids = torch.cat([labels_ids,sample['labels_input_ids'].unsqueeze(0)],dim=0)\n",
    "\n",
    "    sentence_input_ids = [sample['sentence_input_ids'] for sample in samples]\n",
    "    nn.utils.rnn.pad_sequence(sentence_input_ids,batch_first=True,padding_value = 1)\n",
    "\n",
    "    return dict(text_input_ids = text_ids.to(torch.int64), labels_input_ids = labels_ids.to(torch.int64), sentence_input_ids = sentence_input_ids)"
   ]
  },
  {
   "cell_type": "code",
   "execution_count": null,
   "metadata": {
    "id": "V93s8-DRniiR"
   },
   "outputs": [],
   "source": [
    "class CustomDataset(Dataset):\n",
    "    def __init__(\n",
    "          self, data, tokenizer,\n",
    "          text_max_token_len = 512,\n",
    "          summary_max_token_len = 32\n",
    "            ):\n",
    "        self.tokenizer = tokenizer\n",
    "        self.data = data\n",
    "        self.text_max_token_len = text_max_token_len\n",
    "        self.summary_max_token_len = summary_max_token_len\n",
    "    def __len__(self):\n",
    "        return len(self.data)\n",
    "  \n",
    "    def __getitem__(self, index):\n",
    "        cls_token_num = 0\n",
    "        sep_token_num = 2\n",
    "        pad_token_num = 1\n",
    "\n",
    "        data_row = self.data.iloc[index]\n",
    "        text = data_row['CONTENT']\n",
    "\n",
    "        total_text_ids = torch.tensor([])\n",
    "        sentence_input_ids = torch.empty(0,32)\n",
    "\n",
    "        for sentence in text:\n",
    "            text_encoding_sentence = self.tokenizer(\n",
    "                  sentence,return_tensors = \"pt\",add_special_tokens=False)\n",
    "            sentence_indiv_input_ids = text_encoding_sentence['input_ids'].flatten()\n",
    "            total_text_ids = torch.cat([total_text_ids,sentence_indiv_input_ids])\n",
    "\n",
    "            sentence_indiv_input_ids = control_input_ids(sentence_indiv_input_ids,self.summary_max_token_len,cls_token_num,sep_token_num,pad_token_num)\n",
    "            sentence_indiv_input_ids = sentence_indiv_input_ids.unsqueeze(0)\n",
    "            sentence_input_ids = torch.cat([sentence_input_ids,sentence_indiv_input_ids],dim=0)\n",
    "\n",
    "        sentence_input_ids = sentence_input_ids.to(torch.int64)\n",
    "        total_text_ids = control_input_ids(total_text_ids,self.text_max_token_len,cls_token_num,sep_token_num,pad_token_num)    \n",
    "        total_text_ids = total_text_ids\n",
    "\n",
    "        labels = data_row['TITLE']\n",
    "        summary_encoding = self.tokenizer(\n",
    "            labels,\n",
    "            add_special_tokens = False,\n",
    "            return_tensors = \"pt\"\n",
    "        )\n",
    "\n",
    "        labels_ids = summary_encoding['input_ids'].flatten()\n",
    "        labels_ids = control_input_ids(labels_ids,self.summary_max_token_len,cls_token_num,sep_token_num,pad_token_num)\n",
    "\n",
    "        return dict(text_input_ids = total_text_ids, labels_input_ids = labels_ids, sentence_input_ids = sentence_input_ids)\n"
   ]
  },
  {
   "cell_type": "code",
   "execution_count": 36,
   "metadata": {
    "colab": {
     "base_uri": "https://localhost:8080/"
    },
    "id": "yNA-2QR7uXMl",
    "outputId": "0c60a40f-6a1e-4f08-ba2e-1c032e2015c2"
   },
   "outputs": [
    {
     "name": "stdout",
     "output_type": "stream",
     "text": [
      "using cached model. /data/project/Seulki/Wanted/final/.cache/kobart_base_tokenizer_cased_cf74400bce.zip\n"
     ]
    }
   ],
   "source": [
    "tokenizer = get_kobart_tokenizer()"
   ]
  },
  {
   "cell_type": "code",
   "execution_count": 37,
   "metadata": {
    "id": "hK1C6_KKrL7v"
   },
   "outputs": [],
   "source": [
    "whole_dataset = CustomDataset(df_new, tokenizer)\n",
    "\n",
    "train_set_num = len(df_new)//9*7\n",
    "train_dataset , valid_dataset = random_split(whole_dataset, [train_set_num,len(df_new)-train_set_num])\n",
    "train_dataloader = DataLoader(train_dataset, batch_size = 2, shuffle=True,collate_fn = custom_collate_fn)\n",
    "valid_dataloader =  DataLoader(valid_dataset, batch_size = 2, shuffle=False,collate_fn = custom_collate_fn)"
   ]
  },
  {
   "cell_type": "markdown",
   "metadata": {
    "id": "2z5e_W-U93BH"
   },
   "source": [
    "### Matchsum\n",
    "\n",
    "- 평가 metric -> rdass\n",
    "- 기본적으로 모델에 스코어가 높은 5개의 단일 문장을 뽑고 뽑인 문장으로 만들어진 조합 가운데서 스코어가 높은 조합을 golden summary로 선정\n",
    "- loss 는 margin ranking loss 사용\n"
   ]
  },
  {
   "cell_type": "code",
   "execution_count": 38,
   "metadata": {
    "id": "2uoHyFZ8xJ6X"
   },
   "outputs": [],
   "source": [
    "def get_score(doc,label,answer):\n",
    "    score_1 = torch.cosine_similarity(doc,answer,dim=0)\n",
    "    score_2 = torch.cosine_similarity(label,answer,dim=0)\n",
    "    return score_1+score_2"
   ]
  },
  {
   "cell_type": "code",
   "execution_count": 39,
   "metadata": {
    "id": "zw3Cv452e1y1"
   },
   "outputs": [],
   "source": [
    "def get_candidate_id(doc_emb,summary_emb,batch_sentence_id, candidate_num, extract_model,device):\n",
    "    cls_token = torch.tensor([0]).to(device)\n",
    "    sep_token = torch.tensor([2]).to(device)\n",
    "    candidate_ids = torch.empty([0,candidate_num,128]).to(device)\n",
    "    \n",
    "    for batch_idx, sentence_id_tensor in enumerate(batch_sentence_id):\n",
    "        sentence_id_tensor = sentence_id_tensor.to(device)\n",
    "        out = extract_model.forward(sentence_id_tensor)  #sentence_id_tensor = [문장 갯수,32개의 토큰]\n",
    "        hidden_states = out['last_hidden_state'][:,0,:] # [문장 갯수,token 갯수 ,768 dim_vec]\n",
    "        score_list= []\n",
    "      \n",
    "        for i in range(hidden_states.shape[0]):\n",
    "            score = get_score(doc = doc_emb[batch_idx,:], label = summary_emb[batch_idx,:], answer = hidden_states[i,:])\n",
    "            score_list.append((score,i))\n",
    "      \n",
    "        score_list.sort(key = lambda x: x[0],reverse=True)\n",
    "        idx_list = [idx for _,idx in score_list][:5]\n",
    "\n",
    "        # get candidate summaries\n",
    "        # here is for CNN/DM: truncate each document into the 5 most important sentences (using BertExt), \n",
    "        # then select any 2 or 3 sentences to form a candidate summary, so there are C(5,2)+C(5,3)=20 candidate summaries.\n",
    "        # if you want to process other datasets, you may need to adjust these numbers according to specific situation.\n",
    "        indices = list(combinations(idx_list, 2))\n",
    "        indices += list(combinations(idx_list, 3))\n",
    "\n",
    "        len_indices = len(indices) \n",
    "        if len_indices < candidate_num : \n",
    "            indices = indices*(candidate_num//len_indices)\n",
    "            indices.append(idx_list[:-(candidate_num%len_indices)])\n",
    "        \n",
    "        # get score for each candidate summary and sort them in descending order\n",
    "        score = []\n",
    "        for i in indices:\n",
    "            i = list(i)\n",
    "            i.sort()\n",
    "            # write dec\n",
    "            dec = torch.tensor([]).to(device)\n",
    "            for j in i:\n",
    "                sent = sentence_id_tensor[j]\n",
    "                sent = sent[1:]\n",
    "                sep_token_idx = 0\n",
    "                for token_idx in range(len(sent)):\n",
    "                    if sent[token_idx] == 2: break\n",
    "                    else:sep_token_idx += 1\n",
    "                sent = sent[:sep_token_idx]\n",
    "                dec = torch.cat([dec,sent],dim=0)\n",
    "\n",
    "            dec = torch.cat([cls_token,dec,sep_token],dim=0)\n",
    "            dec = dec.to(torch.int64)\n",
    "            dec_out = extract_model.forward(input_ids = dec.unsqueeze(0))\n",
    "            score.append((dec, get_score(doc_emb[batch_idx,:],summary_emb[batch_idx,:], dec_out['last_hidden_state'][0,0,:])))\n",
    "\n",
    "        score.sort(key=lambda x : x[1], reverse=True)\n",
    "        score = score[:candidate_num]\n",
    "\n",
    "        candidate_ids_ind= torch.empty(0,128).to(device)\n",
    "        for k,_ in score:\n",
    "            dec = k\n",
    "            if len(dec) < 128:\n",
    "                padding_list = torch.tensor([1]*(128-len(dec))).to(device)\n",
    "                dec = torch.cat([k,padding_list],dim=0)\n",
    "            else:\n",
    "                dec = dec[:128]\n",
    "\n",
    "            candidate_ids_ind = torch.cat([candidate_ids_ind,dec.unsqueeze(0)],dim = 0)\n",
    "\n",
    "        candidate_ids = torch.cat([candidate_ids,candidate_ids_ind.unsqueeze(0)],dim = 0)\n",
    "\n",
    "    return candidate_ids.to(torch.int64)"
   ]
  },
  {
   "cell_type": "code",
   "execution_count": 41,
   "metadata": {
    "id": "YiYH-dn7VYLv"
   },
   "outputs": [],
   "source": [
    "class MatchSum(nn.Module):  \n",
    "    def __init__ (self, encoder, candidate_num, device,hidden_size=768):\n",
    "        super(MatchSum, self).__init__()\n",
    "        \n",
    "        self.hidden_size = hidden_size\n",
    "        self.candidate_num  = candidate_num\n",
    "        self.encoder = encoder\n",
    "        self.device = device\n",
    "\n",
    "    def forward(self, text_id, summary_id,list_of_sentence_id):\n",
    "        \n",
    "        batch_size = text_id.size(0)\n",
    "        pad_id = 1 \n",
    "\n",
    "        # get document embedding\n",
    "        input_mask = ~(text_id == pad_id)\n",
    "        out = self.encoder(text_id, attention_mask=input_mask)['last_hidden_state'] # last layer\n",
    "        doc_emb = out[:, 0, :]\n",
    "        assert doc_emb.size() == (batch_size, self.hidden_size) # [batch_size, hidden_size]\n",
    "        \n",
    "        # get summary embedding\n",
    "        input_mask = ~(summary_id == pad_id)\n",
    "        out = self.encoder(summary_id, attention_mask=input_mask)['last_hidden_state'] # last layer\n",
    "        summary_emb = out[:, 0, :]\n",
    "        assert summary_emb.size() == (batch_size, self.hidden_size) # [batch_size, hidden_size]\n",
    "\n",
    "        # get summary score\n",
    "        summary_score = torch.cosine_similarity(summary_emb, doc_emb, dim=-1)\n",
    "\n",
    "        # get candidate embedding\n",
    "        candidate_id = get_candidate_id(doc_emb,summary_emb,list_of_sentence_id, self.candidate_num, self.encoder,self.device) #[batch_size , candidate_num, token_num]\n",
    "        candidate_id_copy = candidate_id\n",
    "        candidate_id = candidate_id.view(-1, candidate_id.size(-1)) \n",
    "        input_mask = ~(candidate_id == pad_id)\n",
    "        out = self.encoder(candidate_id, attention_mask=input_mask)['last_hidden_state'] \n",
    "        candidate_emb = out[:, 0, :].view(batch_size, self.candidate_num, self.hidden_size)  # [batch_size, candidate_num, hidden_size]\n",
    "        assert candidate_emb.size() == (batch_size, self.candidate_num, self.hidden_size)\n",
    "        \n",
    "        # get candidate score\n",
    "        doc_emb = doc_emb.unsqueeze(1).expand_as(candidate_emb)\n",
    "        score = torch.cosine_similarity(candidate_emb, doc_emb, dim=-1) # [batch_size, candidate_num]\n",
    "        golden_list = torch.argmax(score,dim=1)\n",
    "        assert score.size() == (batch_size, self.candidate_num)\n",
    "\n",
    "        candidate_id = candidate_id.view(-1, candidate_id.size(-1)) \n",
    "\n",
    "        return {'score': score, 'summary_score': summary_score,  'golden_summary':candidate_id_copy[:,0,:]}"
   ]
  },
  {
   "cell_type": "code",
   "execution_count": 42,
   "metadata": {
    "id": "F8Jbgz4x5jeF"
   },
   "outputs": [],
   "source": [
    "class MarginRankingLoss():      \n",
    "    \n",
    "    def __init__(self, margin, score=None, summary_score=None):\n",
    "        super(MarginRankingLoss, self).__init__()\n",
    "        # self._init_param_map(score=score, summary_score=summary_score)\n",
    "        self.margin = margin\n",
    "        self.loss_func = torch.nn.MarginRankingLoss(margin)\n",
    "\n",
    "    def get_loss(self, score, summary_score):\n",
    "        \n",
    "        # equivalent to initializing TotalLoss to 0\n",
    "        # here is to avoid that some special samples will not go into the following for loop\n",
    "        ones = torch.ones(score.size()).cuda(score.device)\n",
    "        loss_func = torch.nn.MarginRankingLoss(0.0)\n",
    "        TotalLoss = loss_func(score, score, ones)\n",
    "\n",
    "        # candidate loss\n",
    "        n = score.size(1)\n",
    "        for i in range(1, n):\n",
    "            pos_score = score[:, :-i]\n",
    "            neg_score = score[:, i:]\n",
    "            pos_score = pos_score.contiguous().view(-1)\n",
    "            neg_score = neg_score.contiguous().view(-1)\n",
    "            ones = torch.ones(pos_score.size()).cuda(score.device)\n",
    "            loss_func = torch.nn.MarginRankingLoss(self.margin * i)\n",
    "            TotalLoss += loss_func(pos_score, neg_score, ones)\n",
    "\n",
    "        # gold summary loss\n",
    "        pos_score = summary_score.unsqueeze(-1).expand_as(score)\n",
    "        neg_score = score\n",
    "        pos_score = pos_score.contiguous().view(-1)\n",
    "        neg_score = neg_score.contiguous().view(-1)\n",
    "        ones = torch.ones(pos_score.size()).cuda(score.device)\n",
    "        loss_func = torch.nn.MarginRankingLoss(0.0)\n",
    "        TotalLoss += loss_func(pos_score, neg_score, ones)\n",
    "        \n",
    "        return TotalLoss"
   ]
  },
  {
   "cell_type": "markdown",
   "metadata": {},
   "source": [
    "### Train code\n",
    "- Encoder -> KoBART\n",
    "- GLM 을 제외한 제일 성능 좋은 모델이고 한국어로 train이 되어 있어 선정함"
   ]
  },
  {
   "cell_type": "code",
   "execution_count": 43,
   "metadata": {},
   "outputs": [
    {
     "name": "stdout",
     "output_type": "stream",
     "text": [
      "using cached model. /data/project/Seulki/Wanted/final/.cache/kobart_base_cased_ff4bda5738.zip\n"
     ]
    }
   ],
   "source": [
    "model = BartModel.from_pretrained(get_pytorch_kobart_model())\n",
    "summary_model = MatchSum(encoder = model, candidate_num = 5,device = device, hidden_size=768) \n",
    "\n",
    "N_EPOCHS = 3\n",
    "optimizer = SGD(model.parameters(),lr =0.0001)\n",
    "scheduler = CosineAnnealingLR(optimizer,T_max = len(train_dataloader)*2)\n",
    "criterion = MarginRankingLoss(margin = 0.01)"
   ]
  },
  {
   "cell_type": "code",
   "execution_count": 44,
   "metadata": {},
   "outputs": [
    {
     "name": "stdout",
     "output_type": "stream",
     "text": [
      "*****Epoch 0 Train Start*****\n",
      "*****Epoch 0 Total Step 3497*****\n"
     ]
    },
    {
     "ename": "ZeroDivisionError",
     "evalue": "integer division or modulo by zero",
     "output_type": "error",
     "traceback": [
      "\u001b[0;31m---------------------------------------------------------------------------\u001b[0m",
      "\u001b[0;31mZeroDivisionError\u001b[0m                         Traceback (most recent call last)",
      "\u001b[0;32m<ipython-input-44-a237f3aa51cf>\u001b[0m in \u001b[0;36m<module>\u001b[0;34m\u001b[0m\n\u001b[1;32m     19\u001b[0m \u001b[0;34m\u001b[0m\u001b[0m\n\u001b[1;32m     20\u001b[0m         \u001b[0;31m# forward\u001b[0m\u001b[0;34m\u001b[0m\u001b[0;34m\u001b[0m\u001b[0;34m\u001b[0m\u001b[0m\n\u001b[0;32m---> 21\u001b[0;31m         \u001b[0moutput\u001b[0m \u001b[0;34m=\u001b[0m \u001b[0msummary_model\u001b[0m\u001b[0;34m.\u001b[0m\u001b[0mforward\u001b[0m\u001b[0;34m(\u001b[0m\u001b[0mtext_input_ids\u001b[0m\u001b[0;34m,\u001b[0m \u001b[0mlabel_input_ids\u001b[0m\u001b[0;34m,\u001b[0m\u001b[0mbatch\u001b[0m\u001b[0;34m[\u001b[0m\u001b[0;34m\"sentence_input_ids\"\u001b[0m\u001b[0;34m]\u001b[0m\u001b[0;34m)\u001b[0m\u001b[0;34m\u001b[0m\u001b[0;34m\u001b[0m\u001b[0m\n\u001b[0m\u001b[1;32m     22\u001b[0m         \u001b[0mloss\u001b[0m \u001b[0;34m=\u001b[0m \u001b[0mcriterion\u001b[0m\u001b[0;34m.\u001b[0m\u001b[0mget_loss\u001b[0m\u001b[0;34m(\u001b[0m\u001b[0mscore\u001b[0m \u001b[0;34m=\u001b[0m \u001b[0moutput\u001b[0m\u001b[0;34m[\u001b[0m\u001b[0;34m\"score\"\u001b[0m\u001b[0;34m]\u001b[0m\u001b[0;34m,\u001b[0m\u001b[0msummary_score\u001b[0m \u001b[0;34m=\u001b[0m \u001b[0moutput\u001b[0m\u001b[0;34m[\u001b[0m\u001b[0;34m\"summary_score\"\u001b[0m\u001b[0;34m]\u001b[0m\u001b[0;34m)\u001b[0m\u001b[0;34m\u001b[0m\u001b[0;34m\u001b[0m\u001b[0m\n\u001b[1;32m     23\u001b[0m \u001b[0;34m\u001b[0m\u001b[0m\n",
      "\u001b[0;32m<ipython-input-41-b270106af53f>\u001b[0m in \u001b[0;36mforward\u001b[0;34m(self, text_id, summary_id, list_of_sentence_id)\u001b[0m\n\u001b[1;32m     29\u001b[0m \u001b[0;34m\u001b[0m\u001b[0m\n\u001b[1;32m     30\u001b[0m         \u001b[0;31m# get candidate embedding\u001b[0m\u001b[0;34m\u001b[0m\u001b[0;34m\u001b[0m\u001b[0;34m\u001b[0m\u001b[0m\n\u001b[0;32m---> 31\u001b[0;31m         \u001b[0mcandidate_id\u001b[0m \u001b[0;34m=\u001b[0m \u001b[0mget_candidate_id\u001b[0m\u001b[0;34m(\u001b[0m\u001b[0mdoc_emb\u001b[0m\u001b[0;34m,\u001b[0m\u001b[0msummary_emb\u001b[0m\u001b[0;34m,\u001b[0m\u001b[0mlist_of_sentence_id\u001b[0m\u001b[0;34m,\u001b[0m \u001b[0mself\u001b[0m\u001b[0;34m.\u001b[0m\u001b[0mcandidate_num\u001b[0m\u001b[0;34m,\u001b[0m \u001b[0mself\u001b[0m\u001b[0;34m.\u001b[0m\u001b[0mencoder\u001b[0m\u001b[0;34m,\u001b[0m\u001b[0mself\u001b[0m\u001b[0;34m.\u001b[0m\u001b[0mdevice\u001b[0m\u001b[0;34m)\u001b[0m \u001b[0;31m#[batch_size , candidate_num, token_num]\u001b[0m\u001b[0;34m\u001b[0m\u001b[0;34m\u001b[0m\u001b[0m\n\u001b[0m\u001b[1;32m     32\u001b[0m         \u001b[0mcandidate_id_copy\u001b[0m \u001b[0;34m=\u001b[0m \u001b[0mcandidate_id\u001b[0m\u001b[0;34m\u001b[0m\u001b[0;34m\u001b[0m\u001b[0m\n\u001b[1;32m     33\u001b[0m         \u001b[0mcandidate_id\u001b[0m \u001b[0;34m=\u001b[0m \u001b[0mcandidate_id\u001b[0m\u001b[0;34m.\u001b[0m\u001b[0mview\u001b[0m\u001b[0;34m(\u001b[0m\u001b[0;34m-\u001b[0m\u001b[0;36m1\u001b[0m\u001b[0;34m,\u001b[0m \u001b[0mcandidate_id\u001b[0m\u001b[0;34m.\u001b[0m\u001b[0msize\u001b[0m\u001b[0;34m(\u001b[0m\u001b[0;34m-\u001b[0m\u001b[0;36m1\u001b[0m\u001b[0;34m)\u001b[0m\u001b[0;34m)\u001b[0m\u001b[0;34m\u001b[0m\u001b[0;34m\u001b[0m\u001b[0m\n",
      "\u001b[0;32m<ipython-input-39-4dcf057b4ed9>\u001b[0m in \u001b[0;36mget_candidate_id\u001b[0;34m(doc_emb, summary_emb, batch_sentence_id, candidate_num, extract_model, device)\u001b[0m\n\u001b[1;32m     26\u001b[0m         \u001b[0mlen_indices\u001b[0m \u001b[0;34m=\u001b[0m \u001b[0mlen\u001b[0m\u001b[0;34m(\u001b[0m\u001b[0mindices\u001b[0m\u001b[0;34m)\u001b[0m\u001b[0;34m\u001b[0m\u001b[0;34m\u001b[0m\u001b[0m\n\u001b[1;32m     27\u001b[0m         \u001b[0;32mif\u001b[0m \u001b[0mlen_indices\u001b[0m \u001b[0;34m<\u001b[0m \u001b[0mcandidate_num\u001b[0m \u001b[0;34m:\u001b[0m\u001b[0;34m\u001b[0m\u001b[0;34m\u001b[0m\u001b[0m\n\u001b[0;32m---> 28\u001b[0;31m             \u001b[0mindices\u001b[0m \u001b[0;34m=\u001b[0m \u001b[0mindices\u001b[0m\u001b[0;34m*\u001b[0m\u001b[0;34m(\u001b[0m\u001b[0mcandidate_num\u001b[0m\u001b[0;34m//\u001b[0m\u001b[0mlen_indices\u001b[0m\u001b[0;34m)\u001b[0m\u001b[0;34m\u001b[0m\u001b[0;34m\u001b[0m\u001b[0m\n\u001b[0m\u001b[1;32m     29\u001b[0m             \u001b[0mindices\u001b[0m\u001b[0;34m.\u001b[0m\u001b[0mappend\u001b[0m\u001b[0;34m(\u001b[0m\u001b[0midx_list\u001b[0m\u001b[0;34m[\u001b[0m\u001b[0;34m:\u001b[0m\u001b[0;34m-\u001b[0m\u001b[0;34m(\u001b[0m\u001b[0mcandidate_num\u001b[0m\u001b[0;34m%\u001b[0m\u001b[0mlen_indices\u001b[0m\u001b[0;34m)\u001b[0m\u001b[0;34m]\u001b[0m\u001b[0;34m)\u001b[0m\u001b[0;34m\u001b[0m\u001b[0;34m\u001b[0m\u001b[0m\n\u001b[1;32m     30\u001b[0m \u001b[0;34m\u001b[0m\u001b[0m\n",
      "\u001b[0;31mZeroDivisionError\u001b[0m: integer division or modulo by zero"
     ]
    }
   ],
   "source": [
    "model.to(device)\n",
    "summary_model.to(device)\n",
    "# wandb.init(project='summarization', entity='tkdlqh2')\n",
    "\n",
    "for epoch in range(N_EPOCHS):\n",
    "    \n",
    "    print(f\"*****Epoch {epoch} Train Start*****\")\n",
    "    print(f\"*****Epoch {epoch} Total Step {len(train_dataloader)}*****\")\n",
    "    total_loss, batch_loss, batch_step = 0,0,0\n",
    "    model.train()\n",
    "\n",
    "    for step, batch in enumerate(train_dataloader):\n",
    "        batch_step+=1\n",
    "        text_input_ids = batch[\"text_input_ids\"].to(device)        \n",
    "        label_input_ids = batch[\"labels_input_ids\"].to(device)\n",
    "\n",
    "        model.zero_grad()\n",
    "        optimizer.zero_grad()\n",
    "\n",
    "        # forward\n",
    "        output = summary_model.forward(text_input_ids, label_input_ids,batch[\"sentence_input_ids\"])\n",
    "        loss = criterion.get_loss(score = output[\"score\"],summary_score = output[\"summary_score\"])\n",
    "\n",
    "        # loss 계산\n",
    "        loss.backward()\n",
    "        # optimizer 업데이트\n",
    "        optimizer.step()\n",
    "        # scheduler 업데이트\n",
    "        scheduler.step()\n",
    "\n",
    "        batch_loss += loss.item()\n",
    "        total_loss += loss.item()\n",
    "\n",
    "        learning_rate = optimizer.param_groups[0]['lr']\n",
    "#         wandb.log({'train/lr':learning_rate,\"train/loss\":loss.item()})\n",
    "\n",
    "        if (step%50 == 0) and (step!=0):\n",
    "            print(f\"Step: {step} Loss: {batch_loss/batch_step:.4f} lr: {optimizer.param_groups[0]['lr']:.4f}\")\n",
    "            # 변수 초기화    \n",
    "            batch_loss, batch_step = 0,0\n",
    "\n",
    "    print(f\"Epoch {epoch} Total Mean Loss : {total_loss/(step+1):.4f}\")\n",
    "    \n",
    "    with torch.no_grad():\n",
    "        print('**Calculating validation results...**')\n",
    "        total_val_loss,batch_step = 0,0\n",
    "        model.eval()\n",
    "        for step, batch in enumerate(valid_dataloader):\n",
    "            batch_step+=1\n",
    "            text_input_ids = batch[\"text_input_ids\"].to(device)        \n",
    "            label_input_ids = batch[\"labels_input_ids\"].to(device)\n",
    "\n",
    "            # forward\n",
    "            output = summary_model.forward(text_input_ids, label_input_ids,batch[\"sentence_input_ids\"])\n",
    "            val_loss = criterion.get_loss(score = output[\"score\"],summary_score = output[\"summary_score\"])\n",
    "\n",
    "            total_val_loss += val_loss.item()\n",
    "#           wandb.log({\"val/loss\":val_loss.item()})\n",
    "\n",
    "    print(f\"Epoch {epoch} Total Mean Score : {total_val_loss/(step+1):.4f}\")\n",
    "    \n",
    "    print(f\"*****Epoch {epoch} Train Finished*****\\n\")\n",
    "    torch.save(model.state_dict(),f\"/content/drive/MyDrive/NLP/kobart_model_{epoch}epoch.pth\")"
   ]
  },
  {
   "cell_type": "markdown",
   "metadata": {},
   "source": [
    "### Model-Load & Inference"
   ]
  },
  {
   "cell_type": "code",
   "execution_count": null,
   "metadata": {},
   "outputs": [],
   "source": [
    "model = BartModel.from_pretrained(get_pytorch_kobart_model())\n",
    "model.load_state_dict(state_dict = torch.load(\"/content/drive/MyDrive/NLP/kobart_model_0epoch.pth\"))\n",
    "model.eval()"
   ]
  },
  {
   "cell_type": "code",
   "execution_count": null,
   "metadata": {},
   "outputs": [],
   "source": [
    "summary_model = MatchSum(encoder = model, candidate_num = 1,device = device, hidden_size=768)"
   ]
  },
  {
   "cell_type": "code",
   "execution_count": null,
   "metadata": {},
   "outputs": [],
   "source": [
    "df_new[\"text\"] = \n",
    "df_new[\"text_ids\"] = \n",
    "df_new[\"label_ids\"] = \n",
    "df_new['list_of_sentence_ids'] = \n",
    "df_new['model_answer'] ="
   ]
  },
  {
   "cell_type": "code",
   "execution_count": 46,
   "metadata": {},
   "outputs": [
    {
     "data": {
      "text/html": [
       "<div>\n",
       "<style scoped>\n",
       "    .dataframe tbody tr th:only-of-type {\n",
       "        vertical-align: middle;\n",
       "    }\n",
       "\n",
       "    .dataframe tbody tr th {\n",
       "        vertical-align: top;\n",
       "    }\n",
       "\n",
       "    .dataframe thead th {\n",
       "        text-align: right;\n",
       "    }\n",
       "</style>\n",
       "<table border=\"1\" class=\"dataframe\">\n",
       "  <thead>\n",
       "    <tr style=\"text-align: right;\">\n",
       "      <th></th>\n",
       "      <th>TITLE</th>\n",
       "      <th>CONTENT</th>\n",
       "      <th>len</th>\n",
       "    </tr>\n",
       "  </thead>\n",
       "  <tbody>\n",
       "    <tr>\n",
       "      <th>0</th>\n",
       "      <td>스털링 다이빙 논란 종결 오른쪽 다리 접촉 있었잖아</td>\n",
       "      <td>[유럽 축구 연맹 유로 2020 심판 위원장 로베르토 로세티 잉글랜드 덴마크 전 나...</td>\n",
       "      <td>18</td>\n",
       "    </tr>\n",
       "    <tr>\n",
       "      <th>1</th>\n",
       "      <td>디 마리아 없다 유로 X 코파 베스트 11 이탈리아 만 7 명</td>\n",
       "      <td>[유로 2020 코파 아메리카 2021 베스트 11 만든다면 모습 일까, 지난달 시...</td>\n",
       "      <td>17</td>\n",
       "    </tr>\n",
       "    <tr>\n",
       "      <th>2</th>\n",
       "      <td>슈퍼컴퓨터 예측 맨시티 우승 맨유 4 위 토트넘 은 6 위</td>\n",
       "      <td>[새 시즌 시작 하기도 전 슈퍼컴퓨터 예상 한 순위 나왔다, 영국 매체 스포츠 바이...</td>\n",
       "      <td>16</td>\n",
       "    </tr>\n",
       "    <tr>\n",
       "      <th>3</th>\n",
       "      <td>이재성 완벽한 프로 마인츠 서 성공할 킬 디렉터 애정 듬뿍 응원</td>\n",
       "      <td>[홀슈타인 킬 우베 스토 버 디렉터 이재성 향 해 응원 메시지 띄웠다, 이재성 은 ...</td>\n",
       "      <td>26</td>\n",
       "    </tr>\n",
       "    <tr>\n",
       "      <th>4</th>\n",
       "      <td>홈킷 딴판 바르사 팬 NEW 웨이 셔츠 호평 가장 좋아하는 색</td>\n",
       "      <td>[FC 바르셀로나 새 시즌 원정 유니폼 공개 했다, 팬 은 만족스럽다는 반응 이다,...</td>\n",
       "      <td>16</td>\n",
       "    </tr>\n",
       "  </tbody>\n",
       "</table>\n",
       "</div>"
      ],
      "text/plain": [
       "                                 TITLE  \\\n",
       "0         스털링 다이빙 논란 종결 오른쪽 다리 접촉 있었잖아   \n",
       "1   디 마리아 없다 유로 X 코파 베스트 11 이탈리아 만 7 명   \n",
       "2     슈퍼컴퓨터 예측 맨시티 우승 맨유 4 위 토트넘 은 6 위   \n",
       "3  이재성 완벽한 프로 마인츠 서 성공할 킬 디렉터 애정 듬뿍 응원   \n",
       "4   홈킷 딴판 바르사 팬 NEW 웨이 셔츠 호평 가장 좋아하는 색   \n",
       "\n",
       "                                             CONTENT  len  \n",
       "0  [유럽 축구 연맹 유로 2020 심판 위원장 로베르토 로세티 잉글랜드 덴마크 전 나...   18  \n",
       "1  [유로 2020 코파 아메리카 2021 베스트 11 만든다면 모습 일까, 지난달 시...   17  \n",
       "2  [새 시즌 시작 하기도 전 슈퍼컴퓨터 예상 한 순위 나왔다, 영국 매체 스포츠 바이...   16  \n",
       "3  [홀슈타인 킬 우베 스토 버 디렉터 이재성 향 해 응원 메시지 띄웠다, 이재성 은 ...   26  \n",
       "4  [FC 바르셀로나 새 시즌 원정 유니폼 공개 했다, 팬 은 만족스럽다는 반응 이다,...   16  "
      ]
     },
     "execution_count": 46,
     "metadata": {},
     "output_type": "execute_result"
    }
   ],
   "source": [
    "df_new.head()"
   ]
  },
  {
   "cell_type": "code",
   "execution_count": null,
   "metadata": {},
   "outputs": [],
   "source": [
    "class rdass:\n",
    "    def __init__(self,encoder,tokenizer,device):\n",
    "        self.encoder = encoder\n",
    "        self.tokenizer = tokenizer\n",
    "        for param in self.encoder.parameters():\n",
    "            param.requires_grad = False\n",
    "  \n",
    "    def __call__(self, text = None, label = None, answer = None):\n",
    "\n",
    "        text_ids = self.tokenizer(text)\n",
    "        label_ids = self.tokenzier(label)\n",
    "        answer_ids = self.tokenizer(answer)\n",
    "\n",
    "        vector_text = self.encoder(text_ids).detach()['hidden_states'][-1][0,:] # vector_d\n",
    "        vector_label = self.encoder(label_ids).detach()['hidden_states'][-1][0,:] # vector_r\n",
    "        vector_answer = self.encoder(answer_ids).detach()['hidden_states'][-1][0,:] # vector_p\n",
    "\n",
    "        return get_score(vector_text,vector_label,vector_answer)\n"
   ]
  },
  {
   "cell_type": "code",
   "execution_count": null,
   "metadata": {},
   "outputs": [],
   "source": [
    "# tokenzier_for_eval = \n",
    "# model_for_eval = AutoModel.from_pretrained(\"klue/roberta-small\")\n",
    "# metric = rdass(model_for_eval,tokenizer_for_eval,device)"
   ]
  },
  {
   "cell_type": "code",
   "execution_count": null,
   "metadata": {},
   "outputs": [],
   "source": [
    "trimmed_data['rdass'] ="
   ]
  }
 ],
 "metadata": {
  "accelerator": "GPU",
  "colab": {
   "collapsed_sections": [
    "7NQTQNZdTDuO"
   ],
   "machine_shape": "hm",
   "name": "기업과제 4",
   "provenance": []
  },
  "kernelspec": {
   "display_name": "for_joon",
   "language": "python",
   "name": "for_joon"
  },
  "language_info": {
   "codemirror_mode": {
    "name": "ipython",
    "version": 3
   },
   "file_extension": ".py",
   "mimetype": "text/x-python",
   "name": "python",
   "nbconvert_exporter": "python",
   "pygments_lexer": "ipython3",
   "version": "3.8.5"
  },
  "widgets": {
   "application/vnd.jupyter.widget-state+json": {
    "0497dcbed8824974a07754360f9bcf12": {
     "model_module": "@jupyter-widgets/controls",
     "model_module_version": "1.5.0",
     "model_name": "VBoxModel",
     "state": {
      "_dom_classes": [],
      "_model_module": "@jupyter-widgets/controls",
      "_model_module_version": "1.5.0",
      "_model_name": "VBoxModel",
      "_view_count": null,
      "_view_module": "@jupyter-widgets/controls",
      "_view_module_version": "1.5.0",
      "_view_name": "VBoxView",
      "box_style": "",
      "children": [
       "IPY_MODEL_3277ec13f60142fc811059c516e2871d",
       "IPY_MODEL_0e565ccf39ba413a93ee58f167ad92e7"
      ],
      "layout": "IPY_MODEL_66d6b077a29f4ac396fecc88b918915b"
     }
    },
    "0e565ccf39ba413a93ee58f167ad92e7": {
     "model_module": "@jupyter-widgets/controls",
     "model_module_version": "1.5.0",
     "model_name": "FloatProgressModel",
     "state": {
      "_dom_classes": [],
      "_model_module": "@jupyter-widgets/controls",
      "_model_module_version": "1.5.0",
      "_model_name": "FloatProgressModel",
      "_view_count": null,
      "_view_module": "@jupyter-widgets/controls",
      "_view_module_version": "1.5.0",
      "_view_name": "ProgressView",
      "bar_style": "",
      "description": "",
      "description_tooltip": null,
      "layout": "IPY_MODEL_667edcb38c3b4c19b36b3515fc29a452",
      "max": 1,
      "min": 0,
      "orientation": "horizontal",
      "style": "IPY_MODEL_82e1b2bfe0444b1aacd88d44e8d861b9",
      "value": 1
     }
    },
    "2e07f74c73ad42af88dd99c7dbae7ab9": {
     "model_module": "@jupyter-widgets/controls",
     "model_module_version": "1.5.0",
     "model_name": "DescriptionStyleModel",
     "state": {
      "_model_module": "@jupyter-widgets/controls",
      "_model_module_version": "1.5.0",
      "_model_name": "DescriptionStyleModel",
      "_view_count": null,
      "_view_module": "@jupyter-widgets/base",
      "_view_module_version": "1.2.0",
      "_view_name": "StyleView",
      "description_width": ""
     }
    },
    "3277ec13f60142fc811059c516e2871d": {
     "model_module": "@jupyter-widgets/controls",
     "model_module_version": "1.5.0",
     "model_name": "LabelModel",
     "state": {
      "_dom_classes": [],
      "_model_module": "@jupyter-widgets/controls",
      "_model_module_version": "1.5.0",
      "_model_name": "LabelModel",
      "_view_count": null,
      "_view_module": "@jupyter-widgets/controls",
      "_view_module_version": "1.5.0",
      "_view_name": "LabelView",
      "description": "",
      "description_tooltip": null,
      "layout": "IPY_MODEL_cb376f37a5604b308a80187a9e73873f",
      "placeholder": "​",
      "style": "IPY_MODEL_2e07f74c73ad42af88dd99c7dbae7ab9",
      "value": "0.010 MB of 0.010 MB uploaded (0.000 MB deduped)\r"
     }
    },
    "667edcb38c3b4c19b36b3515fc29a452": {
     "model_module": "@jupyter-widgets/base",
     "model_module_version": "1.2.0",
     "model_name": "LayoutModel",
     "state": {
      "_model_module": "@jupyter-widgets/base",
      "_model_module_version": "1.2.0",
      "_model_name": "LayoutModel",
      "_view_count": null,
      "_view_module": "@jupyter-widgets/base",
      "_view_module_version": "1.2.0",
      "_view_name": "LayoutView",
      "align_content": null,
      "align_items": null,
      "align_self": null,
      "border": null,
      "bottom": null,
      "display": null,
      "flex": null,
      "flex_flow": null,
      "grid_area": null,
      "grid_auto_columns": null,
      "grid_auto_flow": null,
      "grid_auto_rows": null,
      "grid_column": null,
      "grid_gap": null,
      "grid_row": null,
      "grid_template_areas": null,
      "grid_template_columns": null,
      "grid_template_rows": null,
      "height": null,
      "justify_content": null,
      "justify_items": null,
      "left": null,
      "margin": null,
      "max_height": null,
      "max_width": null,
      "min_height": null,
      "min_width": null,
      "object_fit": null,
      "object_position": null,
      "order": null,
      "overflow": null,
      "overflow_x": null,
      "overflow_y": null,
      "padding": null,
      "right": null,
      "top": null,
      "visibility": null,
      "width": null
     }
    },
    "66d6b077a29f4ac396fecc88b918915b": {
     "model_module": "@jupyter-widgets/base",
     "model_module_version": "1.2.0",
     "model_name": "LayoutModel",
     "state": {
      "_model_module": "@jupyter-widgets/base",
      "_model_module_version": "1.2.0",
      "_model_name": "LayoutModel",
      "_view_count": null,
      "_view_module": "@jupyter-widgets/base",
      "_view_module_version": "1.2.0",
      "_view_name": "LayoutView",
      "align_content": null,
      "align_items": null,
      "align_self": null,
      "border": null,
      "bottom": null,
      "display": null,
      "flex": null,
      "flex_flow": null,
      "grid_area": null,
      "grid_auto_columns": null,
      "grid_auto_flow": null,
      "grid_auto_rows": null,
      "grid_column": null,
      "grid_gap": null,
      "grid_row": null,
      "grid_template_areas": null,
      "grid_template_columns": null,
      "grid_template_rows": null,
      "height": null,
      "justify_content": null,
      "justify_items": null,
      "left": null,
      "margin": null,
      "max_height": null,
      "max_width": null,
      "min_height": null,
      "min_width": null,
      "object_fit": null,
      "object_position": null,
      "order": null,
      "overflow": null,
      "overflow_x": null,
      "overflow_y": null,
      "padding": null,
      "right": null,
      "top": null,
      "visibility": null,
      "width": null
     }
    },
    "82e1b2bfe0444b1aacd88d44e8d861b9": {
     "model_module": "@jupyter-widgets/controls",
     "model_module_version": "1.5.0",
     "model_name": "ProgressStyleModel",
     "state": {
      "_model_module": "@jupyter-widgets/controls",
      "_model_module_version": "1.5.0",
      "_model_name": "ProgressStyleModel",
      "_view_count": null,
      "_view_module": "@jupyter-widgets/base",
      "_view_module_version": "1.2.0",
      "_view_name": "StyleView",
      "bar_color": null,
      "description_width": ""
     }
    },
    "cb376f37a5604b308a80187a9e73873f": {
     "model_module": "@jupyter-widgets/base",
     "model_module_version": "1.2.0",
     "model_name": "LayoutModel",
     "state": {
      "_model_module": "@jupyter-widgets/base",
      "_model_module_version": "1.2.0",
      "_model_name": "LayoutModel",
      "_view_count": null,
      "_view_module": "@jupyter-widgets/base",
      "_view_module_version": "1.2.0",
      "_view_name": "LayoutView",
      "align_content": null,
      "align_items": null,
      "align_self": null,
      "border": null,
      "bottom": null,
      "display": null,
      "flex": null,
      "flex_flow": null,
      "grid_area": null,
      "grid_auto_columns": null,
      "grid_auto_flow": null,
      "grid_auto_rows": null,
      "grid_column": null,
      "grid_gap": null,
      "grid_row": null,
      "grid_template_areas": null,
      "grid_template_columns": null,
      "grid_template_rows": null,
      "height": null,
      "justify_content": null,
      "justify_items": null,
      "left": null,
      "margin": null,
      "max_height": null,
      "max_width": null,
      "min_height": null,
      "min_width": null,
      "object_fit": null,
      "object_position": null,
      "order": null,
      "overflow": null,
      "overflow_x": null,
      "overflow_y": null,
      "padding": null,
      "right": null,
      "top": null,
      "visibility": null,
      "width": null
     }
    }
   }
  }
 },
 "nbformat": 4,
 "nbformat_minor": 1
}
