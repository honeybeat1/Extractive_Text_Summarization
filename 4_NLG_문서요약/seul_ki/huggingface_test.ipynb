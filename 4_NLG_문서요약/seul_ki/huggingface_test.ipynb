{
 "cells": [
  {
   "cell_type": "code",
   "execution_count": 1,
   "id": "fd72d2e8",
   "metadata": {},
   "outputs": [],
   "source": [
    "import pandas as pd\n",
    "import numpy as np\n",
    "import wandb\n",
    "import os\n",
    "os.environ[\"WANDB_DISABLED\"] = \"true\"\n",
    "\n",
    "import random\n",
    "import os\n",
    "from sklearn.model_selection import train_test_split\n",
    "from datasets import load_dataset, load_metric\n",
    "from transformers import AutoTokenizer\n",
    "from datasets import Dataset\n",
    "import time"
   ]
  },
  {
   "cell_type": "code",
   "execution_count": 2,
   "id": "a9524e2b",
   "metadata": {},
   "outputs": [],
   "source": [
    "df = pd.read_pickle('sports_news_KoBART.pkl')"
   ]
  },
  {
   "cell_type": "code",
   "execution_count": 3,
   "id": "00523ade",
   "metadata": {},
   "outputs": [
    {
     "name": "stdout",
     "output_type": "stream",
     "text": [
      "(76, 4)\n"
     ]
    },
    {
     "data": {
      "text/html": [
       "<div>\n",
       "<style scoped>\n",
       "    .dataframe tbody tr th:only-of-type {\n",
       "        vertical-align: middle;\n",
       "    }\n",
       "\n",
       "    .dataframe tbody tr th {\n",
       "        vertical-align: top;\n",
       "    }\n",
       "\n",
       "    .dataframe thead th {\n",
       "        text-align: right;\n",
       "    }\n",
       "</style>\n",
       "<table border=\"1\" class=\"dataframe\">\n",
       "  <thead>\n",
       "    <tr style=\"text-align: right;\">\n",
       "      <th></th>\n",
       "      <th>TITLE</th>\n",
       "      <th>CONTENT</th>\n",
       "      <th>PUBLISH_DT</th>\n",
       "      <th>KoBART</th>\n",
       "    </tr>\n",
       "  </thead>\n",
       "  <tbody>\n",
       "    <tr>\n",
       "      <th>0</th>\n",
       "      <td>스털링 다이빙 논란 종결?… “오른쪽 다리 접촉 있었잖아”</td>\n",
       "      <td>유럽축구연맹를 주목했다. 수비수가 볼을 터치하지 않았다고 봤다. 멜레의 오른쪽 다리...</td>\n",
       "      <td>2021-07-15</td>\n",
       "      <td>로세티 위원장이 심판을 대표해 의견을 냈지만, 오심이라고 생각하는 이들이 받아들일지...</td>\n",
       "    </tr>\n",
       "    <tr>\n",
       "      <th>1</th>\n",
       "      <td>‘디 마리아 없다’ 유로X코파 베스트11, 이탈리아만 7명</td>\n",
       "      <td>유로 2020과 코파 아메리카 2021로 베스트11을 만든다면 어떤 모습일까.지난달...</td>\n",
       "      <td>2021-07-15</td>\n",
       "      <td>유로 2020과 코파 아메리카 2021로 베스트11을 만든다면 어떤 모습일까.</td>\n",
       "    </tr>\n",
       "    <tr>\n",
       "      <th>2</th>\n",
       "      <td>‘슈퍼컴퓨터 예측’ 맨시티 우승-맨유 4위… 토트넘은 ‘6위’</td>\n",
       "      <td>새 시즌이 시작하기도 전에 슈퍼컴퓨터가 예상한 순위가 나왔다.영국 매체 ‘스포츠 바...</td>\n",
       "      <td>2021-07-15</td>\n",
       "      <td>시즌이 시작하기도 전에 슈퍼컴퓨터가 예상한 순위가 나왔다.</td>\n",
       "    </tr>\n",
       "    <tr>\n",
       "      <th>3</th>\n",
       "      <td>“이재성, 완벽한 프로… 마인츠서 성공할 것” 킬 디렉터의 애정 듬뿍 응원</td>\n",
       "      <td>홀슈타인 킬 우베 스토버 디렉터가 이재성을 향해 응원 메시지를 띄웠다.이재성은 20...</td>\n",
       "      <td>2021-07-15</td>\n",
       "      <td>독일 분데스리가 마인츠, 호펜하임을 비롯해 잉글랜드 프리미어리그 크리스탈 팰리스가 ...</td>\n",
       "    </tr>\n",
       "    <tr>\n",
       "      <th>4</th>\n",
       "      <td>‘홈킷과 딴판’ 바르사 팬들, NEW 어웨이 셔츠 호평… “가장 좋아하는 색!”</td>\n",
       "      <td>FC 바르셀로나가 새 시즌 원정 유니폼을 공개했다. 팬들은 만족스럽다는 반응이다.바...</td>\n",
       "      <td>2021-07-15</td>\n",
       "      <td>FC 바르셀로나가 공식 홈페이지를 통해 2021/2022시즌에 입을 어웨이 킷을 공...</td>\n",
       "    </tr>\n",
       "  </tbody>\n",
       "</table>\n",
       "</div>"
      ],
      "text/plain": [
       "                                          TITLE  \\\n",
       "0              스털링 다이빙 논란 종결?… “오른쪽 다리 접촉 있었잖아”   \n",
       "1              ‘디 마리아 없다’ 유로X코파 베스트11, 이탈리아만 7명   \n",
       "2            ‘슈퍼컴퓨터 예측’ 맨시티 우승-맨유 4위… 토트넘은 ‘6위’   \n",
       "3     “이재성, 완벽한 프로… 마인츠서 성공할 것” 킬 디렉터의 애정 듬뿍 응원   \n",
       "4  ‘홈킷과 딴판’ 바르사 팬들, NEW 어웨이 셔츠 호평… “가장 좋아하는 색!”   \n",
       "\n",
       "                                             CONTENT  PUBLISH_DT  \\\n",
       "0  유럽축구연맹를 주목했다. 수비수가 볼을 터치하지 않았다고 봤다. 멜레의 오른쪽 다리...  2021-07-15   \n",
       "1  유로 2020과 코파 아메리카 2021로 베스트11을 만든다면 어떤 모습일까.지난달...  2021-07-15   \n",
       "2  새 시즌이 시작하기도 전에 슈퍼컴퓨터가 예상한 순위가 나왔다.영국 매체 ‘스포츠 바...  2021-07-15   \n",
       "3  홀슈타인 킬 우베 스토버 디렉터가 이재성을 향해 응원 메시지를 띄웠다.이재성은 20...  2021-07-15   \n",
       "4  FC 바르셀로나가 새 시즌 원정 유니폼을 공개했다. 팬들은 만족스럽다는 반응이다.바...  2021-07-15   \n",
       "\n",
       "                                              KoBART  \n",
       "0  로세티 위원장이 심판을 대표해 의견을 냈지만, 오심이라고 생각하는 이들이 받아들일지...  \n",
       "1        유로 2020과 코파 아메리카 2021로 베스트11을 만든다면 어떤 모습일까.  \n",
       "2                   시즌이 시작하기도 전에 슈퍼컴퓨터가 예상한 순위가 나왔다.  \n",
       "3  독일 분데스리가 마인츠, 호펜하임을 비롯해 잉글랜드 프리미어리그 크리스탈 팰리스가 ...  \n",
       "4  FC 바르셀로나가 공식 홈페이지를 통해 2021/2022시즌에 입을 어웨이 킷을 공...  "
      ]
     },
     "execution_count": 3,
     "metadata": {},
     "output_type": "execute_result"
    }
   ],
   "source": [
    "print(df.shape); df.head()"
   ]
  },
  {
   "cell_type": "code",
   "execution_count": 4,
   "id": "db93b575",
   "metadata": {},
   "outputs": [],
   "source": [
    "df = df[['KoBART', 'CONTENT', 'TITLE']]"
   ]
  },
  {
   "cell_type": "code",
   "execution_count": 5,
   "id": "97469a1e",
   "metadata": {},
   "outputs": [],
   "source": [
    "train_df, val_df = train_test_split(df, random_state=42,test_size=.2)"
   ]
  },
  {
   "cell_type": "code",
   "execution_count": 6,
   "id": "397fe60b",
   "metadata": {},
   "outputs": [],
   "source": [
    "df_train = pd.DataFrame({\"title\": train_df[\"TITLE\"],'text':train_df[\"CONTENT\"], 'sum':train_df[\"KoBART\"]})\n",
    "dataset_train = Dataset.from_pandas(df_train)"
   ]
  },
  {
   "cell_type": "code",
   "execution_count": 7,
   "id": "71b8ce29",
   "metadata": {},
   "outputs": [],
   "source": [
    "df_val = pd.DataFrame({\"title\": train_df[\"TITLE\"],'text':train_df[\"CONTENT\"], 'sum':train_df[\"KoBART\"]})\n",
    "dataset_val = Dataset.from_pandas(df_val)"
   ]
  },
  {
   "cell_type": "code",
   "execution_count": 8,
   "id": "7e171524",
   "metadata": {
    "scrolled": true
   },
   "outputs": [],
   "source": [
    "tokenizer = AutoTokenizer.from_pretrained(\"t5-small\")"
   ]
  },
  {
   "cell_type": "code",
   "execution_count": 9,
   "id": "30b15719",
   "metadata": {},
   "outputs": [],
   "source": [
    "prefix = \"summarize: \"\n",
    "\n",
    "\n",
    "def preprocess_function(examples):\n",
    "    inputs = [prefix + doc for doc in examples[\"text\"]]\n",
    "    model_inputs = tokenizer(inputs, max_length=1024, truncation=True)\n",
    "\n",
    "    with tokenizer.as_target_tokenizer():\n",
    "        labels = tokenizer(examples[\"sum\"], max_length=128, truncation=True)\n",
    "\n",
    "    model_inputs[\"labels\"] = labels[\"input_ids\"]\n",
    "    return model_inputs\n"
   ]
  },
  {
   "cell_type": "code",
   "execution_count": 10,
   "id": "bd2a5aee",
   "metadata": {},
   "outputs": [
    {
     "data": {
      "application/vnd.jupyter.widget-view+json": {
       "model_id": "73c5024ace824a0e8971d5c729067d50",
       "version_major": 2,
       "version_minor": 0
      },
      "text/plain": [
       "  0%|          | 0/1 [00:00<?, ?ba/s]"
      ]
     },
     "metadata": {},
     "output_type": "display_data"
    },
    {
     "data": {
      "application/vnd.jupyter.widget-view+json": {
       "model_id": "678da90a0e4b410685bcb5f886f12912",
       "version_major": 2,
       "version_minor": 0
      },
      "text/plain": [
       "  0%|          | 0/1 [00:00<?, ?ba/s]"
      ]
     },
     "metadata": {},
     "output_type": "display_data"
    }
   ],
   "source": [
    "tokenized_train_df = dataset_train.map(preprocess_function, batched=True)\n",
    "tokenized_val_df = dataset_val.map(preprocess_function, batched=True)"
   ]
  },
  {
   "cell_type": "code",
   "execution_count": 11,
   "id": "44578c73",
   "metadata": {},
   "outputs": [],
   "source": [
    "from transformers import AutoModelForSeq2SeqLM, Seq2SeqTrainingArguments, Seq2SeqTrainer\n",
    "\n",
    "model = AutoModelForSeq2SeqLM.from_pretrained(\"t5-small\")"
   ]
  },
  {
   "cell_type": "code",
   "execution_count": 12,
   "id": "c8a8efeb",
   "metadata": {},
   "outputs": [],
   "source": [
    "from transformers import DataCollatorForSeq2Seq\n",
    "\n",
    "data_collator = DataCollatorForSeq2Seq(tokenizer=tokenizer, model=model)"
   ]
  },
  {
   "cell_type": "code",
   "execution_count": 13,
   "id": "aef79936",
   "metadata": {},
   "outputs": [
    {
     "name": "stderr",
     "output_type": "stream",
     "text": [
      "Using the `WAND_DISABLED` environment variable is deprecated and will be removed in v5. Use the --report_to flag to control the integrations used for logging result (for instance --report_to none).\n",
      "Using amp fp16 backend\n",
      "The following columns in the training set  don't have a corresponding argument in `T5ForConditionalGeneration.forward` and have been ignored: sum, __index_level_0__, text, title.\n",
      "***** Running training *****\n",
      "  Num examples = 60\n",
      "  Num Epochs = 3\n",
      "  Instantaneous batch size per device = 16\n",
      "  Total train batch size (w. parallel, distributed & accumulation) = 16\n",
      "  Gradient Accumulation steps = 1\n",
      "  Total optimization steps = 12\n"
     ]
    },
    {
     "data": {
      "text/html": [
       "\n",
       "    <div>\n",
       "      \n",
       "      <progress value='12' max='12' style='width:300px; height:20px; vertical-align: middle;'></progress>\n",
       "      [12/12 00:04, Epoch 3/3]\n",
       "    </div>\n",
       "    <table border=\"1\" class=\"dataframe\">\n",
       "  <thead>\n",
       "    <tr style=\"text-align: left;\">\n",
       "      <th>Epoch</th>\n",
       "      <th>Training Loss</th>\n",
       "      <th>Validation Loss</th>\n",
       "    </tr>\n",
       "  </thead>\n",
       "  <tbody>\n",
       "    <tr>\n",
       "      <td>1</td>\n",
       "      <td>No log</td>\n",
       "      <td>0.410561</td>\n",
       "    </tr>\n",
       "    <tr>\n",
       "      <td>2</td>\n",
       "      <td>No log</td>\n",
       "      <td>0.384866</td>\n",
       "    </tr>\n",
       "    <tr>\n",
       "      <td>3</td>\n",
       "      <td>No log</td>\n",
       "      <td>0.376557</td>\n",
       "    </tr>\n",
       "  </tbody>\n",
       "</table><p>"
      ],
      "text/plain": [
       "<IPython.core.display.HTML object>"
      ]
     },
     "metadata": {},
     "output_type": "display_data"
    },
    {
     "name": "stderr",
     "output_type": "stream",
     "text": [
      "The following columns in the evaluation set  don't have a corresponding argument in `T5ForConditionalGeneration.forward` and have been ignored: sum, __index_level_0__, text, title.\n",
      "***** Running Evaluation *****\n",
      "  Num examples = 60\n",
      "  Batch size = 16\n",
      "The following columns in the evaluation set  don't have a corresponding argument in `T5ForConditionalGeneration.forward` and have been ignored: sum, __index_level_0__, text, title.\n",
      "***** Running Evaluation *****\n",
      "  Num examples = 60\n",
      "  Batch size = 16\n",
      "The following columns in the evaluation set  don't have a corresponding argument in `T5ForConditionalGeneration.forward` and have been ignored: sum, __index_level_0__, text, title.\n",
      "***** Running Evaluation *****\n",
      "  Num examples = 60\n",
      "  Batch size = 16\n",
      "\n",
      "\n",
      "Training completed. Do not forget to share your model on huggingface.co/models =)\n",
      "\n",
      "\n"
     ]
    },
    {
     "data": {
      "text/plain": [
       "TrainOutput(global_step=12, training_loss=0.5041841665903727, metrics={'train_runtime': 4.2219, 'train_samples_per_second': 42.635, 'train_steps_per_second': 2.842, 'total_flos': 37925310431232.0, 'train_loss': 0.5041841665903727, 'epoch': 3.0})"
      ]
     },
     "execution_count": 13,
     "metadata": {},
     "output_type": "execute_result"
    }
   ],
   "source": [
    "training_args = Seq2SeqTrainingArguments(\n",
    "    output_dir=\"./results\",\n",
    "    evaluation_strategy=\"epoch\",\n",
    "    learning_rate=2e-5,\n",
    "    per_device_train_batch_size=16,\n",
    "    per_device_eval_batch_size=16,\n",
    "    weight_decay=0.01,\n",
    "    save_total_limit=3,\n",
    "    num_train_epochs=3,\n",
    "    fp16=True,\n",
    ")\n",
    "\n",
    "trainer = Seq2SeqTrainer(\n",
    "    model=model,\n",
    "    args=training_args,\n",
    "    train_dataset=tokenized_train_df,\n",
    "    eval_dataset=tokenized_val_df,\n",
    "    tokenizer=tokenizer,\n",
    "    data_collator=data_collator,\n",
    ")\n",
    "\n",
    "trainer.train()"
   ]
  },
  {
   "cell_type": "code",
   "execution_count": 14,
   "id": "082293fa",
   "metadata": {},
   "outputs": [
    {
     "name": "stderr",
     "output_type": "stream",
     "text": [
      "The following columns in the evaluation set  don't have a corresponding argument in `T5ForConditionalGeneration.forward` and have been ignored: sum, __index_level_0__, text, title.\n",
      "***** Running Evaluation *****\n",
      "  Num examples = 60\n",
      "  Batch size = 16\n"
     ]
    },
    {
     "data": {
      "text/html": [
       "\n",
       "    <div>\n",
       "      \n",
       "      <progress value='4' max='4' style='width:300px; height:20px; vertical-align: middle;'></progress>\n",
       "      [4/4 00:00]\n",
       "    </div>\n",
       "    "
      ],
      "text/plain": [
       "<IPython.core.display.HTML object>"
      ]
     },
     "metadata": {},
     "output_type": "display_data"
    },
    {
     "data": {
      "text/plain": [
       "{'eval_loss': 0.3765568733215332,\n",
       " 'eval_runtime': 0.4324,\n",
       " 'eval_samples_per_second': 138.744,\n",
       " 'eval_steps_per_second': 9.25,\n",
       " 'epoch': 3.0}"
      ]
     },
     "execution_count": 14,
     "metadata": {},
     "output_type": "execute_result"
    }
   ],
   "source": [
    "trainer.evaluate()"
   ]
  },
  {
   "cell_type": "code",
   "execution_count": null,
   "id": "af8626c9",
   "metadata": {},
   "outputs": [],
   "source": []
  }
 ],
 "metadata": {
  "kernelspec": {
   "display_name": "for_joon",
   "language": "python",
   "name": "for_joon"
  },
  "language_info": {
   "codemirror_mode": {
    "name": "ipython",
    "version": 3
   },
   "file_extension": ".py",
   "mimetype": "text/x-python",
   "name": "python",
   "nbconvert_exporter": "python",
   "pygments_lexer": "ipython3",
   "version": "3.8.5"
  }
 },
 "nbformat": 4,
 "nbformat_minor": 5
}
