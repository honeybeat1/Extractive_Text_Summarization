{
  "nbformat": 4,
  "nbformat_minor": 0,
  "metadata": {
    "colab": {
      "name": "Untitled2.ipynb",
      "provenance": [],
      "mount_file_id": "1FER3Kqn6sSzBlT5-aAop-XwmsHkB9UIn",
      "authorship_tag": "ABX9TyOg3gLYX4DEMXldtmObN84e"
    },
    "kernelspec": {
      "name": "python3",
      "display_name": "Python 3"
    },
    "language_info": {
      "name": "python"
    }
  },
  "cells": [
    {
      "cell_type": "code",
      "execution_count": 11,
      "metadata": {
        "colab": {
          "base_uri": "https://localhost:8080/",
          "height": 112
        },
        "id": "ZiGq45yYKbyB",
        "outputId": "57d39cd8-9feb-4924-b544-f06939a6e5e7"
      },
      "outputs": [
        {
          "output_type": "execute_result",
          "data": {
            "text/plain": [
              "              count      mean       std       min       25%       50%  \\\n",
              "SCORE_Ko     7033.0  0.932099  0.015128  0.810179  0.923773  0.934015   \n",
              "SCORE_Title  7033.0  0.912212  0.014382  0.833816  0.903167  0.913196   \n",
              "\n",
              "                  75%       max  \n",
              "SCORE_Ko     0.942854  0.969179  \n",
              "SCORE_Title  0.922298  0.953382  "
            ],
            "text/html": [
              "\n",
              "  <div id=\"df-6bf40fc5-14bc-4b2f-bc63-080ac7d102e9\">\n",
              "    <div class=\"colab-df-container\">\n",
              "      <div>\n",
              "<style scoped>\n",
              "    .dataframe tbody tr th:only-of-type {\n",
              "        vertical-align: middle;\n",
              "    }\n",
              "\n",
              "    .dataframe tbody tr th {\n",
              "        vertical-align: top;\n",
              "    }\n",
              "\n",
              "    .dataframe thead th {\n",
              "        text-align: right;\n",
              "    }\n",
              "</style>\n",
              "<table border=\"1\" class=\"dataframe\">\n",
              "  <thead>\n",
              "    <tr style=\"text-align: right;\">\n",
              "      <th></th>\n",
              "      <th>count</th>\n",
              "      <th>mean</th>\n",
              "      <th>std</th>\n",
              "      <th>min</th>\n",
              "      <th>25%</th>\n",
              "      <th>50%</th>\n",
              "      <th>75%</th>\n",
              "      <th>max</th>\n",
              "    </tr>\n",
              "  </thead>\n",
              "  <tbody>\n",
              "    <tr>\n",
              "      <th>SCORE_Ko</th>\n",
              "      <td>7033.0</td>\n",
              "      <td>0.932099</td>\n",
              "      <td>0.015128</td>\n",
              "      <td>0.810179</td>\n",
              "      <td>0.923773</td>\n",
              "      <td>0.934015</td>\n",
              "      <td>0.942854</td>\n",
              "      <td>0.969179</td>\n",
              "    </tr>\n",
              "    <tr>\n",
              "      <th>SCORE_Title</th>\n",
              "      <td>7033.0</td>\n",
              "      <td>0.912212</td>\n",
              "      <td>0.014382</td>\n",
              "      <td>0.833816</td>\n",
              "      <td>0.903167</td>\n",
              "      <td>0.913196</td>\n",
              "      <td>0.922298</td>\n",
              "      <td>0.953382</td>\n",
              "    </tr>\n",
              "  </tbody>\n",
              "</table>\n",
              "</div>\n",
              "      <button class=\"colab-df-convert\" onclick=\"convertToInteractive('df-6bf40fc5-14bc-4b2f-bc63-080ac7d102e9')\"\n",
              "              title=\"Convert this dataframe to an interactive table.\"\n",
              "              style=\"display:none;\">\n",
              "        \n",
              "  <svg xmlns=\"http://www.w3.org/2000/svg\" height=\"24px\"viewBox=\"0 0 24 24\"\n",
              "       width=\"24px\">\n",
              "    <path d=\"M0 0h24v24H0V0z\" fill=\"none\"/>\n",
              "    <path d=\"M18.56 5.44l.94 2.06.94-2.06 2.06-.94-2.06-.94-.94-2.06-.94 2.06-2.06.94zm-11 1L8.5 8.5l.94-2.06 2.06-.94-2.06-.94L8.5 2.5l-.94 2.06-2.06.94zm10 10l.94 2.06.94-2.06 2.06-.94-2.06-.94-.94-2.06-.94 2.06-2.06.94z\"/><path d=\"M17.41 7.96l-1.37-1.37c-.4-.4-.92-.59-1.43-.59-.52 0-1.04.2-1.43.59L10.3 9.45l-7.72 7.72c-.78.78-.78 2.05 0 2.83L4 21.41c.39.39.9.59 1.41.59.51 0 1.02-.2 1.41-.59l7.78-7.78 2.81-2.81c.8-.78.8-2.07 0-2.86zM5.41 20L4 18.59l7.72-7.72 1.47 1.35L5.41 20z\"/>\n",
              "  </svg>\n",
              "      </button>\n",
              "      \n",
              "  <style>\n",
              "    .colab-df-container {\n",
              "      display:flex;\n",
              "      flex-wrap:wrap;\n",
              "      gap: 12px;\n",
              "    }\n",
              "\n",
              "    .colab-df-convert {\n",
              "      background-color: #E8F0FE;\n",
              "      border: none;\n",
              "      border-radius: 50%;\n",
              "      cursor: pointer;\n",
              "      display: none;\n",
              "      fill: #1967D2;\n",
              "      height: 32px;\n",
              "      padding: 0 0 0 0;\n",
              "      width: 32px;\n",
              "    }\n",
              "\n",
              "    .colab-df-convert:hover {\n",
              "      background-color: #E2EBFA;\n",
              "      box-shadow: 0px 1px 2px rgba(60, 64, 67, 0.3), 0px 1px 3px 1px rgba(60, 64, 67, 0.15);\n",
              "      fill: #174EA6;\n",
              "    }\n",
              "\n",
              "    [theme=dark] .colab-df-convert {\n",
              "      background-color: #3B4455;\n",
              "      fill: #D2E3FC;\n",
              "    }\n",
              "\n",
              "    [theme=dark] .colab-df-convert:hover {\n",
              "      background-color: #434B5C;\n",
              "      box-shadow: 0px 1px 3px 1px rgba(0, 0, 0, 0.15);\n",
              "      filter: drop-shadow(0px 1px 2px rgba(0, 0, 0, 0.3));\n",
              "      fill: #FFFFFF;\n",
              "    }\n",
              "  </style>\n",
              "\n",
              "      <script>\n",
              "        const buttonEl =\n",
              "          document.querySelector('#df-6bf40fc5-14bc-4b2f-bc63-080ac7d102e9 button.colab-df-convert');\n",
              "        buttonEl.style.display =\n",
              "          google.colab.kernel.accessAllowed ? 'block' : 'none';\n",
              "\n",
              "        async function convertToInteractive(key) {\n",
              "          const element = document.querySelector('#df-6bf40fc5-14bc-4b2f-bc63-080ac7d102e9');\n",
              "          const dataTable =\n",
              "            await google.colab.kernel.invokeFunction('convertToInteractive',\n",
              "                                                     [key], {});\n",
              "          if (!dataTable) return;\n",
              "\n",
              "          const docLinkHtml = 'Like what you see? Visit the ' +\n",
              "            '<a target=\"_blank\" href=https://colab.research.google.com/notebooks/data_table.ipynb>data table notebook</a>'\n",
              "            + ' to learn more about interactive tables.';\n",
              "          element.innerHTML = '';\n",
              "          dataTable['output_type'] = 'display_data';\n",
              "          await google.colab.output.renderOutput(dataTable, element);\n",
              "          const docLink = document.createElement('div');\n",
              "          docLink.innerHTML = docLinkHtml;\n",
              "          element.appendChild(docLink);\n",
              "        }\n",
              "      </script>\n",
              "    </div>\n",
              "  </div>\n",
              "  "
            ]
          },
          "metadata": {},
          "execution_count": 11
        }
      ],
      "source": [
        "import pandas as pd\n",
        "df = pd.read_csv('/content/drive/MyDrive/AI/평가지표_비교(결측치X).csv')\n",
        "df = df.drop(df.columns[0], axis = 1)\n",
        "df.describe().T"
      ]
    },
    {
      "cell_type": "code",
      "source": [
        "import seaborn as sns\n",
        "sns.set_theme(style=\"ticks\")\n",
        "\n",
        "sns.pairplot(df)"
      ],
      "metadata": {
        "colab": {
          "base_uri": "https://localhost:8080/",
          "height": 390
        },
        "id": "XgvDyRHROF0B",
        "outputId": "e409de3e-2fe0-47ca-e98e-7456892b3e49"
      },
      "execution_count": 18,
      "outputs": [
        {
          "output_type": "execute_result",
          "data": {
            "text/plain": [
              "<seaborn.axisgrid.PairGrid at 0x7fdba7f86f10>"
            ]
          },
          "metadata": {},
          "execution_count": 18
        },
        {
          "output_type": "display_data",
          "data": {
            "text/plain": [
              "<Figure size 360x360 with 6 Axes>"
            ],
            "image/png": "[encoded data removed]"
          },
          "metadata": {}
        }
      ]
    },
    {
      "cell_type": "code",
      "source": [
        "# 두 라벨에서 점수가 낮게 나오는 문서\n",
        "df.sort_values(by = 'SCORE_Ko').head(20).sort_values(by = 'SCORE_Title').head(5)"
      ],
      "metadata": {
        "colab": {
          "base_uri": "https://localhost:8080/",
          "height": 424
        },
        "id": "n_hbq0rJLVum",
        "outputId": "24143f6a-8454-46fe-b90c-2b3bc01344ea"
      },
      "execution_count": 33,
      "outputs": [
        {
          "output_type": "execute_result",
          "data": {
            "text/plain": [
              "                                                CONTENT  \\\n",
              "5719  <p><strong>▲ 레알 마드리드와 파리 생제르맹 재추첨 결과 UEFA 챔피언스...   \n",
              "6782  <p><strong>▲ 울버햄튼 거미손 주제 사</strong></p><p><str...   \n",
              "6590  <p>▲ 월드컵 우승 횟수만 9번</p><p>▲ 유로 2020 F조에 이어, UEF...   \n",
              "2929  [스포탈코리아] 곽힘찬 기자= 마르코스 알론소(첼시)가 경기 도중 심장 마비가 온 ...   \n",
              "5784  <p><strong>▲ 새삼 대단한 메날두의 위엄(?)</strong></p><p>...   \n",
              "\n",
              "                                        TRUE_SUMMARY_Ko  \\\n",
              "5719  13일 오후 UEFA 본부 열린 20212022시 즌 UEFA 챔피언스리그 재 추첨...   \n",
              "6782            토트넘 선수 연애 전선 은 포르투갈 출신 그리스 이름 알리기 시작 했다   \n",
              "6590  지난 17일 20222023시 즌 UEFA 네이션 스리 조 추첨 식 진행 하여 이목...   \n",
              "2929  영국 매체 트리 뷰 2일 알론소 왓포드 전 도중 관중석 발생 한 응급 상황 발견 심...   \n",
              "5784  21 세기 최고 축구 선수 중 인 GOAT 불리 고 있으며 타고난 득점 력 무기 유...   \n",
              "\n",
              "                                     PREDICT_SUMMARY_Ko  SCORE_Ko  \\\n",
              "5719  13일 오후 UEFA 본부 열린 20212022시 즌 UEFA 챔피언스리그 재 추첨...  0.864591   \n",
              "6782  올 시즌 프리미어리그 원정 최 다 클린시트 주인공 은 일까 주요 뉴스 축구 좋아하는...  0.867813   \n",
              "6590  메이저 대회 기준 두 팀 전적 은 4 승 4 무 4 패 동 률 이다 유로 2012 ...  0.860190   \n",
              "2929  세르 히 레길론 이어 올 시즌 두 번 째 다 날 알론소 는 첼시 2 골 시발 점 되...  0.870782   \n",
              "5784  골무 원 메날 두 신계 공격수 메시 호날두 는 명실 상부 21 세기 최고 축구 선수...  0.867281   \n",
              "\n",
              "                             TRUE_SUMMARY_Title  \\\n",
              "5719   역대 급 빅매치 PSG VS 레알 라모스 메시음 바페 뭐 뺄 게 없네 .   \n",
              "6782        데 헤아 아니라고 올 시즌 PL 원정 최 다 클린시트 주인공 은   \n",
              "6590  대박 이탈리아 독일 잉글랜드 WC 우승 만 9회 소 리나 는 UNL A 3   \n",
              "2929           힐론소 알론소 레길론 이어 경기 도중 심정지 팬 생명 했다   \n",
              "5784          아직도 팀 떠난 메시 호날두 전 소속 팀 한 해 득점 1 위   \n",
              "\n",
              "                                  PREDICT_SUMMARY_Title  SCORE_Title  \n",
              "5719  레알 마드리드 파리 생제르맹 재 추첨 결과 UEFA 챔피언스리그 16 강 맞 대결 ...     0.855974  \n",
              "6782  울버햄튼 거미 손 주제 맨유 원정 에서도 무실점 기록 하며 올 시즌 프리미어리그 원...     0.892114  \n",
              "6590  월드컵 우승 횟수 만 9 번 유로 2020 F 조 이어 UEFA 네이션 스리 에서도...     0.894719  \n",
              "2929  세르 히 레길론 이어 올 시즌 두 번 째 다 날 알론소 는 첼시 2 골 시발 점 되...     0.896795  \n",
              "5784  새삼 대단한 메날 두 위엄 지난 여름 유벤투스 바르셀로나 떠난 호날두 메시 이적 후...     0.899562  "
            ],
            "text/html": [
              "\n",
              "  <div id=\"df-53237b82-b37f-4cb6-b7b8-4ff23064bcef\">\n",
              "    <div class=\"colab-df-container\">\n",
              "      <div>\n",
              "<style scoped>\n",
              "    .dataframe tbody tr th:only-of-type {\n",
              "        vertical-align: middle;\n",
              "    }\n",
              "\n",
              "    .dataframe tbody tr th {\n",
              "        vertical-align: top;\n",
              "    }\n",
              "\n",
              "    .dataframe thead th {\n",
              "        text-align: right;\n",
              "    }\n",
              "</style>\n",
              "<table border=\"1\" class=\"dataframe\">\n",
              "  <thead>\n",
              "    <tr style=\"text-align: right;\">\n",
              "      <th></th>\n",
              "      <th>CONTENT</th>\n",
              "      <th>TRUE_SUMMARY_Ko</th>\n",
              "      <th>PREDICT_SUMMARY_Ko</th>\n",
              "      <th>SCORE_Ko</th>\n",
              "      <th>TRUE_SUMMARY_Title</th>\n",
              "      <th>PREDICT_SUMMARY_Title</th>\n",
              "      <th>SCORE_Title</th>\n",
              "    </tr>\n",
              "  </thead>\n",
              "  <tbody>\n",
              "    <tr>\n",
              "      <th>5719</th>\n",
              "      <td>&lt;p&gt;&lt;strong&gt;▲ 레알 마드리드와 파리 생제르맹 재추첨 결과 UEFA 챔피언스...</td>\n",
              "      <td>13일 오후 UEFA 본부 열린 20212022시 즌 UEFA 챔피언스리그 재 추첨...</td>\n",
              "      <td>13일 오후 UEFA 본부 열린 20212022시 즌 UEFA 챔피언스리그 재 추첨...</td>\n",
              "      <td>0.864591</td>\n",
              "      <td>역대 급 빅매치 PSG VS 레알 라모스 메시음 바페 뭐 뺄 게 없네 .</td>\n",
              "      <td>레알 마드리드 파리 생제르맹 재 추첨 결과 UEFA 챔피언스리그 16 강 맞 대결 ...</td>\n",
              "      <td>0.855974</td>\n",
              "    </tr>\n",
              "    <tr>\n",
              "      <th>6782</th>\n",
              "      <td>&lt;p&gt;&lt;strong&gt;▲ 울버햄튼 거미손 주제 사&lt;/strong&gt;&lt;/p&gt;&lt;p&gt;&lt;str...</td>\n",
              "      <td>토트넘 선수 연애 전선 은 포르투갈 출신 그리스 이름 알리기 시작 했다</td>\n",
              "      <td>올 시즌 프리미어리그 원정 최 다 클린시트 주인공 은 일까 주요 뉴스 축구 좋아하는...</td>\n",
              "      <td>0.867813</td>\n",
              "      <td>데 헤아 아니라고 올 시즌 PL 원정 최 다 클린시트 주인공 은</td>\n",
              "      <td>울버햄튼 거미 손 주제 맨유 원정 에서도 무실점 기록 하며 올 시즌 프리미어리그 원...</td>\n",
              "      <td>0.892114</td>\n",
              "    </tr>\n",
              "    <tr>\n",
              "      <th>6590</th>\n",
              "      <td>&lt;p&gt;▲ 월드컵 우승 횟수만 9번&lt;/p&gt;&lt;p&gt;▲ 유로 2020 F조에 이어, UEF...</td>\n",
              "      <td>지난 17일 20222023시 즌 UEFA 네이션 스리 조 추첨 식 진행 하여 이목...</td>\n",
              "      <td>메이저 대회 기준 두 팀 전적 은 4 승 4 무 4 패 동 률 이다 유로 2012 ...</td>\n",
              "      <td>0.860190</td>\n",
              "      <td>대박 이탈리아 독일 잉글랜드 WC 우승 만 9회 소 리나 는 UNL A 3</td>\n",
              "      <td>월드컵 우승 횟수 만 9 번 유로 2020 F 조 이어 UEFA 네이션 스리 에서도...</td>\n",
              "      <td>0.894719</td>\n",
              "    </tr>\n",
              "    <tr>\n",
              "      <th>2929</th>\n",
              "      <td>[스포탈코리아] 곽힘찬 기자= 마르코스 알론소(첼시)가 경기 도중 심장 마비가 온 ...</td>\n",
              "      <td>영국 매체 트리 뷰 2일 알론소 왓포드 전 도중 관중석 발생 한 응급 상황 발견 심...</td>\n",
              "      <td>세르 히 레길론 이어 올 시즌 두 번 째 다 날 알론소 는 첼시 2 골 시발 점 되...</td>\n",
              "      <td>0.870782</td>\n",
              "      <td>힐론소 알론소 레길론 이어 경기 도중 심정지 팬 생명 했다</td>\n",
              "      <td>세르 히 레길론 이어 올 시즌 두 번 째 다 날 알론소 는 첼시 2 골 시발 점 되...</td>\n",
              "      <td>0.896795</td>\n",
              "    </tr>\n",
              "    <tr>\n",
              "      <th>5784</th>\n",
              "      <td>&lt;p&gt;&lt;strong&gt;▲ 새삼 대단한 메날두의 위엄(?)&lt;/strong&gt;&lt;/p&gt;&lt;p&gt;...</td>\n",
              "      <td>21 세기 최고 축구 선수 중 인 GOAT 불리 고 있으며 타고난 득점 력 무기 유...</td>\n",
              "      <td>골무 원 메날 두 신계 공격수 메시 호날두 는 명실 상부 21 세기 최고 축구 선수...</td>\n",
              "      <td>0.867281</td>\n",
              "      <td>아직도 팀 떠난 메시 호날두 전 소속 팀 한 해 득점 1 위</td>\n",
              "      <td>새삼 대단한 메날 두 위엄 지난 여름 유벤투스 바르셀로나 떠난 호날두 메시 이적 후...</td>\n",
              "      <td>0.899562</td>\n",
              "    </tr>\n",
              "  </tbody>\n",
              "</table>\n",
              "</div>\n",
              "      <button class=\"colab-df-convert\" onclick=\"convertToInteractive('df-53237b82-b37f-4cb6-b7b8-4ff23064bcef')\"\n",
              "              title=\"Convert this dataframe to an interactive table.\"\n",
              "              style=\"display:none;\">\n",
              "        \n",
              "  <svg xmlns=\"http://www.w3.org/2000/svg\" height=\"24px\"viewBox=\"0 0 24 24\"\n",
              "       width=\"24px\">\n",
              "    <path d=\"M0 0h24v24H0V0z\" fill=\"none\"/>\n",
              "    <path d=\"M18.56 5.44l.94 2.06.94-2.06 2.06-.94-2.06-.94-.94-2.06-.94 2.06-2.06.94zm-11 1L8.5 8.5l.94-2.06 2.06-.94-2.06-.94L8.5 2.5l-.94 2.06-2.06.94zm10 10l.94 2.06.94-2.06 2.06-.94-2.06-.94-.94-2.06-.94 2.06-2.06.94z\"/><path d=\"M17.41 7.96l-1.37-1.37c-.4-.4-.92-.59-1.43-.59-.52 0-1.04.2-1.43.59L10.3 9.45l-7.72 7.72c-.78.78-.78 2.05 0 2.83L4 21.41c.39.39.9.59 1.41.59.51 0 1.02-.2 1.41-.59l7.78-7.78 2.81-2.81c.8-.78.8-2.07 0-2.86zM5.41 20L4 18.59l7.72-7.72 1.47 1.35L5.41 20z\"/>\n",
              "  </svg>\n",
              "      </button>\n",
              "      \n",
              "  <style>\n",
              "    .colab-df-container {\n",
              "      display:flex;\n",
              "      flex-wrap:wrap;\n",
              "      gap: 12px;\n",
              "    }\n",
              "\n",
              "    .colab-df-convert {\n",
              "      background-color: #E8F0FE;\n",
              "      border: none;\n",
              "      border-radius: 50%;\n",
              "      cursor: pointer;\n",
              "      display: none;\n",
              "      fill: #1967D2;\n",
              "      height: 32px;\n",
              "      padding: 0 0 0 0;\n",
              "      width: 32px;\n",
              "    }\n",
              "\n",
              "    .colab-df-convert:hover {\n",
              "      background-color: #E2EBFA;\n",
              "      box-shadow: 0px 1px 2px rgba(60, 64, 67, 0.3), 0px 1px 3px 1px rgba(60, 64, 67, 0.15);\n",
              "      fill: #174EA6;\n",
              "    }\n",
              "\n",
              "    [theme=dark] .colab-df-convert {\n",
              "      background-color: #3B4455;\n",
              "      fill: #D2E3FC;\n",
              "    }\n",
              "\n",
              "    [theme=dark] .colab-df-convert:hover {\n",
              "      background-color: #434B5C;\n",
              "      box-shadow: 0px 1px 3px 1px rgba(0, 0, 0, 0.15);\n",
              "      filter: drop-shadow(0px 1px 2px rgba(0, 0, 0, 0.3));\n",
              "      fill: #FFFFFF;\n",
              "    }\n",
              "  </style>\n",
              "\n",
              "      <script>\n",
              "        const buttonEl =\n",
              "          document.querySelector('#df-53237b82-b37f-4cb6-b7b8-4ff23064bcef button.colab-df-convert');\n",
              "        buttonEl.style.display =\n",
              "          google.colab.kernel.accessAllowed ? 'block' : 'none';\n",
              "\n",
              "        async function convertToInteractive(key) {\n",
              "          const element = document.querySelector('#df-53237b82-b37f-4cb6-b7b8-4ff23064bcef');\n",
              "          const dataTable =\n",
              "            await google.colab.kernel.invokeFunction('convertToInteractive',\n",
              "                                                     [key], {});\n",
              "          if (!dataTable) return;\n",
              "\n",
              "          const docLinkHtml = 'Like what you see? Visit the ' +\n",
              "            '<a target=\"_blank\" href=https://colab.research.google.com/notebooks/data_table.ipynb>data table notebook</a>'\n",
              "            + ' to learn more about interactive tables.';\n",
              "          element.innerHTML = '';\n",
              "          dataTable['output_type'] = 'display_data';\n",
              "          await google.colab.output.renderOutput(dataTable, element);\n",
              "          const docLink = document.createElement('div');\n",
              "          docLink.innerHTML = docLinkHtml;\n",
              "          element.appendChild(docLink);\n",
              "        }\n",
              "      </script>\n",
              "    </div>\n",
              "  </div>\n",
              "  "
            ]
          },
          "metadata": {},
          "execution_count": 33
        }
      ]
    },
    {
      "cell_type": "code",
      "source": [
        "df['CONTENT'].loc[5719]"
      ],
      "metadata": {
        "colab": {
          "base_uri": "https://localhost:8080/",
          "height": 339
        },
        "id": "CaP_oSSIRQkl",
        "outputId": "e5f5d651-de11-4438-892d-9b10c4d5c017"
      },
      "execution_count": 34,
      "outputs": [
        {
          "output_type": "execute_result",
          "data": {
            "text/plain": [
              "'<p><strong>▲ 레알 마드리드와 파리 생제르맹 재추첨 결과 UEFA 챔피언스리그 16강 맞대결</strong></p><p><strong>▲ 산티아고 베르나베우로 돌아오는 세르히오 라모스 / 레알과 또 상대하는 메시 그리고 마드리드 입성 유력한 음바페까지</strong></p><p><strong>▲ 명실상부 UEFA 챔피언스리그 16강 최고 빅매치 / 관전 포인트는?</strong></p><p></p><p>[골닷컴] 박문수 기자 = 세기의 맞대결이다. 처음부터 성사된 건 아니었다. 기술적 오류를 이유로 재추첨에 나섰고 그렇게 대진표가 완성됐다. 두 주인공은 PSG 그리고 레알이다.</p><p></p><p>레알과 PSG가 맞대결을 펼친다. 13일 오후(한국시각) UEFA 본부에서 열린 \\'2021/2022시즌 UEFA 챔피언스리그 재추첨\\' 결과 레알과 PSG 맞대결이 성사됐다.</p><p><ad></ad></p><hr><span><strong>주요 뉴스\\xa0 | </strong><a href=\"https://www.goal.com/kr/%EB%AA%A9%EB%A1%9D/a/wu7p1c28gszg1qwppnvcp6jjs\" target=\"_blank\">\" 축구 좋아하는 여자 연예인 모음.zip\"\"</a></span><hr><p></p><p>이전 추첨에서 레알의 경우 벤피카를 PSG는 맨유와 대진표가 꾸려졌다. 그러나 재추첨 결과 벤피카는 아약스를 맨유는 아틀레티코를 만나게 됐다.</p><p></p><p>이 경기 명칭부터 다양하다. 가장 많이 거론될 선수는 라모스다. 메시가 있지만, 레알에 라모스가 미치는 영향력은 상당하다. 21세기 기준, 아니 구단 역사상 최고 수비수로 봐도 무방하다. 그런 라모스가 PSG로 이적한 첫 시즌 레알을 상대한다. 그래서 혹자는 라모스 더비라고 부른다.</p><p></p><p>라모스 다음으로 거론될 선수는 메시다. 메시에게 레알은 익숙한 적이다. 바르셀로나 시절 레알을 상대로 45경기에서 26골 14도움을 기록했다. 승패만 봐도 레알을 상대로 19승 11무 15패를 기록했다. 바르셀로나가 주춤한 탓에 라 리가에서는 엘 클라시코 더비 3연패라는 아픈 기억을 안고, PSG로 이적했지만, 명실상부 레알 최고 킬러가 바로 메시다.</p><p></p><blockquote class=\"twitter-tweet\"><p lang=\"en\" dir=\"ltr\">PSG DRAW REAL MADRID.<br><br>Lionel Messi is heading back to Spain after all 👀 <a href=\"https://t.co/TEuMK6LUCR\">pic.twitter.com/TEuMK6LUCR</a></p>— GOAL (@goal) <a href=\"https://twitter.com/goal/status/1470396980539150341?ref_src=twsrc%5Etfw\">December 13, 2021</a></blockquote>\\n\\n<p></p><p>엘 클라시코 역사상 가장 많은 골을 넣은 선수가 메시다. 이제는 팀 동료인 라모스와 함께 가장 많은 경기에 나선 선수도 메시다. 도움 또한 1위다. 해트트릭도 2회나 기록했다.</p><p></p><p>라모스와 메시 뒤를 이어 언급될 선수는 킬리앙 음바페다. PSG와의 마지막 계약 시즌인 음바페는 정황상 레알 합류가 유력하다는 평이다. 어쩌면 자신의 차기 소속팀을 상대로 득점을 넣어야 한다. 여기에 최근 레알의 에이스로 거듭난 비니시우스 주니오르와의 맞대결도 볼거리다.</p><p></p><hr><span><strong>주요 뉴스\\xa0 | </strong><a href=\"https://www.goal.com/kr/%EB%AA%A9%EB%A1%9D/a/1cn0mtpq1v74bzc7zbt6y0glm\" target=\"_blank\">\" 토트넘 선수들의 연애 전선은?\"</a></span><hr><p></p><p>이들만 있는 게 아니다. PSG 수문장 케일러 나바스는 레알의 UEFA 챔피언스리그 3연속 우승 주역이다. 디 마리아 또한 한 때 레알의 간판스타 중 하나였다. 나바스와 디 마리아의 경우 팀과의 작별이 썩 개운한 건 아니었다. 어쩌면 두 선수의 레알을 향한 복수혈전(?) 또한 이번 맞대결 볼거리 중 하나다. 특히 나바스의 경우 팀의 연속 우승을 돕고도 팽당했다(?)</p><p></p><p>레알 선수 중 페를랑 멩디의 경우 르아브르에서 프로 데뷔했지만, 유소년팀 시절 가장 오랜 기간 몸담았던 클럽이 PSG였다.</p><p></p><p>부상 회복세를 봐야 하지만, 음바페와 비니시우스 구도 이외에도 네이마르와 비니시우스로 이어지는 차세대 삼바 군단 에이스 더비 매치도 볼거리 중 하나다. 정말 볼거리 많은 매치업이다.</p><p></p><p>그래픽 = 골닷컴 글로벌 에디션</p>'"
            ],
            "application/vnd.google.colaboratory.intrinsic+json": {
              "type": "string"
            }
          },
          "metadata": {},
          "execution_count": 34
        }
      ]
    },
    {
      "cell_type": "code",
      "source": [
        "# SCORE_Ko가 가장 낮은 문서\n",
        "df.sort_values(by = 'SCORE_Ko').head(1)"
      ],
      "metadata": {
        "colab": {
          "base_uri": "https://localhost:8080/",
          "height": 159
        },
        "id": "Wc2Ic7EbSaZW",
        "outputId": "6abeac72-9380-463a-c79a-6dbe43a2968f"
      },
      "execution_count": 38,
      "outputs": [
        {
          "output_type": "execute_result",
          "data": {
            "text/plain": [
              "                                                CONTENT  \\\n",
              "6267  <p>[골닷컴, 수원] 강동훈 기자 = 수원 삼성 박건하 감독은 수원FC와의 시즌 ...   \n",
              "\n",
              "                                        TRUE_SUMMARY_Ko  \\\n",
              "6267  수원 삼성 박건하 감독 은 5일 오후 3시 수 원 월드컵경기 장 열린 수원 FC 와...   \n",
              "\n",
              "                                     PREDICT_SUMMARY_Ko  SCORE_Ko  \\\n",
              "6267  수원 삼성 박건하 감독 은 수원 FC 와의 시즌 마지막 경기 치른 후 올 한해 되돌...  0.810179   \n",
              "\n",
              "                     TRUE_SUMMARY_Title  \\\n",
              "6267  박건하 감독 롤러코스터 같은 한 해 파이널 A 진출 큰 수확   \n",
              "\n",
              "                                  PREDICT_SUMMARY_Title  SCORE_Title  \n",
              "6267  강동훈 기자 수원 삼성 박건하 감독 은 수원 FC 와의 시즌 마지막 경기 치른 후 ...     0.910286  "
            ],
            "text/html": [
              "\n",
              "  <div id=\"df-f495dc93-f028-4b59-a4de-eb8395eddf30\">\n",
              "    <div class=\"colab-df-container\">\n",
              "      <div>\n",
              "<style scoped>\n",
              "    .dataframe tbody tr th:only-of-type {\n",
              "        vertical-align: middle;\n",
              "    }\n",
              "\n",
              "    .dataframe tbody tr th {\n",
              "        vertical-align: top;\n",
              "    }\n",
              "\n",
              "    .dataframe thead th {\n",
              "        text-align: right;\n",
              "    }\n",
              "</style>\n",
              "<table border=\"1\" class=\"dataframe\">\n",
              "  <thead>\n",
              "    <tr style=\"text-align: right;\">\n",
              "      <th></th>\n",
              "      <th>CONTENT</th>\n",
              "      <th>TRUE_SUMMARY_Ko</th>\n",
              "      <th>PREDICT_SUMMARY_Ko</th>\n",
              "      <th>SCORE_Ko</th>\n",
              "      <th>TRUE_SUMMARY_Title</th>\n",
              "      <th>PREDICT_SUMMARY_Title</th>\n",
              "      <th>SCORE_Title</th>\n",
              "    </tr>\n",
              "  </thead>\n",
              "  <tbody>\n",
              "    <tr>\n",
              "      <th>6267</th>\n",
              "      <td>&lt;p&gt;[골닷컴, 수원] 강동훈 기자 = 수원 삼성 박건하 감독은 수원FC와의 시즌 ...</td>\n",
              "      <td>수원 삼성 박건하 감독 은 5일 오후 3시 수 원 월드컵경기 장 열린 수원 FC 와...</td>\n",
              "      <td>수원 삼성 박건하 감독 은 수원 FC 와의 시즌 마지막 경기 치른 후 올 한해 되돌...</td>\n",
              "      <td>0.810179</td>\n",
              "      <td>박건하 감독 롤러코스터 같은 한 해 파이널 A 진출 큰 수확</td>\n",
              "      <td>강동훈 기자 수원 삼성 박건하 감독 은 수원 FC 와의 시즌 마지막 경기 치른 후 ...</td>\n",
              "      <td>0.910286</td>\n",
              "    </tr>\n",
              "  </tbody>\n",
              "</table>\n",
              "</div>\n",
              "      <button class=\"colab-df-convert\" onclick=\"convertToInteractive('df-f495dc93-f028-4b59-a4de-eb8395eddf30')\"\n",
              "              title=\"Convert this dataframe to an interactive table.\"\n",
              "              style=\"display:none;\">\n",
              "        \n",
              "  <svg xmlns=\"http://www.w3.org/2000/svg\" height=\"24px\"viewBox=\"0 0 24 24\"\n",
              "       width=\"24px\">\n",
              "    <path d=\"M0 0h24v24H0V0z\" fill=\"none\"/>\n",
              "    <path d=\"M18.56 5.44l.94 2.06.94-2.06 2.06-.94-2.06-.94-.94-2.06-.94 2.06-2.06.94zm-11 1L8.5 8.5l.94-2.06 2.06-.94-2.06-.94L8.5 2.5l-.94 2.06-2.06.94zm10 10l.94 2.06.94-2.06 2.06-.94-2.06-.94-.94-2.06-.94 2.06-2.06.94z\"/><path d=\"M17.41 7.96l-1.37-1.37c-.4-.4-.92-.59-1.43-.59-.52 0-1.04.2-1.43.59L10.3 9.45l-7.72 7.72c-.78.78-.78 2.05 0 2.83L4 21.41c.39.39.9.59 1.41.59.51 0 1.02-.2 1.41-.59l7.78-7.78 2.81-2.81c.8-.78.8-2.07 0-2.86zM5.41 20L4 18.59l7.72-7.72 1.47 1.35L5.41 20z\"/>\n",
              "  </svg>\n",
              "      </button>\n",
              "      \n",
              "  <style>\n",
              "    .colab-df-container {\n",
              "      display:flex;\n",
              "      flex-wrap:wrap;\n",
              "      gap: 12px;\n",
              "    }\n",
              "\n",
              "    .colab-df-convert {\n",
              "      background-color: #E8F0FE;\n",
              "      border: none;\n",
              "      border-radius: 50%;\n",
              "      cursor: pointer;\n",
              "      display: none;\n",
              "      fill: #1967D2;\n",
              "      height: 32px;\n",
              "      padding: 0 0 0 0;\n",
              "      width: 32px;\n",
              "    }\n",
              "\n",
              "    .colab-df-convert:hover {\n",
              "      background-color: #E2EBFA;\n",
              "      box-shadow: 0px 1px 2px rgba(60, 64, 67, 0.3), 0px 1px 3px 1px rgba(60, 64, 67, 0.15);\n",
              "      fill: #174EA6;\n",
              "    }\n",
              "\n",
              "    [theme=dark] .colab-df-convert {\n",
              "      background-color: #3B4455;\n",
              "      fill: #D2E3FC;\n",
              "    }\n",
              "\n",
              "    [theme=dark] .colab-df-convert:hover {\n",
              "      background-color: #434B5C;\n",
              "      box-shadow: 0px 1px 3px 1px rgba(0, 0, 0, 0.15);\n",
              "      filter: drop-shadow(0px 1px 2px rgba(0, 0, 0, 0.3));\n",
              "      fill: #FFFFFF;\n",
              "    }\n",
              "  </style>\n",
              "\n",
              "      <script>\n",
              "        const buttonEl =\n",
              "          document.querySelector('#df-f495dc93-f028-4b59-a4de-eb8395eddf30 button.colab-df-convert');\n",
              "        buttonEl.style.display =\n",
              "          google.colab.kernel.accessAllowed ? 'block' : 'none';\n",
              "\n",
              "        async function convertToInteractive(key) {\n",
              "          const element = document.querySelector('#df-f495dc93-f028-4b59-a4de-eb8395eddf30');\n",
              "          const dataTable =\n",
              "            await google.colab.kernel.invokeFunction('convertToInteractive',\n",
              "                                                     [key], {});\n",
              "          if (!dataTable) return;\n",
              "\n",
              "          const docLinkHtml = 'Like what you see? Visit the ' +\n",
              "            '<a target=\"_blank\" href=https://colab.research.google.com/notebooks/data_table.ipynb>data table notebook</a>'\n",
              "            + ' to learn more about interactive tables.';\n",
              "          element.innerHTML = '';\n",
              "          dataTable['output_type'] = 'display_data';\n",
              "          await google.colab.output.renderOutput(dataTable, element);\n",
              "          const docLink = document.createElement('div');\n",
              "          docLink.innerHTML = docLinkHtml;\n",
              "          element.appendChild(docLink);\n",
              "        }\n",
              "      </script>\n",
              "    </div>\n",
              "  </div>\n",
              "  "
            ]
          },
          "metadata": {},
          "execution_count": 38
        }
      ]
    },
    {
      "cell_type": "code",
      "source": [
        "df['CONTENT'].loc[6267]"
      ],
      "metadata": {
        "colab": {
          "base_uri": "https://localhost:8080/",
          "height": 178
        },
        "id": "sy5Cq4osSnYW",
        "outputId": "3771a835-79d0-4671-8f6c-73302efe4141"
      },
      "execution_count": 39,
      "outputs": [
        {
          "output_type": "execute_result",
          "data": {
            "text/plain": [
              "'<p>[골닷컴, 수원] 강동훈 기자 = 수원 삼성 박건하 감독은 수원FC와의 시즌 마지막 경기를 치른 후 올 한해를 되돌아보면서 소감을 밝혔다.</p><p>수원은 5일 오후 3시 수원월드컵경기장에서 열린 수원FC와의 하나원큐 K리그1 2021 38라운드 원정경기에서 0-2로 패했다. 수원은 선제실점을 내준 뒤 곧바로 반격에 나섰으나 마무리 결정력에서 아쉬움을 드러냈다. 도리어 수비 집중력이 흔들려 추가골까지 헌납하면서 무너졌다.</p><p>이로써 수원은 승점 46점을 그대로 유지한 가운데 6위로 시즌을 마쳤다. 아울러 올 시즌 수원FC를 상대로 1무 3패, 한 차례도 이기지 못하면서 상대 전적 열세를 극복하지 못했다.</p><p>박건하 감독은 경기 후 기자회견에서 \"오늘 마지막 경기 승리가 필요했다고 생각하고, 승리하기 위해 준비했는데 생각대로 플레이가 원활하게 잘 풀리지 않았다. 선수들도 몸이 무거웠다. 상대 미드필더를 잡는 데 어려움을 겪어 경기를 끌려갔다. 하지만 실점 이후에 변화를 줘서 찬스가 있었는데 살리지 못했다. 그 점에서 추격에 실패했다. 아쉬운 마지막 경기라고 생각된다. 하지만 올 한 해 끝까지 수고한 선수들에게는 고생했다고, 고맙다고 말해주고 싶다\"고 총평했다.</p><p>올 시즌을 되돌아봤을 때 어땠는지에 대한 질문에는 \"감독 생활을 길게 한 것이 아니다. 올 한 해 많은 것을 느꼈고, 공부도 했다고 생각한다. 시즌을 운영하는 데 있어서 초반에 잘하고 있을 때, 또 위기가 있었을 때 어떻게 운영해야 하는지 배웠다. 중간에 공백기가 있었는데 어려움이 있기도 했다. 한 해 동안 롤러코스터와 같은 상황이지 않았나 생각된다. 많은 부분을 느끼고 배웠다\"고 이야기했다.</p><p>가장 큰 수확에 대해선 \"그동안 상위 스플릿에 들지 못했는데, 그 부분에 있어서 선수들이 자신감을 얻지 않았나 생각된다. 당연한 결과일 수도 있지만, 당연한 건 축구에 없다. 선수들과 상위 스플릿을 맞이한 부분이 긍정적이다. 또, 젊은 선수들의 성장도 긍정적이었다\"고 짚었다.</p><p></p>'"
            ],
            "application/vnd.google.colaboratory.intrinsic+json": {
              "type": "string"
            }
          },
          "metadata": {},
          "execution_count": 39
        }
      ]
    },
    {
      "cell_type": "code",
      "source": [
        "df['TRUE_SUMMARY_Ko'].loc[6267]"
      ],
      "metadata": {
        "colab": {
          "base_uri": "https://localhost:8080/",
          "height": 89
        },
        "id": "kLcyHb7ZSsq5",
        "outputId": "19fc6368-75e0-4b36-da8a-679f45ea5e97"
      },
      "execution_count": 40,
      "outputs": [
        {
          "output_type": "execute_result",
          "data": {
            "text/plain": [
              "'수원 삼성 박건하 감독 은 5일 오후 3시 수 원 월드컵경기 장 열린 수원 FC 와의 하나원 큐 K 리그 1 2021 38 라운드 원정 경기 0 0 0 0 0 0 0 0 0 0 0 0 0 0 0 0 0 0 0 0 0 0 0 0 0 0 0 0 0 0 0 0 0 0 0 0 0 0 0 0 0 0 0 0 0 0 0 0 0 0 0 0 0 0 0 0 0 0 0 0 0 0 0 0 0 0 0 0 0 0 0 0 0 0 0 0 0 0 0 0 0 0 0 0 0 0 0 0 0 0 0 0 0 0 0 0 0 0 0 0 0 0 0 0 0 0 0 0 0 0 0 0 0 0 0 0 0 0 0 0 0 0 0 0 0 0 0 0 0 0 0 0 0 0 0 0 0 0 0 0 0 0 0 0 0 0 0 0 0 0 0 0 0 0 0 0 0 0 0 0 0 0 0 0 0 0 0 0 0 0 0 0 0 0 0 0 0 0 0 0 0 0 0 0 0 0 0 0 0 0 0 0 0 0 0 0 0 0 0 0 0 0 0 0 0 0 0 0 0 0 0 0 0 0 0 0 0 0 0 0 0 0 0 0 0 0 0 0 0 0 0 0 0 0 0 0 0 0 0 0 0 0 0 0 0 0 0 0 0 0 0 0 0 0 0 0 0 0'"
            ],
            "application/vnd.google.colaboratory.intrinsic+json": {
              "type": "string"
            }
          },
          "metadata": {},
          "execution_count": 40
        }
      ]
    },
    {
      "cell_type": "code",
      "source": [
        "df['PREDICT_SUMMARY_Ko'].loc[6267]"
      ],
      "metadata": {
        "colab": {
          "base_uri": "https://localhost:8080/",
          "height": 53
        },
        "id": "ISIyZ6THSzi6",
        "outputId": "838019b2-6df4-4bac-dd3a-4632b2d7fee8"
      },
      "execution_count": 41,
      "outputs": [
        {
          "output_type": "execute_result",
          "data": {
            "text/plain": [
              "'수원 삼성 박건하 감독 은 수원 FC 와의 시즌 마지막 경기 치른 후 올 한해 되돌아보면서 소감 밝혔다 수원 은 5일 오후 3시 수 원 월드컵경기 장 열린 수원 FC 와의 하나원 큐 K 리그 1 2021 38 라운드 원정 경기 02 패'"
            ],
            "application/vnd.google.colaboratory.intrinsic+json": {
              "type": "string"
            }
          },
          "metadata": {},
          "execution_count": 41
        }
      ]
    },
    {
      "cell_type": "markdown",
      "source": [
        "- 정답라벨이 제대로 정제되지 않아 원문의 초반 두 문장을 예측한 결과"
      ],
      "metadata": {
        "id": "QuHqeRcjS9ba"
      }
    },
    {
      "cell_type": "code",
      "source": [
        "df['TRUE_SUMMARY_Title'].loc[6267]"
      ],
      "metadata": {
        "colab": {
          "base_uri": "https://localhost:8080/",
          "height": 36
        },
        "id": "POtbWaUATJ3t",
        "outputId": "3f82ccd8-a192-4590-e590-972d0e6e4d34"
      },
      "execution_count": 42,
      "outputs": [
        {
          "output_type": "execute_result",
          "data": {
            "text/plain": [
              "'박건하 감독 롤러코스터 같은 한 해 파이널 A 진출 큰 수확'"
            ],
            "application/vnd.google.colaboratory.intrinsic+json": {
              "type": "string"
            }
          },
          "metadata": {},
          "execution_count": 42
        }
      ]
    },
    {
      "cell_type": "code",
      "source": [
        "df['PREDICT_SUMMARY_Title'].loc[6267]"
      ],
      "metadata": {
        "colab": {
          "base_uri": "https://localhost:8080/",
          "height": 53
        },
        "id": "dF7J-N-iTNPC",
        "outputId": "960953ac-e10c-4f14-d2d4-47111000d6a1"
      },
      "execution_count": 43,
      "outputs": [
        {
          "output_type": "execute_result",
          "data": {
            "text/plain": [
              "'강동훈 기자 수원 삼성 박건하 감독 은 수원 FC 와의 시즌 마지막 경기 치른 후 올 한해 되돌아보면서 소감 밝혔다 수원 은 5일 오후 3시 수 원 월드컵경기 장 열린 수원 FC 와의 하나원 큐 K 리그 1 2021 38 라운드 원정 경기 02 패 박건하 감독 은 경기 후 기자회견 오늘 마지막 경기 승리 필요했다고 생각 하고 승리 하기 위해 준비 했는데 생각 대로 플레이 원활하게 잘 풀리지 않았'"
            ],
            "application/vnd.google.colaboratory.intrinsic+json": {
              "type": "string"
            }
          },
          "metadata": {},
          "execution_count": 43
        }
      ]
    },
    {
      "cell_type": "markdown",
      "source": [
        "- 제목을 라벨로 정한 케이스도 예측은 비슷하게 함"
      ],
      "metadata": {
        "id": "_dmKlS3RTSW4"
      }
    },
    {
      "cell_type": "code",
      "source": [
        "# SCORE_Title가 가장 낮은 문서\n",
        "df.sort_values(by = 'SCORE_Title').head(1)"
      ],
      "metadata": {
        "colab": {
          "base_uri": "https://localhost:8080/",
          "height": 159
        },
        "id": "UGrV-aw3TaD0",
        "outputId": "b29fc609-9848-4eb5-d5ed-7c6768360420"
      },
      "execution_count": 44,
      "outputs": [
        {
          "output_type": "execute_result",
          "data": {
            "text/plain": [
              "                                                CONTENT  \\\n",
              "3610  [스포탈코리아=축구회관] 전남 드래곤즈 전경준 감독이 불리한 조건을 딛고 플레이오프...   \n",
              "\n",
              "                                        TRUE_SUMMARY_Ko  \\\n",
              "3610  전남 드래곤즈 전경준 감독 은 3일 대 전 한밭 종합 운동장 대전 시티즌 상대로 하...   \n",
              "\n",
              "                                     PREDICT_SUMMARY_Ko  SCORE_Ko  \\\n",
              "3610  전남 드래곤즈 전경준 감독 불리한 조건 딛고 플레이오프 오르겠다고 자신감 드러냈다 ...  0.909692   \n",
              "\n",
              "                  TRUE_SUMMARY_Title          PREDICT_SUMMARY_Title  \\\n",
              "3610  간절한 전경준 감독 FA 컵 우승 보다 승격 하고 싶다  단판 승부 라 홈 더 좋다 단판 승부 라 홈 더 좋다   \n",
              "\n",
              "      SCORE_Title  \n",
              "3610     0.833816  "
            ],
            "text/html": [
              "\n",
              "  <div id=\"df-f216d0f8-a120-4baa-9871-5e659817a562\">\n",
              "    <div class=\"colab-df-container\">\n",
              "      <div>\n",
              "<style scoped>\n",
              "    .dataframe tbody tr th:only-of-type {\n",
              "        vertical-align: middle;\n",
              "    }\n",
              "\n",
              "    .dataframe tbody tr th {\n",
              "        vertical-align: top;\n",
              "    }\n",
              "\n",
              "    .dataframe thead th {\n",
              "        text-align: right;\n",
              "    }\n",
              "</style>\n",
              "<table border=\"1\" class=\"dataframe\">\n",
              "  <thead>\n",
              "    <tr style=\"text-align: right;\">\n",
              "      <th></th>\n",
              "      <th>CONTENT</th>\n",
              "      <th>TRUE_SUMMARY_Ko</th>\n",
              "      <th>PREDICT_SUMMARY_Ko</th>\n",
              "      <th>SCORE_Ko</th>\n",
              "      <th>TRUE_SUMMARY_Title</th>\n",
              "      <th>PREDICT_SUMMARY_Title</th>\n",
              "      <th>SCORE_Title</th>\n",
              "    </tr>\n",
              "  </thead>\n",
              "  <tbody>\n",
              "    <tr>\n",
              "      <th>3610</th>\n",
              "      <td>[스포탈코리아=축구회관] 전남 드래곤즈 전경준 감독이 불리한 조건을 딛고 플레이오프...</td>\n",
              "      <td>전남 드래곤즈 전경준 감독 은 3일 대 전 한밭 종합 운동장 대전 시티즌 상대로 하...</td>\n",
              "      <td>전남 드래곤즈 전경준 감독 불리한 조건 딛고 플레이오프 오르겠다고 자신감 드러냈다 ...</td>\n",
              "      <td>0.909692</td>\n",
              "      <td>간절한 전경준 감독 FA 컵 우승 보다 승격 하고 싶다</td>\n",
              "      <td>단판 승부 라 홈 더 좋다 단판 승부 라 홈 더 좋다</td>\n",
              "      <td>0.833816</td>\n",
              "    </tr>\n",
              "  </tbody>\n",
              "</table>\n",
              "</div>\n",
              "      <button class=\"colab-df-convert\" onclick=\"convertToInteractive('df-f216d0f8-a120-4baa-9871-5e659817a562')\"\n",
              "              title=\"Convert this dataframe to an interactive table.\"\n",
              "              style=\"display:none;\">\n",
              "        \n",
              "  <svg xmlns=\"http://www.w3.org/2000/svg\" height=\"24px\"viewBox=\"0 0 24 24\"\n",
              "       width=\"24px\">\n",
              "    <path d=\"M0 0h24v24H0V0z\" fill=\"none\"/>\n",
              "    <path d=\"M18.56 5.44l.94 2.06.94-2.06 2.06-.94-2.06-.94-.94-2.06-.94 2.06-2.06.94zm-11 1L8.5 8.5l.94-2.06 2.06-.94-2.06-.94L8.5 2.5l-.94 2.06-2.06.94zm10 10l.94 2.06.94-2.06 2.06-.94-2.06-.94-.94-2.06-.94 2.06-2.06.94z\"/><path d=\"M17.41 7.96l-1.37-1.37c-.4-.4-.92-.59-1.43-.59-.52 0-1.04.2-1.43.59L10.3 9.45l-7.72 7.72c-.78.78-.78 2.05 0 2.83L4 21.41c.39.39.9.59 1.41.59.51 0 1.02-.2 1.41-.59l7.78-7.78 2.81-2.81c.8-.78.8-2.07 0-2.86zM5.41 20L4 18.59l7.72-7.72 1.47 1.35L5.41 20z\"/>\n",
              "  </svg>\n",
              "      </button>\n",
              "      \n",
              "  <style>\n",
              "    .colab-df-container {\n",
              "      display:flex;\n",
              "      flex-wrap:wrap;\n",
              "      gap: 12px;\n",
              "    }\n",
              "\n",
              "    .colab-df-convert {\n",
              "      background-color: #E8F0FE;\n",
              "      border: none;\n",
              "      border-radius: 50%;\n",
              "      cursor: pointer;\n",
              "      display: none;\n",
              "      fill: #1967D2;\n",
              "      height: 32px;\n",
              "      padding: 0 0 0 0;\n",
              "      width: 32px;\n",
              "    }\n",
              "\n",
              "    .colab-df-convert:hover {\n",
              "      background-color: #E2EBFA;\n",
              "      box-shadow: 0px 1px 2px rgba(60, 64, 67, 0.3), 0px 1px 3px 1px rgba(60, 64, 67, 0.15);\n",
              "      fill: #174EA6;\n",
              "    }\n",
              "\n",
              "    [theme=dark] .colab-df-convert {\n",
              "      background-color: #3B4455;\n",
              "      fill: #D2E3FC;\n",
              "    }\n",
              "\n",
              "    [theme=dark] .colab-df-convert:hover {\n",
              "      background-color: #434B5C;\n",
              "      box-shadow: 0px 1px 3px 1px rgba(0, 0, 0, 0.15);\n",
              "      filter: drop-shadow(0px 1px 2px rgba(0, 0, 0, 0.3));\n",
              "      fill: #FFFFFF;\n",
              "    }\n",
              "  </style>\n",
              "\n",
              "      <script>\n",
              "        const buttonEl =\n",
              "          document.querySelector('#df-f216d0f8-a120-4baa-9871-5e659817a562 button.colab-df-convert');\n",
              "        buttonEl.style.display =\n",
              "          google.colab.kernel.accessAllowed ? 'block' : 'none';\n",
              "\n",
              "        async function convertToInteractive(key) {\n",
              "          const element = document.querySelector('#df-f216d0f8-a120-4baa-9871-5e659817a562');\n",
              "          const dataTable =\n",
              "            await google.colab.kernel.invokeFunction('convertToInteractive',\n",
              "                                                     [key], {});\n",
              "          if (!dataTable) return;\n",
              "\n",
              "          const docLinkHtml = 'Like what you see? Visit the ' +\n",
              "            '<a target=\"_blank\" href=https://colab.research.google.com/notebooks/data_table.ipynb>data table notebook</a>'\n",
              "            + ' to learn more about interactive tables.';\n",
              "          element.innerHTML = '';\n",
              "          dataTable['output_type'] = 'display_data';\n",
              "          await google.colab.output.renderOutput(dataTable, element);\n",
              "          const docLink = document.createElement('div');\n",
              "          docLink.innerHTML = docLinkHtml;\n",
              "          element.appendChild(docLink);\n",
              "        }\n",
              "      </script>\n",
              "    </div>\n",
              "  </div>\n",
              "  "
            ]
          },
          "metadata": {},
          "execution_count": 44
        }
      ]
    },
    {
      "cell_type": "code",
      "source": [
        "df['CONTENT'].loc[3610]"
      ],
      "metadata": {
        "colab": {
          "base_uri": "https://localhost:8080/",
          "height": 339
        },
        "id": "7xbZEA3qTgLu",
        "outputId": "cb0a6ac8-9da3-4ee1-f8de-02800e7e0302"
      },
      "execution_count": 45,
      "outputs": [
        {
          "output_type": "execute_result",
          "data": {
            "text/plain": [
              "'[스포탈코리아=축구회관] 전남 드래곤즈 전경준 감독이 불리한 조건을 딛고 플레이오프(PO)에 오르겠다고 자신감을 드러냈다.\\n\\n전경준 감독은 1일 진행된 준PO 기자회견에서 “승격을 위해 초반부터 열심히 했다. (순위가) 밀리다 보니 홈경기를 못하는 것이 아쉽다. 주어진 환경에서 최대한 우리가 할 수 있는 걸 하겠다. 선수들과 준비를 잘해서 승격에 노력하겠다”고 밝혔다.\\n\\n전남은 3일 대전한밭종합운동장에서 대전 하나시티즌을 상대로 하나원큐 K리그2 2021 준PO를 치른다. 이 경기 승자는 FC안양과 PO에서 만난다.\\n\\n전남은 준PO에 올랐지만 불리한 조건에서 싸운다. K리그2 PO는 정규리그 상위 순위인 홈팀이 무승부 결과만 내도 다음 경기에 진출한다. 대전은 3위로 홈경기를 하고 비기기만 해도 PO에 오른다. 반면 전남은 무조건 승리해야 한다.\\n\\n더구나 역대 준PO에서 원정팀이 승리한 경우는 2014년 단 한 차례다. 그 외는 홈팀이 이기거나 비겼다. 전경준 감독은 “순위 높은 팀이 혜택받아야 한다. 그 순위에 우리가 올라가지 못했다”면서 “90분 경기 결과가 어떻게 나올지 모른다. 불리한 요건을 우리가 최선을 다하면 달라질 수 있다”고 했다.\\n\\n그리고 “단판 승부라 홈이 더 좋다. 팬들 응원받는 것이 더 좋다. 우리 상황은 원정이지만 최대한 결과를 내는 것에 집중해야 한다”며 어려운 경기 속에서도 승리해서 PO에 오르겠다고 덧붙였다.\\n\\n전남은 FA컵 결승에도 진출했다. K리그1 승격과 FA컵 우승 중에서 하나만 선택하라는 질문에 “승격하고 싶다. 1부 가고 싶다”며 승격에 대한 간절한 의지를 드러냈다.\\n\\n<B>- 준PO를 앞둔 각오는?</B>\\n승격을 위해 초반부터 열심히 했다. (순위가) 밀리다 보니 홈경기를 못하는 것이 아쉽다. 주어진 환경에서 최대한 우리가 할 수 있는 걸 하겠다. 선수들과 준비를 잘해서 승격에 노력하겠다.\\n\\n<B>- 홈경기 팀이 유리한데?</B>\\n맞다. 순위 높은 팀이 혜택 받아야 한다. 그 순위에 우리가 올라가지 못했다. 90분 경기 결과가 어떻게 나올지 모른다. 불리한 요건을 우리가 최선을 다하면 달라질 수 있다. (24경기 무패를 하며) 우리가 원정에 강하다는 걸 모르다 나중에 알았다. 홈에서 그랬으면 더 좋았을 것이다. 단판승부라 홈이 더 좋다. 팬들 응원 받는 것이 더 좋다. 우리 상황은 원정이지만 최대한 결과를 내는 것에 집중해야 한다.\\n\\n<B>- 4위가 확정된 가운데 대전, 안양 모두 3위가 가능했다. 어느 쪽을 응원했나?</B>\\n선택을 우리가 할 수 있으면 얼마나 좋았겠나. 우리는 FA컵에 올인해야 한다. 거기에 대응해야 하고 어디가 더 좋다는 생각은 안 했다. 안양, 대전 다 좋은 팀이다. 어느 팀을 만나도 신경 안 쓰고 있다. 축구가 상대성이 있는데 단판전은 상대성보다는 그날 경기를 어떻게 하느냐에 좌우될 것이다.\\n\\n<B>- 상대보다 낫다고 생각하는 부분은?</B>\\n우리 최소 실점이고 공격도 힘을 실어야 한다. 그걸 연동할 수 있는 걸 선수들이 잘해주면 좋은 결과를 얻을 것이다.\\n\\n<B>- FA컵 우승과 승격 중에서 고른다면?</B>\\n승격하고 싶다. 1부 가고 싶다\\n\\n<B>- 최근 공격에서 좋은 활약을 하는 대전의 마사를 막아야 한다. 대전 이민성 감독은 전남이 대인 방어할 것이라고 말했는데?</B>\\n고려해보겠다.\\n\\n<B>- 올 시즌 좋은 활약을 하는 김현욱에게 조언은?</B>\\n따로 현욱이에게 해준 것은 없다. 워낙 자기 역할 잘 해주고 있다. 우리 팀에 절대적으로 필요한 선수다.\\n\\n<B>- 걱정하는 부분은?</B>\\n일정이 빡빡해서 선수들이 걱정이다. 우리가 치러야 하는 상황이고 부상 없이 최선을 다하고 싶다.\\n\\n<B>- 올해 마지막 K리그 경기가 될 수도 있는데 올해 시즌은 몇 점인가?</B>\\n지금부터 해야 할 경기에 결과를 내면 좋은 점수, 결과를 못 내면 50점 미만이 되지 않을까.\\n\\n<B>- 팀 내에서 미친 플레이를 하면 좋겠다는 선수는?</B>\\n김현욱이 리그에서 잘했는데 PO도 잘하면 팀에 플러스 요인이 될 것이다.\\n\\n<B>- 대전의 경계대상 선수는?</B>\\n대전은 좋은 선수가 포지션마다 있다. 어느 한 선수를 특정하기 어렵다. 팀으로서 어떻게 대응하느냐가 중요하다.\\n\\n사진=한국프로축구연맹'"
            ],
            "application/vnd.google.colaboratory.intrinsic+json": {
              "type": "string"
            }
          },
          "metadata": {},
          "execution_count": 45
        }
      ]
    },
    {
      "cell_type": "code",
      "source": [
        "df['TRUE_SUMMARY_Title'].loc[3610]"
      ],
      "metadata": {
        "colab": {
          "base_uri": "https://localhost:8080/",
          "height": 36
        },
        "id": "Y-6lftqbTkd9",
        "outputId": "0c6f055b-8d0d-4df1-ad46-d1ebee5ab700"
      },
      "execution_count": 47,
      "outputs": [
        {
          "output_type": "execute_result",
          "data": {
            "text/plain": [
              "'간절한 전경준 감독 FA 컵 우승 보다 승격 하고 싶다'"
            ],
            "application/vnd.google.colaboratory.intrinsic+json": {
              "type": "string"
            }
          },
          "metadata": {},
          "execution_count": 47
        }
      ]
    },
    {
      "cell_type": "code",
      "source": [
        "df['PREDICT_SUMMARY_Title'].loc[3610]"
      ],
      "metadata": {
        "colab": {
          "base_uri": "https://localhost:8080/",
          "height": 36
        },
        "id": "0TmXhECKTp7h",
        "outputId": "5f53e16f-b8a5-449c-da6f-1935b1033e97"
      },
      "execution_count": 48,
      "outputs": [
        {
          "output_type": "execute_result",
          "data": {
            "text/plain": [
              "'단판 승부 라 홈 더 좋다 단판 승부 라 홈 더 좋다'"
            ],
            "application/vnd.google.colaboratory.intrinsic+json": {
              "type": "string"
            }
          },
          "metadata": {},
          "execution_count": 48
        }
      ]
    },
    {
      "cell_type": "markdown",
      "source": [
        "- 같은 문장을 반복하여 예측함"
      ],
      "metadata": {
        "id": "ijFaeik1TvCs"
      }
    },
    {
      "cell_type": "code",
      "source": [
        "df['TRUE_SUMMARY_Ko'].loc[3610]"
      ],
      "metadata": {
        "colab": {
          "base_uri": "https://localhost:8080/",
          "height": 71
        },
        "id": "NfU0RmtoTzkv",
        "outputId": "652bb374-4746-4f4e-8b72-43a466b9f2b6"
      },
      "execution_count": 49,
      "outputs": [
        {
          "output_type": "execute_result",
          "data": {
            "text/plain": [
              "'전남 드래곤즈 전경준 감독 은 3일 대 전 한밭 종합 운동장 대전 시티즌 상대로 하나원 큐 K 리그 2 2021 준 PO 치른다 경기 승자 는 FC 안양 PO 만나며 전남 은 3 위로 홈 경기 하고 비기기만 해도 PO 오른다 전남 은 3일 대 전 한밭 종합 운동장 열리는 하나원 큐 K 리그 2 2021 준 PO 치른다 전남 은 3일 대 전 한밭 종합 운동장 대전 시티즌 상대로 하나원 큐 K 리그 2 2021 준 PO 치른다 경기 승자 는 FC 안양 PO 만난다 전남 은 3일 대 전 한밭 종합 운동장 열리는 하나원 큐 K 리그 2 2021 준 PO 치른다 경기 승자 는 FC 안양 PO 만난다'"
            ],
            "application/vnd.google.colaboratory.intrinsic+json": {
              "type": "string"
            }
          },
          "metadata": {},
          "execution_count": 49
        }
      ]
    },
    {
      "cell_type": "code",
      "source": [
        "df['PREDICT_SUMMARY_Ko'].loc[3610]"
      ],
      "metadata": {
        "colab": {
          "base_uri": "https://localhost:8080/",
          "height": 36
        },
        "id": "3fZSa3mfT2bI",
        "outputId": "80d00490-90a9-4ff3-d557-4c146427de25"
      },
      "execution_count": 50,
      "outputs": [
        {
          "output_type": "execute_result",
          "data": {
            "text/plain": [
              "'전남 드래곤즈 전경준 감독 불리한 조건 딛고 플레이오프 오르겠다고 자신감 드러냈다 전남 은 3일 대 전 한밭 종합 운동장 대전 시티즌 상대로 하나원 큐 K 리그 2 2021 준 PO 치른다'"
            ],
            "application/vnd.google.colaboratory.intrinsic+json": {
              "type": "string"
            }
          },
          "metadata": {},
          "execution_count": 50
        }
      ]
    },
    {
      "cell_type": "markdown",
      "source": [
        "- 제목으로 예측한 결과와 비슷하게 중복문장이 나타나는 오류가 라벨에서 발생\n",
        "- 오류가 있는 라벨로 학습하였으나 제목과 가까운 예측 -> 원문, 정답라벨, 예측값 모두를 고려한 metric 덕분일 듯"
      ],
      "metadata": {
        "id": "ufQUcOliUFCG"
      }
    },
    {
      "cell_type": "code",
      "source": [
        "# 두 라벨에서 점수가 높게 나오는 문서\n",
        "df.sort_values(by = 'SCORE_Ko', ascending = False).head(20).sort_values(by = 'SCORE_Title', ascending = False).head(5)"
      ],
      "metadata": {
        "colab": {
          "base_uri": "https://localhost:8080/",
          "height": 510
        },
        "id": "VLPZ97EYR3X-",
        "outputId": "7d22b104-9193-4819-f8d0-1bb1d37b9687"
      },
      "execution_count": 36,
      "outputs": [
        {
          "output_type": "execute_result",
          "data": {
            "text/plain": [
              "                                                CONTENT  \\\n",
              "5330  [스포탈코리아] 한국프로축구연맹(이하 '연맹')은 14일 제20차 상벌위원회를 개최...   \n",
              "3119  [스포탈코리아] 올 여름 세리에A를 떠날 것으로 보였던 크리스티아누 호날두가 일단 ...   \n",
              "2247  [스포탈코리아] 디에고 코스타(아틀레치쿠 미네이루)가 승부 조작 혐의로 경찰 조사를...   \n",
              "4752  [스포탈코리아] 토트넘 홋스퍼에 위기가 왔다. 선수 2명이 신종 코로나바이러스감염증...   \n",
              "4760  [스포탈코리아] 토트넘 홋스퍼에서 손흥민의 절친한 동료로 잘 알려진 무사 시소코(3...   \n",
              "\n",
              "                                        TRUE_SUMMARY_Ko  \\\n",
              "5330  한국 프로축구 연맹 은 14일 20 차 상벌 위원회 개최 하여 지난 9월 14일 서...   \n",
              "3119  올 여름 세리에 A 떠날 보였던 크리스티아누 호날두 유벤투스 잔류 한 다라 고 스페...   \n",
              "2247  스페인 매체 매체 마르카 는 최근 브라질 세르 지 페 주 연방 경찰 온라인 베팅 사...   \n",
              "4752  토트넘 홋스퍼 위기 왔다 선수 2 명 신종 코로나바이러스 감염증 양성 반응 받았다면...   \n",
              "4760  토트넘 홋스퍼 손흥민 절친 한 동료 잘 알려진 무사 시소코 왓포드 유니폼 입었으며 ...   \n",
              "\n",
              "                                     PREDICT_SUMMARY_Ko  SCORE_Ko  \\\n",
              "5330  한국 프로축구 연맹 은 14일 20 차 상벌 위원회 개최 하여 FC 안양 김태훈 선...  0.968198   \n",
              "3119  올 여름 세리에 A 떠날 보였던 크리스티아누 호날두 유벤투스 잔류 한다 스페인 매체...  0.962833   \n",
              "2247  디에고 코 스타 승부 조작 혐의 경찰 조사 받고 있어 충격 주고 최근 브라질 세르 ...  0.964602   \n",
              "4752  토트넘 홋스퍼 위기 왔다 선수 2 명 신종 코로나바이러스 감염증 양성 반응 나왔다 ...  0.966655   \n",
              "4760  토트넘 홋스퍼 손흥민 절친 한 동료 잘 알려진 무사 시소코 왓포드 유니폼 입었다 계...  0.969179   \n",
              "\n",
              "                         TRUE_SUMMARY_Title  \\\n",
              "5330         심폐소생술 생명 구한 안양 김태훈 K 리그 표창 받는다   \n",
              "3119     호날두 시즌 도 유벤투스 서 뛴다 ... FA 가능성 은 존재   \n",
              "2247      디에고 코 스타 승부 조작 불법 도박 혐의 브라질 경찰 조사   \n",
              "4752  위기 닥친 토트넘 선수 2 명 코로나 19 확진 3 경기 결장 예정   \n",
              "4760        손흥민 절친 동료 왓포드 이적 2년 계약 이적 료 40억   \n",
              "\n",
              "                                  PREDICT_SUMMARY_Title  SCORE_Title  \n",
              "5330  한국 프로축구 연맹 은 14일 20 차 상벌 위원회 개최 하여 FC 안양 김태훈 선...     0.945062  \n",
              "3119  올 여름 세리에 A 떠날 보였던 크리스티아누 호날두 유벤투스 잔류 한다 스페인 매체...     0.941718  \n",
              "2247  디에고 코스 타가 승부 조작 혐의 경찰 조사 받고 있어 충격 주고 경찰 수사 대상 ...     0.939581  \n",
              "4752      토트넘 홋스퍼 위기 왔다 선수 2 명 신종 코로나바이러스 감염증 양성 반응 나왔다     0.937769  \n",
              "4760  토트넘 홋스퍼 손흥민 절친 한 동료 잘 알려진 무사 시소코 왓포드 유니폼 입었다 프...     0.937098  "
            ],
            "text/html": [
              "\n",
              "  <div id=\"df-5bc2b464-c64d-4ee3-be56-33bba4ac5dd7\">\n",
              "    <div class=\"colab-df-container\">\n",
              "      <div>\n",
              "<style scoped>\n",
              "    .dataframe tbody tr th:only-of-type {\n",
              "        vertical-align: middle;\n",
              "    }\n",
              "\n",
              "    .dataframe tbody tr th {\n",
              "        vertical-align: top;\n",
              "    }\n",
              "\n",
              "    .dataframe thead th {\n",
              "        text-align: right;\n",
              "    }\n",
              "</style>\n",
              "<table border=\"1\" class=\"dataframe\">\n",
              "  <thead>\n",
              "    <tr style=\"text-align: right;\">\n",
              "      <th></th>\n",
              "      <th>CONTENT</th>\n",
              "      <th>TRUE_SUMMARY_Ko</th>\n",
              "      <th>PREDICT_SUMMARY_Ko</th>\n",
              "      <th>SCORE_Ko</th>\n",
              "      <th>TRUE_SUMMARY_Title</th>\n",
              "      <th>PREDICT_SUMMARY_Title</th>\n",
              "      <th>SCORE_Title</th>\n",
              "    </tr>\n",
              "  </thead>\n",
              "  <tbody>\n",
              "    <tr>\n",
              "      <th>5330</th>\n",
              "      <td>[스포탈코리아] 한국프로축구연맹(이하 '연맹')은 14일 제20차 상벌위원회를 개최...</td>\n",
              "      <td>한국 프로축구 연맹 은 14일 20 차 상벌 위원회 개최 하여 지난 9월 14일 서...</td>\n",
              "      <td>한국 프로축구 연맹 은 14일 20 차 상벌 위원회 개최 하여 FC 안양 김태훈 선...</td>\n",
              "      <td>0.968198</td>\n",
              "      <td>심폐소생술 생명 구한 안양 김태훈 K 리그 표창 받는다</td>\n",
              "      <td>한국 프로축구 연맹 은 14일 20 차 상벌 위원회 개최 하여 FC 안양 김태훈 선...</td>\n",
              "      <td>0.945062</td>\n",
              "    </tr>\n",
              "    <tr>\n",
              "      <th>3119</th>\n",
              "      <td>[스포탈코리아] 올 여름 세리에A를 떠날 것으로 보였던 크리스티아누 호날두가 일단 ...</td>\n",
              "      <td>올 여름 세리에 A 떠날 보였던 크리스티아누 호날두 유벤투스 잔류 한 다라 고 스페...</td>\n",
              "      <td>올 여름 세리에 A 떠날 보였던 크리스티아누 호날두 유벤투스 잔류 한다 스페인 매체...</td>\n",
              "      <td>0.962833</td>\n",
              "      <td>호날두 시즌 도 유벤투스 서 뛴다 ... FA 가능성 은 존재</td>\n",
              "      <td>올 여름 세리에 A 떠날 보였던 크리스티아누 호날두 유벤투스 잔류 한다 스페인 매체...</td>\n",
              "      <td>0.941718</td>\n",
              "    </tr>\n",
              "    <tr>\n",
              "      <th>2247</th>\n",
              "      <td>[스포탈코리아] 디에고 코스타(아틀레치쿠 미네이루)가 승부 조작 혐의로 경찰 조사를...</td>\n",
              "      <td>스페인 매체 매체 마르카 는 최근 브라질 세르 지 페 주 연방 경찰 온라인 베팅 사...</td>\n",
              "      <td>디에고 코 스타 승부 조작 혐의 경찰 조사 받고 있어 충격 주고 최근 브라질 세르 ...</td>\n",
              "      <td>0.964602</td>\n",
              "      <td>디에고 코 스타 승부 조작 불법 도박 혐의 브라질 경찰 조사</td>\n",
              "      <td>디에고 코스 타가 승부 조작 혐의 경찰 조사 받고 있어 충격 주고 경찰 수사 대상 ...</td>\n",
              "      <td>0.939581</td>\n",
              "    </tr>\n",
              "    <tr>\n",
              "      <th>4752</th>\n",
              "      <td>[스포탈코리아] 토트넘 홋스퍼에 위기가 왔다. 선수 2명이 신종 코로나바이러스감염증...</td>\n",
              "      <td>토트넘 홋스퍼 위기 왔다 선수 2 명 신종 코로나바이러스 감염증 양성 반응 받았다면...</td>\n",
              "      <td>토트넘 홋스퍼 위기 왔다 선수 2 명 신종 코로나바이러스 감염증 양성 반응 나왔다 ...</td>\n",
              "      <td>0.966655</td>\n",
              "      <td>위기 닥친 토트넘 선수 2 명 코로나 19 확진 3 경기 결장 예정</td>\n",
              "      <td>토트넘 홋스퍼 위기 왔다 선수 2 명 신종 코로나바이러스 감염증 양성 반응 나왔다</td>\n",
              "      <td>0.937769</td>\n",
              "    </tr>\n",
              "    <tr>\n",
              "      <th>4760</th>\n",
              "      <td>[스포탈코리아] 토트넘 홋스퍼에서 손흥민의 절친한 동료로 잘 알려진 무사 시소코(3...</td>\n",
              "      <td>토트넘 홋스퍼 손흥민 절친 한 동료 잘 알려진 무사 시소코 왓포드 유니폼 입었으며 ...</td>\n",
              "      <td>토트넘 홋스퍼 손흥민 절친 한 동료 잘 알려진 무사 시소코 왓포드 유니폼 입었다 계...</td>\n",
              "      <td>0.969179</td>\n",
              "      <td>손흥민 절친 동료 왓포드 이적 2년 계약 이적 료 40억</td>\n",
              "      <td>토트넘 홋스퍼 손흥민 절친 한 동료 잘 알려진 무사 시소코 왓포드 유니폼 입었다 프...</td>\n",
              "      <td>0.937098</td>\n",
              "    </tr>\n",
              "  </tbody>\n",
              "</table>\n",
              "</div>\n",
              "      <button class=\"colab-df-convert\" onclick=\"convertToInteractive('df-5bc2b464-c64d-4ee3-be56-33bba4ac5dd7')\"\n",
              "              title=\"Convert this dataframe to an interactive table.\"\n",
              "              style=\"display:none;\">\n",
              "        \n",
              "  <svg xmlns=\"http://www.w3.org/2000/svg\" height=\"24px\"viewBox=\"0 0 24 24\"\n",
              "       width=\"24px\">\n",
              "    <path d=\"M0 0h24v24H0V0z\" fill=\"none\"/>\n",
              "    <path d=\"M18.56 5.44l.94 2.06.94-2.06 2.06-.94-2.06-.94-.94-2.06-.94 2.06-2.06.94zm-11 1L8.5 8.5l.94-2.06 2.06-.94-2.06-.94L8.5 2.5l-.94 2.06-2.06.94zm10 10l.94 2.06.94-2.06 2.06-.94-2.06-.94-.94-2.06-.94 2.06-2.06.94z\"/><path d=\"M17.41 7.96l-1.37-1.37c-.4-.4-.92-.59-1.43-.59-.52 0-1.04.2-1.43.59L10.3 9.45l-7.72 7.72c-.78.78-.78 2.05 0 2.83L4 21.41c.39.39.9.59 1.41.59.51 0 1.02-.2 1.41-.59l7.78-7.78 2.81-2.81c.8-.78.8-2.07 0-2.86zM5.41 20L4 18.59l7.72-7.72 1.47 1.35L5.41 20z\"/>\n",
              "  </svg>\n",
              "      </button>\n",
              "      \n",
              "  <style>\n",
              "    .colab-df-container {\n",
              "      display:flex;\n",
              "      flex-wrap:wrap;\n",
              "      gap: 12px;\n",
              "    }\n",
              "\n",
              "    .colab-df-convert {\n",
              "      background-color: #E8F0FE;\n",
              "      border: none;\n",
              "      border-radius: 50%;\n",
              "      cursor: pointer;\n",
              "      display: none;\n",
              "      fill: #1967D2;\n",
              "      height: 32px;\n",
              "      padding: 0 0 0 0;\n",
              "      width: 32px;\n",
              "    }\n",
              "\n",
              "    .colab-df-convert:hover {\n",
              "      background-color: #E2EBFA;\n",
              "      box-shadow: 0px 1px 2px rgba(60, 64, 67, 0.3), 0px 1px 3px 1px rgba(60, 64, 67, 0.15);\n",
              "      fill: #174EA6;\n",
              "    }\n",
              "\n",
              "    [theme=dark] .colab-df-convert {\n",
              "      background-color: #3B4455;\n",
              "      fill: #D2E3FC;\n",
              "    }\n",
              "\n",
              "    [theme=dark] .colab-df-convert:hover {\n",
              "      background-color: #434B5C;\n",
              "      box-shadow: 0px 1px 3px 1px rgba(0, 0, 0, 0.15);\n",
              "      filter: drop-shadow(0px 1px 2px rgba(0, 0, 0, 0.3));\n",
              "      fill: #FFFFFF;\n",
              "    }\n",
              "  </style>\n",
              "\n",
              "      <script>\n",
              "        const buttonEl =\n",
              "          document.querySelector('#df-5bc2b464-c64d-4ee3-be56-33bba4ac5dd7 button.colab-df-convert');\n",
              "        buttonEl.style.display =\n",
              "          google.colab.kernel.accessAllowed ? 'block' : 'none';\n",
              "\n",
              "        async function convertToInteractive(key) {\n",
              "          const element = document.querySelector('#df-5bc2b464-c64d-4ee3-be56-33bba4ac5dd7');\n",
              "          const dataTable =\n",
              "            await google.colab.kernel.invokeFunction('convertToInteractive',\n",
              "                                                     [key], {});\n",
              "          if (!dataTable) return;\n",
              "\n",
              "          const docLinkHtml = 'Like what you see? Visit the ' +\n",
              "            '<a target=\"_blank\" href=https://colab.research.google.com/notebooks/data_table.ipynb>data table notebook</a>'\n",
              "            + ' to learn more about interactive tables.';\n",
              "          element.innerHTML = '';\n",
              "          dataTable['output_type'] = 'display_data';\n",
              "          await google.colab.output.renderOutput(dataTable, element);\n",
              "          const docLink = document.createElement('div');\n",
              "          docLink.innerHTML = docLinkHtml;\n",
              "          element.appendChild(docLink);\n",
              "        }\n",
              "      </script>\n",
              "    </div>\n",
              "  </div>\n",
              "  "
            ]
          },
          "metadata": {},
          "execution_count": 36
        }
      ]
    },
    {
      "cell_type": "markdown",
      "source": [
        "- 두 예측 라벨이 거의 비슷하고, 원문의 시작 문장과도 일치함"
      ],
      "metadata": {
        "id": "uK9Qp6duVnfo"
      }
    }
  ]
}